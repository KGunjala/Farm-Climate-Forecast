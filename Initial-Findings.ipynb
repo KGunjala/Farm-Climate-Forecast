{
 "cells": [
  {
   "cell_type": "code",
   "execution_count": 79,
   "metadata": {},
   "outputs": [],
   "source": [
    "import os\n",
    "import numpy as np\n",
    "import pandas as pd\n",
    "from datetime import datetime\n",
    "from matplotlib import pyplot\n",
    "from statistics import mean\n",
    "import matplotlib.pyplot as plt\n",
    "%matplotlib inline\n",
    "from scipy.special import logsumexp\n",
    "from sklearn.preprocessing import StandardScaler\n",
    "from statsmodels.tsa.vector_ar.vecm import coint_johansen\n",
    "import statsmodels.tsa.stattools as ts\n",
    "from statsmodels.tsa.statespace.varmax import VARMAX\n",
    "from statsmodels.tsa.api import VAR\n",
    "from statsmodels.tsa.stattools import adfuller,kpss\n",
    "from statsmodels.tools.eval_measures import rmse, aic\n",
    "from statsmodels.tsa.stattools import grangercausalitytests\n",
    "from statsmodels.stats.stattools import durbin_watson\n",
    "from statsmodels.graphics.tsaplots import plot_acf\n",
    "from statsmodels.graphics.tsaplots import plot_pacf\n",
    "from statsmodels.tsa.seasonal import seasonal_decompose\n",
    "from statsmodels.tsa.stattools import acf"
   ]
  },
  {
   "cell_type": "code",
   "execution_count": 3,
   "metadata": {},
   "outputs": [],
   "source": [
    "os.chdir('C:/Users/sidew/Desktop/Fasal/assessment/')"
   ]
  },
  {
   "cell_type": "code",
   "execution_count": 4,
   "metadata": {},
   "outputs": [],
   "source": [
    "\"Evaluation helper function\"\n",
    "\n",
    "def forecast_accuracy(forecast, actual):\n",
    "    mape = np.mean(np.abs(forecast - actual)/np.abs(actual))  # MAPE\n",
    "    me = np.mean(forecast - actual)             # ME\n",
    "    mae = np.mean(np.abs(forecast - actual))    # MAE\n",
    "    mpe = np.mean((forecast - actual)/actual)   # MPE\n",
    "    rmse = np.mean((forecast - actual)**2)**.5  # RMSE\n",
    "    corr = np.corrcoef(forecast, actual)[0,1]   # corr\n",
    "    mins = np.amin(np.hstack([forecast[:,None], \n",
    "                              actual[:,None]]), axis=1)\n",
    "    maxs = np.amax(np.hstack([forecast[:,None], \n",
    "                              actual[:,None]]), axis=1)\n",
    "    minmax = 1 - np.mean(mins/maxs)             # minmax\n",
    "    return({'mape':mape, 'me':me, 'mae': mae, \n",
    "            'mpe': mpe, 'rmse':rmse, 'corr':corr, 'minmax':minmax})"
   ]
  },
  {
   "cell_type": "code",
   "execution_count": 174,
   "metadata": {},
   "outputs": [],
   "source": [
    "\"Granger Causality test helper function\"\n",
    "\n",
    "maxlag=24\n",
    "test = 'ssr_ftest'\n",
    "def grangers_causation_matrix(data, variables, test='ssr_ftest', verbose=False):    \n",
    "\n",
    "    df = pd.DataFrame(np.zeros((len(variables), len(variables))), columns=variables, index=variables)\n",
    "    for c in df.columns:\n",
    "        for r in df.index:\n",
    "            test_result = grangercausalitytests(data[[r, c]], maxlag=maxlag, verbose=False)\n",
    "            p_values = [round(test_result[i+1][0][test][1],4) for i in range(maxlag)]\n",
    "            if verbose: print(f'Y = {r}, X = {c}, P Values = {p_values}')\n",
    "            min_p_value = np.min(p_values)\n",
    "            df.loc[r, c] = min_p_value\n",
    "    df.columns = [var + '_x' for var in variables]\n",
    "    df.index = [var + '_y' for var in variables]\n",
    "    return df"
   ]
  },
  {
   "cell_type": "code",
   "execution_count": 171,
   "metadata": {},
   "outputs": [],
   "source": [
    "\"Johansen's cointegration test helper function\"\n",
    "\n",
    "def cointegration_test(df, alpha=0.05): \n",
    "    \"\"\"Perform Johanson's Cointegration Test and Report Summary\"\"\"\n",
    "    out = coint_johansen(df,-1,24)\n",
    "    d = {'0.90':0, '0.95':1, '0.99':2}\n",
    "    traces = out.lr1\n",
    "    cvts = out.cvt[:, d[str(1-alpha)]]\n",
    "    def adjust(val, length= 6): return str(val).ljust(length)\n",
    "\n",
    "    # Summary\n",
    "    print('Name   ::  Test Stat > C(95%)    =>   Signif  \\n', '--'*20)\n",
    "    for col, trace, cvt in zip(df.columns, traces, cvts):\n",
    "        print(adjust(col), ':: ', adjust(round(trace,2), 9), \">\", adjust(cvt, 8), ' =>  ' , trace > cvt)"
   ]
  },
  {
   "cell_type": "markdown",
   "metadata": {},
   "source": [
    " "
   ]
  },
  {
   "cell_type": "markdown",
   "metadata": {},
   "source": [
    "### IOT DATA"
   ]
  },
  {
   "cell_type": "code",
   "execution_count": 7,
   "metadata": {},
   "outputs": [],
   "source": [
    "iot = pd.read_csv('plot2-IoT Sensor Data.csv')"
   ]
  },
  {
   "cell_type": "code",
   "execution_count": 8,
   "metadata": {},
   "outputs": [],
   "source": [
    "iot_hum = iot[iot['sensor'] == 'HUM']\n",
    "iot_temp = iot[iot['sensor'] == 'TC']\n",
    "iot_pres = iot[iot['sensor'] == 'PRES']"
   ]
  },
  {
   "cell_type": "markdown",
   "metadata": {},
   "source": [
    "Considering timestamp only until the minutes part "
   ]
  },
  {
   "cell_type": "code",
   "execution_count": 9,
   "metadata": {},
   "outputs": [
    {
     "name": "stderr",
     "output_type": "stream",
     "text": [
      "C:\\Users\\sidew\\Anaconda3\\lib\\site-packages\\ipykernel_launcher.py:1: SettingWithCopyWarning: \n",
      "A value is trying to be set on a copy of a slice from a DataFrame.\n",
      "Try using .loc[row_indexer,col_indexer] = value instead\n",
      "\n",
      "See the caveats in the documentation: http://pandas.pydata.org/pandas-docs/stable/user_guide/indexing.html#returning-a-view-versus-a-copy\n",
      "  \"\"\"Entry point for launching an IPython kernel.\n",
      "C:\\Users\\sidew\\Anaconda3\\lib\\site-packages\\ipykernel_launcher.py:2: SettingWithCopyWarning: \n",
      "A value is trying to be set on a copy of a slice from a DataFrame.\n",
      "Try using .loc[row_indexer,col_indexer] = value instead\n",
      "\n",
      "See the caveats in the documentation: http://pandas.pydata.org/pandas-docs/stable/user_guide/indexing.html#returning-a-view-versus-a-copy\n",
      "  \n",
      "C:\\Users\\sidew\\Anaconda3\\lib\\site-packages\\ipykernel_launcher.py:3: SettingWithCopyWarning: \n",
      "A value is trying to be set on a copy of a slice from a DataFrame.\n",
      "Try using .loc[row_indexer,col_indexer] = value instead\n",
      "\n",
      "See the caveats in the documentation: http://pandas.pydata.org/pandas-docs/stable/user_guide/indexing.html#returning-a-view-versus-a-copy\n",
      "  This is separate from the ipykernel package so we can avoid doing imports until\n"
     ]
    }
   ],
   "source": [
    "iot_pres['date-hr'] = [i[0:16] for i in iot_pres['datetime']]\n",
    "iot_hum['date-hr'] = [i[0:16] for i in iot_hum['datetime']]\n",
    "iot_temp['date-hr'] = [i[0:16] for i in iot_temp['datetime']]"
   ]
  },
  {
   "cell_type": "markdown",
   "metadata": {},
   "source": [
    "Combining pressure, temperature, and humidity sensor data in a single row for each hour"
   ]
  },
  {
   "cell_type": "code",
   "execution_count": 10,
   "metadata": {},
   "outputs": [],
   "source": [
    "iot_1 = pd.merge(iot_pres, iot_hum, on = 'date-hr', how = 'inner')\n",
    "iot_fin = pd.merge(iot_temp, iot_1, on = 'date-hr', how = 'inner')"
   ]
  },
  {
   "cell_type": "code",
   "execution_count": 11,
   "metadata": {},
   "outputs": [],
   "source": [
    "iot_fin.columns = ['tem','temp','giv_datetime','datetime','pr','pres','giv2','hu','hum','giv3']"
   ]
  },
  {
   "cell_type": "code",
   "execution_count": 12,
   "metadata": {},
   "outputs": [],
   "source": [
    "iot_fin = iot_fin[['datetime','temp','pres','hum']]\n",
    "iot_fin['date'] = [i[0:10] for i in iot_fin['datetime']]"
   ]
  },
  {
   "cell_type": "markdown",
   "metadata": {},
   "source": [
    "<B>AUTOCORRELATION FUNCTION PLOTS (ACF) FOR IOT SENSOR DATA<B>"
   ]
  },
  {
   "cell_type": "code",
   "execution_count": 13,
   "metadata": {},
   "outputs": [
    {
     "data": {
      "image/png": "[encoded data removed]",
      "text/plain": [
       "<Figure size 432x288 with 1 Axes>"
      ]
     },
     "metadata": {
      "needs_background": "light"
     },
     "output_type": "display_data"
    }
   ],
   "source": [
    "plot_acf(iot_fin['hum'], lags = 50)\n",
    "pyplot.show()"
   ]
  },
  {
   "cell_type": "markdown",
   "metadata": {},
   "source": [
    "<B>PARTIAL AUTOCORRELATION FUNCTION PLOTS FOR IOT SENSOR DATA <B>"
   ]
  },
  {
   "cell_type": "code",
   "execution_count": 14,
   "metadata": {
    "scrolled": true
   },
   "outputs": [
    {
     "data": {
      "image/png": "[encoded data removed]",
      "text/plain": [
       "<Figure size 432x288 with 1 Axes>"
      ]
     },
     "metadata": {
      "needs_background": "light"
     },
     "output_type": "display_data"
    }
   ],
   "source": [
    "plot_pacf(iot_fin['hum'],lags = 50)\n",
    "pyplot.show()"
   ]
  },
  {
   "cell_type": "code",
   "execution_count": null,
   "metadata": {},
   "outputs": [],
   "source": []
  },
  {
   "cell_type": "markdown",
   "metadata": {},
   "source": [
    "### SOURCE 1 AND 2"
   ]
  },
  {
   "cell_type": "code",
   "execution_count": 15,
   "metadata": {},
   "outputs": [],
   "source": [
    "source1 = pd.read_csv('plot2-Source 1 Weather.csv')\n",
    "source2 = pd.read_csv('plot2-Source 2 Weather.csv')"
   ]
  },
  {
   "cell_type": "code",
   "execution_count": 16,
   "metadata": {},
   "outputs": [],
   "source": [
    "source1['date'] = [i[0:10] for i in source1['datetime']]\n",
    "source2['date'] = [i[0:10] for i in source2['datetime']]"
   ]
  },
  {
   "cell_type": "code",
   "execution_count": 17,
   "metadata": {},
   "outputs": [],
   "source": [
    "source1_temp = source1[['value','datetime','date']][source1['sensor'] == 'TC']\n",
    "source2_temp = source2[['value','datetime','date']][source2['sensor'] == 'TC']\n",
    "\n",
    "source1_pres = source1[['value','datetime','date']][source1['sensor'] == 'PRES']\n",
    "source2_pres = source2[['value','datetime','date']][source2['sensor'] == 'PRES']\n",
    "\n",
    "source1_hum = source1[['value','datetime','date']][source1['sensor'] == 'HUM']\n",
    "source2_hum = source2[['value','datetime','date']][source2['sensor'] == 'HUM']"
   ]
  },
  {
   "cell_type": "markdown",
   "metadata": {},
   "source": [
    "<B>Reshaping Data in Source-1 and Source-2 Datasets to align data from the same hour<B>"
   ]
  },
  {
   "cell_type": "code",
   "execution_count": 18,
   "metadata": {},
   "outputs": [],
   "source": [
    "source_1tp = pd.merge(source1_temp, source1_pres, on = 'datetime', how = 'inner')\n",
    "source_1tp.columns = ['temp','datetime','date','pres','giv1']\n",
    "source_1 = pd.merge(source_1tp, source1_hum, on = 'datetime', how = 'inner')\n",
    "\n",
    "source_2tp = pd.merge(source2_temp, source2_pres, on = 'datetime', how = 'inner')\n",
    "source_2tp.columns = ['temp','datetime','date','pres','giv1']\n",
    "source_2 = pd.merge(source_2tp, source2_hum, on = 'datetime', how = 'inner')"
   ]
  },
  {
   "cell_type": "code",
   "execution_count": 19,
   "metadata": {},
   "outputs": [],
   "source": [
    "source_1 = source_1[['datetime','date_x','temp','pres','value']]\n",
    "source_1.columns = ['datetime','date','temp','pres','hum']\n",
    "\n",
    "source_2 = source_2[['datetime','date_x','temp','pres','value']]\n",
    "source_2.columns = ['datetime','date','temp','pres','hum']"
   ]
  },
  {
   "cell_type": "markdown",
   "metadata": {},
   "source": [
    "<B> Introducing Month, Day, and Hour columns in IOT, SOURCE-1, and SOURCE-2 <B>"
   ]
  },
  {
   "cell_type": "code",
   "execution_count": 20,
   "metadata": {},
   "outputs": [],
   "source": [
    "source_2['month'] = [int(i[5:7]) for i in source_2['datetime']]\n",
    "source_1['month'] = [int(i[5:7]) for i in source_1['datetime']]\n",
    "iot_fin['month'] = [int(i[5:7]) for i in iot_fin['datetime']]\n",
    "\n",
    "source_2['day'] = [int(i[8:10]) for i in source_2['datetime']]\n",
    "source_1['day'] = [int(i[8:10]) for i in source_1['datetime']]\n",
    "iot_fin['day'] = [int(i[8:10]) for i in iot_fin['datetime']]\n",
    "\n",
    "source_2['hour'] = [int(i[11:13]) for i in source_2['datetime']]\n",
    "source_1['hour'] = [int(i[11:13]) for i in source_1['datetime']]\n",
    "iot_fin['hour'] = [int(i[11:13]) for i in iot_fin['datetime']]"
   ]
  },
  {
   "cell_type": "code",
   "execution_count": 21,
   "metadata": {},
   "outputs": [
    {
     "name": "stderr",
     "output_type": "stream",
     "text": [
      "C:\\Users\\sidew\\Anaconda3\\lib\\site-packages\\ipykernel_launcher.py:2: SettingWithCopyWarning: \n",
      "A value is trying to be set on a copy of a slice from a DataFrame\n",
      "\n",
      "See the caveats in the documentation: http://pandas.pydata.org/pandas-docs/stable/user_guide/indexing.html#returning-a-view-versus-a-copy\n",
      "  \n",
      "C:\\Users\\sidew\\Anaconda3\\lib\\site-packages\\ipykernel_launcher.py:4: SettingWithCopyWarning: \n",
      "A value is trying to be set on a copy of a slice from a DataFrame\n",
      "\n",
      "See the caveats in the documentation: http://pandas.pydata.org/pandas-docs/stable/user_guide/indexing.html#returning-a-view-versus-a-copy\n",
      "  after removing the cwd from sys.path.\n"
     ]
    }
   ],
   "source": [
    "for i in range(len(source_2)):\n",
    "    source_2['datetime'][i] = source_2['datetime'][i][0:16]\n",
    "for i in range(len(source_1)):\n",
    "    source_1['datetime'][i] = source_1['datetime'][i][0:16]"
   ]
  },
  {
   "cell_type": "code",
   "execution_count": null,
   "metadata": {},
   "outputs": [],
   "source": []
  },
  {
   "cell_type": "markdown",
   "metadata": {},
   "source": [
    "<B>AUTOCORRELATION FUNCTION PLOTS (ACF) FOR SOURCE-2 DATA<B>"
   ]
  },
  {
   "cell_type": "code",
   "execution_count": 22,
   "metadata": {},
   "outputs": [
    {
     "data": {
      "image/png": "[encoded data removed]",
      "text/plain": [
       "<Figure size 432x288 with 1 Axes>"
      ]
     },
     "metadata": {
      "needs_background": "light"
     },
     "output_type": "display_data"
    }
   ],
   "source": [
    "plot_acf(source_2['hum'], lags = 50)\n",
    "pyplot.show()"
   ]
  },
  {
   "cell_type": "markdown",
   "metadata": {},
   "source": [
    "<B> PARTIAL AUTOCORRELATION FUNCTION PLOTS FOR SOURCE-2 DATA <B>"
   ]
  },
  {
   "cell_type": "code",
   "execution_count": 23,
   "metadata": {},
   "outputs": [
    {
     "data": {
      "image/png": "[encoded data removed]",
      "text/plain": [
       "<Figure size 432x288 with 1 Axes>"
      ]
     },
     "metadata": {
      "needs_background": "light"
     },
     "output_type": "display_data"
    }
   ],
   "source": [
    "plot_pacf(source_2['hum'], lags = 50)\n",
    "pyplot.show()"
   ]
  },
  {
   "cell_type": "code",
   "execution_count": null,
   "metadata": {},
   "outputs": [],
   "source": []
  },
  {
   "cell_type": "markdown",
   "metadata": {},
   "source": [
    "<U> Extra readings found upon comparing source-1 and source-2 <U>"
   ]
  },
  {
   "cell_type": "code",
   "execution_count": 24,
   "metadata": {},
   "outputs": [],
   "source": [
    "li2 = source_2['date'].unique()\n",
    "li1 = source_2['date'].unique()\n",
    "li = []\n",
    "for i in li1:\n",
    "    edr = source_1[source_1['date'] == i]\n",
    "    edt = source_2[source_2['date'] == i]\n",
    "    if len(edr) != len(edt):\n",
    "        li.append(i)"
   ]
  },
  {
   "cell_type": "markdown",
   "metadata": {},
   "source": [
    "### SOURCE-1 CORRECTIONS AND IMPUTATIONS"
   ]
  },
  {
   "cell_type": "markdown",
   "metadata": {},
   "source": [
    "<B> Frequencey of data collection changes from x:00:00 to x:30:00. Remove the extra record <B>"
   ]
  },
  {
   "cell_type": "code",
   "execution_count": 25,
   "metadata": {},
   "outputs": [],
   "source": [
    "source_1[source_1['date'] == '2019-09-22']\n",
    "source_1_disc = source_1[6355:]\n",
    "source_1_ok = source_1[0:6355]"
   ]
  },
  {
   "cell_type": "markdown",
   "metadata": {},
   "source": [
    " "
   ]
  },
  {
   "cell_type": "markdown",
   "metadata": {},
   "source": [
    "<B> Manually interpolate the :30 minute data records to estimate values at :00 minutes. <B>"
   ]
  },
  {
   "cell_type": "code",
   "execution_count": 26,
   "metadata": {},
   "outputs": [],
   "source": [
    "tmp1 = []\n",
    "prs1 = []\n",
    "hum1 = []\n",
    "dt1 = []\n",
    "dte1 = []\n",
    "hr1 = []\n",
    "m1 = []\n",
    "d1 = []\n",
    "for i in range(len(source_1_disc)-1):\n",
    "    tmp1.append((float(source_1_disc['temp'].iloc[i])+float(source_1_disc['temp'].iloc[i+1]))/2)\n",
    "    prs1.append((float(source_1_disc['pres'].iloc[i])+float(source_1_disc['pres'].iloc[i+1]))/2)\n",
    "    hum1.append((float(source_1_disc['hum'].iloc[i])+float(source_1_disc['hum'].iloc[i+1]))/2)\n",
    "    dt1.append(source_1_disc['datetime'].iloc[i+1][0:14]+'00'+source_1_disc['datetime'].iloc[i+1][16:])\n",
    "    dte1.append(source_1_disc['date'].iloc[i+1])\n",
    "    hr1.append(source_1_disc['hour'].iloc[i+1])\n",
    "    m1.append(source_1_disc['month'].iloc[i+1])\n",
    "    d1.append(source_1_disc['day'].iloc[i+1])\n",
    "\n",
    "source_1_disc_r = pd.DataFrame({'datetime':dt1,'date':dte1,'temp':tmp1,'pres':prs1,'hum':hum1,'month':m1,'day':d1,'hour':hr1})"
   ]
  },
  {
   "cell_type": "code",
   "execution_count": 27,
   "metadata": {},
   "outputs": [],
   "source": [
    "source_1 = source_1_ok.append(source_1_disc_r)\n",
    "source_1 = source_1.reset_index(drop = True)\n",
    "source_1 = source_1[['datetime','date','temp','pres','hum','month','day','hour']]"
   ]
  },
  {
   "cell_type": "markdown",
   "metadata": {},
   "source": [
    " "
   ]
  },
  {
   "cell_type": "markdown",
   "metadata": {},
   "source": [
    "<B> Check which combos of month and day have missing entries in Source-1 <B>"
   ]
  },
  {
   "cell_type": "code",
   "execution_count": 28,
   "metadata": {},
   "outputs": [],
   "source": [
    "df12 = (source_1.groupby(['month','day']).apply(lambda x : 24-len(x)).reset_index(name = 'missing_entries'))\n",
    "df12_req = df12[df12['missing_entries'] > 0].reset_index(drop = True)"
   ]
  },
  {
   "cell_type": "markdown",
   "metadata": {},
   "source": [
    " "
   ]
  },
  {
   "cell_type": "markdown",
   "metadata": {},
   "source": [
    "<B> Records are missing in a continuous manner, cannot interpolate on an hourly basis.</B> Hence, values from the previous day at the same time and the next day at the same time were used to impute these missing values "
   ]
  },
  {
   "cell_type": "code",
   "execution_count": 29,
   "metadata": {},
   "outputs": [
    {
     "name": "stderr",
     "output_type": "stream",
     "text": [
      "C:\\Users\\sidew\\Anaconda3\\lib\\site-packages\\pandas\\core\\frame.py:7123: FutureWarning: Sorting because non-concatenation axis is not aligned. A future version\n",
      "of pandas will change to not sort by default.\n",
      "\n",
      "To accept the future behavior, pass 'sort=False'.\n",
      "\n",
      "To retain the current behavior and silence the warning, pass 'sort=True'.\n",
      "\n",
      "  sort=sort,\n"
     ]
    }
   ],
   "source": [
    "sd11 = list(range(24))\n",
    "for i in range(len(df12_req)):\n",
    "    o,p = df12_req[['month','day']].iloc[i]\n",
    "    reqs = source_1[(source_1['month'] == o) & (source_1['day'] == p)]\n",
    "    \n",
    "    sd12 = [yo for yo in sd11 if yo not in list(reqs['hour'])]\n",
    "    \n",
    "    for l in sd12:\n",
    "        if len(str(l)) == 1:\n",
    "            hr = str(0)+str(l)\n",
    "        else:\n",
    "            hr = str(l)\n",
    "        \n",
    "        dt = reqs['datetime'].iloc[0][0:10]+' '+hr+reqs['datetime'].iloc[0][13:]\n",
    "        dte = reqs['date'].iloc[i]\n",
    "        tmp = (float(source_1['temp'][(source_1['month'] == o) & (source_1['day'] == p-1) & (source_1['hour'] == int(hr))]) + float(source_1['temp'][(source_1['month'] == o) & (source_1['day'] == p+1) & (source_1['hour'] == int(hr))]))/2\n",
    "        prs = (float(source_2['pres'][(source_2['month'] == o) & (source_1['day'] == p-1) & (source_1['hour'] == int(hr))]) + float(source_1['pres'][(source_1['month'] == o) & (source_1['day'] == p+1) & (source_1['hour'] == int(hr))]))/2\n",
    "        hm = (float(source_2['hum'][(source_2['month'] == o) & (source_1['day'] == p-1) & (source_1['hour'] == int(hr))]) + float(source_1['hum'][(source_1['month'] == o) & (source_1['day'] == p+1) & (source_1['hour'] == int(hr))]))/2\n",
    "        \n",
    "        cdf = pd.DataFrame({'datetime':dt,\n",
    "                           'date':dte,\n",
    "                           'temp':tmp,\n",
    "                           'pres':prs,\n",
    "                           'hum':hm,\n",
    "                           'hour':int(hr),\n",
    "                           'month':o,\n",
    "                           'day':p},\n",
    "                           index = [len(source_1)])\n",
    "        source_1 = source_1.append(cdf)\n",
    "\n",
    "source_1 = source_1.sort_values(by = ['datetime'])\n",
    "source_1 = source_1.reset_index(drop = True)\n",
    "source_1 = source_1[['datetime','date','temp','pres','hum','month','day','hour']]"
   ]
  },
  {
   "cell_type": "code",
   "execution_count": 30,
   "metadata": {},
   "outputs": [],
   "source": [
    "source_1.datetime = pd.to_datetime(source_1.datetime, format = '%Y-%m-%d %H:%M')\n",
    "source_1 = source_1.set_index('datetime')\n",
    "\n",
    "source_1_fin = source_1\n",
    "source_1_fin = source_1_fin[['temp','pres','hum']]"
   ]
  },
  {
   "cell_type": "markdown",
   "metadata": {},
   "source": [
    " "
   ]
  },
  {
   "cell_type": "markdown",
   "metadata": {},
   "source": [
    "### SOURCE-2 IMPUTATIONS"
   ]
  },
  {
   "cell_type": "markdown",
   "metadata": {},
   "source": [
    "<B> Check which combos of month and day have missing entries in Source-2 <B>"
   ]
  },
  {
   "cell_type": "code",
   "execution_count": 31,
   "metadata": {},
   "outputs": [],
   "source": [
    "df2 = (source_2.groupby(['month','day']).apply(lambda x : 24-len(x)).reset_index(name = 'missing_entries'))\n",
    "df2_req = df2[df2['missing_entries'] > 0].reset_index(drop = True)"
   ]
  },
  {
   "cell_type": "markdown",
   "metadata": {},
   "source": [
    " "
   ]
  },
  {
   "cell_type": "markdown",
   "metadata": {},
   "source": [
    "<B> Records are missing in a continuous manner, cannot interpolate on an hourly basis.</B> Hence, values from the previous day at the same time and the next day at the same time were used to impute these missing values "
   ]
  },
  {
   "cell_type": "code",
   "execution_count": 32,
   "metadata": {},
   "outputs": [
    {
     "name": "stderr",
     "output_type": "stream",
     "text": [
      "C:\\Users\\sidew\\Anaconda3\\lib\\site-packages\\pandas\\core\\frame.py:7123: FutureWarning: Sorting because non-concatenation axis is not aligned. A future version\n",
      "of pandas will change to not sort by default.\n",
      "\n",
      "To accept the future behavior, pass 'sort=False'.\n",
      "\n",
      "To retain the current behavior and silence the warning, pass 'sort=True'.\n",
      "\n",
      "  sort=sort,\n"
     ]
    }
   ],
   "source": [
    "sd = list(range(24))\n",
    "for i in range(len(df2_req)):\n",
    "    o,p = df2_req[['month','day']].iloc[i]\n",
    "    reqs = source_2[(source_2['month'] == o) & (source_2['day'] == p)]\n",
    "    \n",
    "    sd2 = [yo for yo in sd if yo not in list(reqs['hour'])]\n",
    "    \n",
    "    for l in sd2:\n",
    "        if len(str(l)) == 1:\n",
    "            hr = str(0)+str(l)\n",
    "        else:\n",
    "            hr = str(l)\n",
    "        \n",
    "        dt = reqs['datetime'].iloc[0][0:10]+' '+hr+reqs['datetime'].iloc[0][13:]\n",
    "        dte = reqs['date'].iloc[i]\n",
    "        tmp = (float(source_2['temp'][(source_2['month'] == o) & (source_2['day'] == p-1) & (source_2['hour'] == int(hr))]) + float(source_2['temp'][(source_2['month'] == o) & (source_2['day'] == p+1) & (source_2['hour'] == int(hr))]))/2\n",
    "        prs = (float(source_2['pres'][(source_2['month'] == o) & (source_2['day'] == p-1) & (source_2['hour'] == int(hr))]) + float(source_2['pres'][(source_2['month'] == o) & (source_2['day'] == p+1) & (source_2['hour'] == int(hr))]))/2\n",
    "        hm = (float(source_2['hum'][(source_2['month'] == o) & (source_2['day'] == p-1) & (source_2['hour'] == int(hr))]) + float(source_2['hum'][(source_2['month'] == o) & (source_2['day'] == p+1) & (source_2['hour'] == int(hr))]))/2\n",
    "        \n",
    "        cdf = pd.DataFrame({'datetime':dt,\n",
    "                           'date':dte,\n",
    "                           'temp':tmp,\n",
    "                           'pres':prs,\n",
    "                           'hum':hm,\n",
    "                           'hour':int(hr),\n",
    "                           'month':o,\n",
    "                           'day':p},\n",
    "                           index = [len(source_2)])\n",
    "        source_2 = source_2.append(cdf)\n",
    "\n",
    "source_2 = source_2.sort_values(by = ['datetime'])\n",
    "source_2 = source_2.reset_index(drop = True)\n",
    "source_2 = source_2[['datetime','date','temp','pres','hum','month','day','hour']]"
   ]
  },
  {
   "cell_type": "markdown",
   "metadata": {},
   "source": [
    "<B> Manually interpolate the data records collected at varying intervals to estimate values at :00 minutes. <B>"
   ]
  },
  {
   "cell_type": "code",
   "execution_count": 33,
   "metadata": {},
   "outputs": [],
   "source": [
    "tmp2 = []\n",
    "prs2 = []\n",
    "hum2 = []\n",
    "dt2 = []\n",
    "dte2 = []\n",
    "hr2 = []\n",
    "m2 = []\n",
    "d2 = []\n",
    "for i in range(len(source_2)-1):\n",
    "    tmp2.append((float(source_2['temp'].iloc[i])+float(source_2['temp'].iloc[i+1]))/2)\n",
    "    prs2.append((float(source_2['pres'].iloc[i])+float(source_2['pres'].iloc[i+1]))/2)\n",
    "    hum2.append((float(source_2['hum'].iloc[i])+float(source_2['hum'].iloc[i+1]))/2)\n",
    "    dt2.append(source_2['datetime'].iloc[i+1][0:14]+'00'+source_2['datetime'].iloc[i+1][16:])\n",
    "    dte2.append(source_2['date'].iloc[i+1])\n",
    "    hr2.append(source_2['hour'].iloc[i+1])\n",
    "    m2.append(source_2['month'].iloc[i+1])\n",
    "    d2.append(source_2['day'].iloc[i+1])\n",
    "\n",
    "source_2_r = pd.DataFrame({'datetime':dt2,'date':dte2,'temp':tmp2,'pres':prs2,'hum':hum2,'month':m2,'day':d2,'hour':hr2})"
   ]
  },
  {
   "cell_type": "code",
   "execution_count": 34,
   "metadata": {},
   "outputs": [
    {
     "name": "stderr",
     "output_type": "stream",
     "text": [
      "C:\\Users\\sidew\\Anaconda3\\lib\\site-packages\\pandas\\core\\frame.py:7123: FutureWarning: Sorting because non-concatenation axis is not aligned. A future version\n",
      "of pandas will change to not sort by default.\n",
      "\n",
      "To accept the future behavior, pass 'sort=False'.\n",
      "\n",
      "To retain the current behavior and silence the warning, pass 'sort=True'.\n",
      "\n",
      "  sort=sort,\n"
     ]
    }
   ],
   "source": [
    "source_2_r = source_2_r.append(pd.DataFrame({'datetime':source_2['datetime'][0][0:14]+'00','date':source_2['date'][0],\n",
    "                                             'temp':source_2['temp'][0],'pres':source_2['pres'][0],\n",
    "                                             'hum':source_2['hum'][0],'hour':source_2['hour'][0],'month':source_2['month'][0],\n",
    "                                             'day':source_2['day'][0]},index = [8759]))\n",
    "\n",
    "source_2_r = source_2_r.sort_values(by = ['datetime'])\n",
    "source_2_r = source_2_r.reset_index(drop = True)\n",
    "source_2_r = source_2_r[['datetime','date','temp','pres','hum','month','day','hour']]"
   ]
  },
  {
   "cell_type": "code",
   "execution_count": 35,
   "metadata": {},
   "outputs": [],
   "source": [
    "source_2_r.datetime = pd.to_datetime(source_2_r.datetime, format = '%Y-%m-%d %H:%M')\n",
    "source_2_r = source_2_r.set_index('datetime')\n",
    "\n",
    "source_2_fin = source_2_r\n",
    "source_2_fin = source_2_fin[['temp','pres','hum']]"
   ]
  },
  {
   "cell_type": "markdown",
   "metadata": {},
   "source": [
    " "
   ]
  },
  {
   "cell_type": "markdown",
   "metadata": {},
   "source": [
    " "
   ]
  },
  {
   "cell_type": "markdown",
   "metadata": {},
   "source": [
    "### Missing observations in IOT data"
   ]
  },
  {
   "cell_type": "code",
   "execution_count": 36,
   "metadata": {},
   "outputs": [],
   "source": [
    "li3 = iot_fin['date'].unique()\n",
    "li2 = source_2['date'].unique()\n",
    "lit = []\n",
    "for i in li1:\n",
    "    edr = source_2[source_2['date'] == i]\n",
    "    edt = iot_fin[iot_fin['date'] == i]\n",
    "    if len(edr) != len(edt):\n",
    "        lit.append(i)"
   ]
  },
  {
   "cell_type": "markdown",
   "metadata": {},
   "source": [
    "### IOT DATA - CORRECTIONS AND IMPUTATIONS"
   ]
  },
  {
   "cell_type": "code",
   "execution_count": 37,
   "metadata": {},
   "outputs": [],
   "source": [
    "iot_exper = iot_fin"
   ]
  },
  {
   "cell_type": "markdown",
   "metadata": {},
   "source": [
    "<B> determining which observations are missing <B>"
   ]
  },
  {
   "cell_type": "code",
   "execution_count": 38,
   "metadata": {},
   "outputs": [],
   "source": [
    "df2_iot = (iot_fin.groupby(['month','day']).apply(lambda x : 24-len(x)).reset_index(name = 'missing_entries'))"
   ]
  },
  {
   "cell_type": "code",
   "execution_count": 39,
   "metadata": {},
   "outputs": [],
   "source": [
    "df2_iot_req = df2_iot[df2_iot['missing_entries']>0]\n",
    "df2_iot_req = df2_iot_req.reset_index(drop = True)"
   ]
  },
  {
   "cell_type": "markdown",
   "metadata": {},
   "source": [
    "<B> Data is missing irregularly, cannot interpolate manually like we did previously </B>. Forward fill and backward fill would be too naive. For now, we create blank records for the missing observations to impute later"
   ]
  },
  {
   "cell_type": "code",
   "execution_count": 40,
   "metadata": {},
   "outputs": [
    {
     "name": "stderr",
     "output_type": "stream",
     "text": [
      "C:\\Users\\sidew\\Anaconda3\\lib\\site-packages\\pandas\\core\\frame.py:7123: FutureWarning: Sorting because non-concatenation axis is not aligned. A future version\n",
      "of pandas will change to not sort by default.\n",
      "\n",
      "To accept the future behavior, pass 'sort=False'.\n",
      "\n",
      "To retain the current behavior and silence the warning, pass 'sort=True'.\n",
      "\n",
      "  sort=sort,\n"
     ]
    }
   ],
   "source": [
    "sd = list(range(24))\n",
    "for i in range(len(df2_iot_req)):\n",
    "    o,p = df2_iot_req[['month','day']].iloc[i]\n",
    "    reqs = iot_exper[(iot_exper['month'] == o) & (iot_exper['day'] == p)]\n",
    "    \n",
    "    sd2 = [yo for yo in sd if yo not in list(reqs['hour'])]\n",
    "    \n",
    "    for l in sd2:\n",
    "        if len(str(l)) == 1:\n",
    "            hr = str(0)+str(l)\n",
    "        else:\n",
    "            hr = str(l)\n",
    "        \n",
    "        dt = reqs['datetime'].iloc[0][0:10]+' '+hr+reqs['datetime'].iloc[0][13:]\n",
    "        dte = dt[0:10]\n",
    "        tmp = ''\n",
    "        prs = ''\n",
    "        hm = ''\n",
    "        \n",
    "        cdf = pd.DataFrame({'datetime':dt,\n",
    "                           'date':dte,\n",
    "                           'temp':tmp,\n",
    "                           'pres':prs,\n",
    "                           'hum':hm,\n",
    "                           'hour':int(hr),\n",
    "                           'month':o,\n",
    "                           'day':p},\n",
    "                           index = [len(iot_exper)])\n",
    "        iot_exper = iot_exper.append(cdf)\n",
    "\n",
    "iot_exper = iot_exper.sort_values(by = ['datetime'])\n",
    "iot_exper = iot_exper.reset_index(drop = True)\n",
    "iot_exper = iot_exper[['datetime','date','temp','pres','hum','month','day','hour']]"
   ]
  },
  {
   "cell_type": "markdown",
   "metadata": {},
   "source": [
    "<B> A specific day has multiple entries in the same hour but has missing records for quite a few other hours - blank records introduced, extra entries removed"
   ]
  },
  {
   "cell_type": "code",
   "execution_count": 41,
   "metadata": {},
   "outputs": [],
   "source": [
    "iot_experiment = iot_exper[0:8046].append(iot_exper[8056:])"
   ]
  },
  {
   "cell_type": "code",
   "execution_count": 42,
   "metadata": {},
   "outputs": [],
   "source": [
    "df3_iot = (iot_experiment.groupby(['month','day']).apply(lambda x : 24-len(x)).reset_index(name = 'missing_entries'))\n",
    "df3_iot_req = df3_iot[df3_iot['missing_entries']>0]"
   ]
  },
  {
   "cell_type": "code",
   "execution_count": 43,
   "metadata": {},
   "outputs": [
    {
     "name": "stderr",
     "output_type": "stream",
     "text": [
      "C:\\Users\\sidew\\Anaconda3\\lib\\site-packages\\pandas\\core\\frame.py:7123: FutureWarning: Sorting because non-concatenation axis is not aligned. A future version\n",
      "of pandas will change to not sort by default.\n",
      "\n",
      "To accept the future behavior, pass 'sort=False'.\n",
      "\n",
      "To retain the current behavior and silence the warning, pass 'sort=True'.\n",
      "\n",
      "  sort=sort,\n"
     ]
    }
   ],
   "source": [
    "sd = list(range(24))\n",
    "o = 12\n",
    "p = 2\n",
    "reqs = iot_experiment[(iot_experiment['month'] == o) & (iot_experiment['day'] == p)]\n",
    "    \n",
    "sd2 = [yo for yo in sd if yo not in list(reqs['hour'])]\n",
    "\n",
    "for l in sd2:\n",
    "    if len(str(l)) == 1:\n",
    "        hr = str(0)+str(l)\n",
    "    else:\n",
    "        hr = str(l)\n",
    "\n",
    "    dt = reqs['datetime'].iloc[0][0:10]+' '+hr+reqs['datetime'].iloc[0][13:]\n",
    "    dte = dt[0:10]\n",
    "    tmp = ''\n",
    "    prs = ''\n",
    "    hm = ''\n",
    "\n",
    "    cdf = pd.DataFrame({'datetime':dt,\n",
    "                       'date':dte,\n",
    "                       'temp':tmp,\n",
    "                       'pres':prs,\n",
    "                       'hum':hm,\n",
    "                       'hour':int(hr),\n",
    "                       'month':o,\n",
    "                       'day':p},\n",
    "                       index = [len(iot_experiment)])\n",
    "    iot_experiment = iot_experiment.append(cdf)\n",
    "\n",
    "iot_experiment = iot_experiment.sort_values(by = ['datetime'])\n",
    "iot_experiment = iot_experiment.reset_index(drop = True)\n",
    "iot_experiment = iot_experiment[['datetime','date','temp','pres','hum','month','day','hour']]"
   ]
  },
  {
   "cell_type": "markdown",
   "metadata": {},
   "source": [
    "<B> empty spaces introduced due to blank records - changed to na <B>"
   ]
  },
  {
   "cell_type": "code",
   "execution_count": 44,
   "metadata": {},
   "outputs": [],
   "source": [
    "iot_experiment1 = iot_experiment.replace(r'^\\s*$', np.nan, regex=True)"
   ]
  },
  {
   "cell_type": "markdown",
   "metadata": {},
   "source": [
    "<B> those records which can be imputed manually through previous methods are filled <B>"
   ]
  },
  {
   "cell_type": "code",
   "execution_count": 45,
   "metadata": {},
   "outputs": [],
   "source": [
    "tmp3 = []\n",
    "prs3 = []\n",
    "hum3 = []\n",
    "dt3 = []\n",
    "dte3 = []\n",
    "hr3 = []\n",
    "m3 = []\n",
    "d3 = []\n",
    "for i in range(len(iot_experiment1)-1):\n",
    "    tmp3.append((float(iot_experiment1['temp'].iloc[i])+float(iot_experiment1['temp'].iloc[i+1]))/2)\n",
    "    prs3.append((float(iot_experiment1['pres'].iloc[i])+float(iot_experiment1['pres'].iloc[i+1]))/2)\n",
    "    hum3.append((float(iot_experiment1['hum'].iloc[i])+float(iot_experiment1['hum'].iloc[i+1]))/2)\n",
    "    dt3.append(iot_experiment1['datetime'].iloc[i+1][0:14]+'00'+iot_experiment1['datetime'].iloc[i+1][16:])\n",
    "    dte3.append(iot_experiment1['date'].iloc[i+1])\n",
    "    hr3.append(iot_experiment1['hour'].iloc[i+1])\n",
    "    m3.append(iot_experiment1['month'].iloc[i+1])\n",
    "    d3.append(iot_experiment1['day'].iloc[i+1])\n",
    "\n",
    "iot_experiment1_r = pd.DataFrame({'datetime':dt3,'date':dte3,'temp':tmp3,'pres':prs3,'hum':hum3,'month':m3,'day':d3,'hour':hr3})"
   ]
  },
  {
   "cell_type": "code",
   "execution_count": 46,
   "metadata": {},
   "outputs": [
    {
     "name": "stderr",
     "output_type": "stream",
     "text": [
      "C:\\Users\\sidew\\Anaconda3\\lib\\site-packages\\pandas\\core\\frame.py:7123: FutureWarning: Sorting because non-concatenation axis is not aligned. A future version\n",
      "of pandas will change to not sort by default.\n",
      "\n",
      "To accept the future behavior, pass 'sort=False'.\n",
      "\n",
      "To retain the current behavior and silence the warning, pass 'sort=True'.\n",
      "\n",
      "  sort=sort,\n"
     ]
    }
   ],
   "source": [
    "iot_experiment1_r = iot_experiment1_r.append(pd.DataFrame({'datetime':iot_experiment1['datetime'][0][0:14]+'00','date':iot_experiment1['date'][0],\n",
    "                                             'temp':iot_experiment1['temp'][0],'pres':iot_experiment1['pres'][0],\n",
    "                                             'hum':iot_experiment1['hum'][0],'hour':iot_experiment1['hour'][0],'month':iot_experiment1['month'][0],\n",
    "                                             'day':iot_experiment1['day'][0]},index = [8759]))\n",
    "\n",
    "iot_experiment1_r = iot_experiment1_r.sort_values(by = ['datetime'])\n",
    "iot_experiment1_r = iot_experiment1_r.reset_index(drop = True)\n",
    "iot_experiment1_r = iot_experiment1_r[['datetime','date','temp','pres','hum','month','day','hour']]"
   ]
  },
  {
   "cell_type": "markdown",
   "metadata": {},
   "source": [
    "<B> The rest are filled in using a built in cubic interpolation. </B> Method = 'Time' won't work for hourly resolution"
   ]
  },
  {
   "cell_type": "markdown",
   "metadata": {},
   "source": [
    "### INTERPOLATION - METHOD : CUBIC"
   ]
  },
  {
   "cell_type": "code",
   "execution_count": 47,
   "metadata": {},
   "outputs": [],
   "source": [
    "iot_experiment1_r.datetime = pd.to_datetime(iot_experiment1_r.datetime, format = '%Y-%m-%d %H:%M')\n",
    "iot_experiment1_r = iot_experiment1_r.set_index('datetime')\n",
    "\n",
    "iot_experiment1_r['temp'].interpolate(method='cubic', inplace = True)\n",
    "iot_experiment1_r['pres'].interpolate(method='cubic', inplace = True)\n",
    "iot_experiment1_r['hum'].interpolate(method='cubic', inplace = True)"
   ]
  },
  {
   "cell_type": "code",
   "execution_count": 48,
   "metadata": {},
   "outputs": [
    {
     "name": "stderr",
     "output_type": "stream",
     "text": [
      "C:\\Users\\sidew\\Anaconda3\\lib\\site-packages\\ipykernel_launcher.py:3: SettingWithCopyWarning: \n",
      "A value is trying to be set on a copy of a slice from a DataFrame\n",
      "\n",
      "See the caveats in the documentation: http://pandas.pydata.org/pandas-docs/stable/user_guide/indexing.html#returning-a-view-versus-a-copy\n",
      "  This is separate from the ipykernel package so we can avoid doing imports until\n"
     ]
    }
   ],
   "source": [
    "for i in range(len(iot_experiment1_r)):\n",
    "    if iot_experiment1_r['hum'][i] > 100:\n",
    "        iot_experiment1_r['hum'][i] = 100"
   ]
  },
  {
   "cell_type": "code",
   "execution_count": 49,
   "metadata": {},
   "outputs": [],
   "source": [
    "iot_final = iot_experiment1_r[['temp','pres','hum']]"
   ]
  },
  {
   "cell_type": "markdown",
   "metadata": {},
   "source": [
    " "
   ]
  },
  {
   "cell_type": "markdown",
   "metadata": {},
   "source": [
    "### Decomposing the time series"
   ]
  },
  {
   "cell_type": "markdown",
   "metadata": {},
   "source": [
    "<B> Clear non-stationarity in the plots - series need to be stationarized. Seasonality is difficult to decipher, further testing required <B>"
   ]
  },
  {
   "cell_type": "markdown",
   "metadata": {},
   "source": [
    "### Temperature"
   ]
  },
  {
   "cell_type": "code",
   "execution_count": 50,
   "metadata": {},
   "outputs": [
    {
     "data": {
      "text/plain": [
       "<matplotlib.axes._subplots.AxesSubplot at 0x2d61ded15c0>"
      ]
     },
     "execution_count": 50,
     "metadata": {},
     "output_type": "execute_result"
    },
    {
     "data": {
      "image/png": "[encoded data removed]",
      "text/plain": [
       "<Figure size 432x288 with 1 Axes>"
      ]
     },
     "metadata": {
      "needs_background": "light"
     },
     "output_type": "display_data"
    }
   ],
   "source": [
    "iot_final['temp'].plot()"
   ]
  },
  {
   "cell_type": "code",
   "execution_count": 51,
   "metadata": {},
   "outputs": [
    {
     "data": {
      "image/png": "[encoded data removed]",
      "text/plain": [
       "<Figure size 432x288 with 4 Axes>"
      ]
     },
     "metadata": {
      "needs_background": "light"
     },
     "output_type": "display_data"
    }
   ],
   "source": [
    "seasonal_decompose(iot_final['temp'], model = 'multiplicative').plot()\n",
    "pyplot.show()"
   ]
  },
  {
   "cell_type": "code",
   "execution_count": 52,
   "metadata": {},
   "outputs": [
    {
     "data": {
      "image/png": "[encoded data removed]",
      "text/plain": [
       "<Figure size 432x288 with 4 Axes>"
      ]
     },
     "metadata": {
      "needs_background": "light"
     },
     "output_type": "display_data"
    }
   ],
   "source": [
    "seasonal_decompose(iot_final['temp'][0:360], model = 'multiplicative').plot()\n",
    "pyplot.show()"
   ]
  },
  {
   "cell_type": "markdown",
   "metadata": {},
   "source": [
    "### Pressure"
   ]
  },
  {
   "cell_type": "code",
   "execution_count": 53,
   "metadata": {},
   "outputs": [
    {
     "data": {
      "text/plain": [
       "<matplotlib.axes._subplots.AxesSubplot at 0x2d6232f0c18>"
      ]
     },
     "execution_count": 53,
     "metadata": {},
     "output_type": "execute_result"
    },
    {
     "data": {
      "image/png": "[encoded data removed]",
      "text/plain": [
       "<Figure size 432x288 with 1 Axes>"
      ]
     },
     "metadata": {
      "needs_background": "light"
     },
     "output_type": "display_data"
    }
   ],
   "source": [
    "iot_final['pres'].plot()"
   ]
  },
  {
   "cell_type": "code",
   "execution_count": 54,
   "metadata": {},
   "outputs": [
    {
     "data": {
      "image/png": "[encoded data removed]",
      "text/plain": [
       "<Figure size 432x288 with 4 Axes>"
      ]
     },
     "metadata": {
      "needs_background": "light"
     },
     "output_type": "display_data"
    }
   ],
   "source": [
    "seasonal_decompose(iot_final['pres'], model = 'multiplicative').plot()\n",
    "pyplot.show()"
   ]
  },
  {
   "cell_type": "code",
   "execution_count": 55,
   "metadata": {},
   "outputs": [
    {
     "data": {
      "image/png": "[encoded data removed]",
      "text/plain": [
       "<Figure size 432x288 with 4 Axes>"
      ]
     },
     "metadata": {
      "needs_background": "light"
     },
     "output_type": "display_data"
    }
   ],
   "source": [
    "seasonal_decompose(iot_final['pres'][0:360], model = 'multiplicative').plot()\n",
    "pyplot.show()"
   ]
  },
  {
   "cell_type": "code",
   "execution_count": null,
   "metadata": {},
   "outputs": [],
   "source": []
  },
  {
   "cell_type": "code",
   "execution_count": 56,
   "metadata": {},
   "outputs": [
    {
     "data": {
      "text/plain": [
       "<matplotlib.axes._subplots.AxesSubplot at 0x2d621de5cc0>"
      ]
     },
     "execution_count": 56,
     "metadata": {},
     "output_type": "execute_result"
    },
    {
     "data": {
      "image/png": "[encoded data removed]",
      "text/plain": [
       "<Figure size 432x288 with 1 Axes>"
      ]
     },
     "metadata": {
      "needs_background": "light"
     },
     "output_type": "display_data"
    }
   ],
   "source": [
    "iot_final['hum'].plot()"
   ]
  },
  {
   "cell_type": "code",
   "execution_count": 57,
   "metadata": {},
   "outputs": [
    {
     "data": {
      "image/png": "[encoded data removed]",
      "text/plain": [
       "<Figure size 432x288 with 4 Axes>"
      ]
     },
     "metadata": {
      "needs_background": "light"
     },
     "output_type": "display_data"
    }
   ],
   "source": [
    "seasonal_decompose(iot_final['hum'], model = 'additive').plot()\n",
    "pyplot.show()"
   ]
  },
  {
   "cell_type": "code",
   "execution_count": null,
   "metadata": {},
   "outputs": [],
   "source": []
  },
  {
   "cell_type": "code",
   "execution_count": null,
   "metadata": {},
   "outputs": [],
   "source": []
  },
  {
   "cell_type": "markdown",
   "metadata": {},
   "source": [
    " "
   ]
  },
  {
   "cell_type": "markdown",
   "metadata": {},
   "source": [
    " "
   ]
  },
  {
   "cell_type": "markdown",
   "metadata": {},
   "source": [
    "<B> Creating a Master Dataframe"
   ]
  },
  {
   "cell_type": "code",
   "execution_count": 58,
   "metadata": {},
   "outputs": [],
   "source": [
    "req_df = pd.merge(iot_experiment1_r, source_2_r, on = source_2_r.index, how = 'inner')"
   ]
  },
  {
   "cell_type": "code",
   "execution_count": 59,
   "metadata": {},
   "outputs": [],
   "source": [
    "req_df = req_df[['key_0','temp_x','pres_x','hum_x','temp_y','pres_y','hum_y','date_x','month_x','day_x','hour_x']]\n",
    "req_df.columns = ['datetime','iot_temp','iot_pres','iot_hum','src2_temp','src2_pres','src2_hum','date','month','day','hour']\n",
    "req_df = req_df.set_index('datetime')"
   ]
  },
  {
   "cell_type": "code",
   "execution_count": 60,
   "metadata": {},
   "outputs": [],
   "source": [
    "req_df = pd.merge(req_df,source_1, on = source_1.index, how = 'inner')"
   ]
  },
  {
   "cell_type": "code",
   "execution_count": 61,
   "metadata": {},
   "outputs": [],
   "source": [
    "req_df = req_df[['key_0','iot_temp','iot_pres','iot_hum','temp','pres','hum','src2_temp','src2_pres','src2_hum','date_x','month_x','day_x','hour_x']]\n",
    "req_df.columns = ['datetime','iot_temp','iot_pres','iot_hum','src1_temp','src1_pres','src1_hum','src2_temp','src2_pres','src2_hum','date','month','day','hour']\n",
    "req_df = req_df.set_index('datetime')"
   ]
  },
  {
   "cell_type": "markdown",
   "metadata": {},
   "source": [
    " "
   ]
  },
  {
   "cell_type": "markdown",
   "metadata": {},
   "source": [
    "<B> Creating a Scaled version for analyses <B>"
   ]
  },
  {
   "cell_type": "code",
   "execution_count": 62,
   "metadata": {},
   "outputs": [],
   "source": [
    "scaler = StandardScaler()\n",
    "req_df_scaled = pd.DataFrame(scaler.fit_transform(req_df[['iot_temp','iot_pres','iot_hum','src1_temp','src1_pres','src1_hum','src2_temp','src2_pres','src2_hum']]), columns = ['iot_temp','iot_pres','iot_hum','src1_temp','src1_pres','src1_hum','src2_temp','src2_pres','src2_hum'])"
   ]
  },
  {
   "cell_type": "code",
   "execution_count": 63,
   "metadata": {},
   "outputs": [],
   "source": [
    "req_df_scaled.index = req_df.index\n",
    "req_df_scaled['date'] = req_df['date']\n",
    "req_df_scaled['month'] = req_df['month']\n",
    "req_df_scaled['day'] = req_df['day']\n",
    "req_df_scaled['hour'] = req_df['hour']\n",
    "req_df_scaled['datetime'] = req_df.index"
   ]
  },
  {
   "cell_type": "code",
   "execution_count": 64,
   "metadata": {},
   "outputs": [],
   "source": [
    "req_df_scaled.to_csv('req_df.csv',index = False)"
   ]
  },
  {
   "cell_type": "markdown",
   "metadata": {},
   "source": [
    " "
   ]
  },
  {
   "cell_type": "markdown",
   "metadata": {},
   "source": [
    "<B> Verifying non stationarity with Augmented Dickey FullerTest and KPSS Test"
   ]
  },
  {
   "cell_type": "code",
   "execution_count": 65,
   "metadata": {},
   "outputs": [],
   "source": [
    "req_dff = req_df[['iot_temp','iot_pres','iot_hum','src1_temp','src1_pres','src1_hum','src2_temp','src2_pres','src2_hum']]"
   ]
  },
  {
   "cell_type": "code",
   "execution_count": 66,
   "metadata": {},
   "outputs": [],
   "source": [
    "def stationarity(df):\n",
    "    for col in df.columns:\n",
    "        if col != 'datetime':\n",
    "            ap = adfuller(df[col])[1]\n",
    "            kp = kpss(df[col])[1]\n",
    "            if ap < 0.05:\n",
    "                adf_res = 'passed at 95%C'\n",
    "            else:\n",
    "                adf_res = 'failed at 95%C'\n",
    "            if kp > 0.05:\n",
    "                kp_res = 'passed at 95%C'\n",
    "            else:\n",
    "                kp_res = 'failed at 95%C'\n",
    "            print(col, \"ADF test: \",adf_res,'\\n',col, \"KPSS test: \", kp_res, '\\n','\\n')"
   ]
  },
  {
   "cell_type": "markdown",
   "metadata": {},
   "source": [
    "### Non stationarity confirmed"
   ]
  },
  {
   "cell_type": "code",
   "execution_count": null,
   "metadata": {
    "scrolled": true
   },
   "outputs": [],
   "source": [
    "stationarity(req_dff)"
   ]
  },
  {
   "cell_type": "markdown",
   "metadata": {},
   "source": [
    "### First Differencing to rid the series of non-stationarity"
   ]
  },
  {
   "cell_type": "code",
   "execution_count": 112,
   "metadata": {},
   "outputs": [],
   "source": [
    "df_diff =pd.DataFrame()\n",
    "for col in req_dff.columns:\n",
    "    if col != 'datetime':\n",
    "        df_diff[col+'_d'] = (req_dff[col]).diff()\n",
    "# df_diff = df_diff.replace([np.inf, -np.inf], np.nan)\n",
    "df_diff = df_diff.dropna()"
   ]
  },
  {
   "cell_type": "code",
   "execution_count": 113,
   "metadata": {},
   "outputs": [
    {
     "data": {
      "image/png": "[encoded data removed]",
      "text/plain": [
       "<Figure size 432x288 with 1 Axes>"
      ]
     },
     "metadata": {
      "needs_background": "light"
     },
     "output_type": "display_data"
    }
   ],
   "source": [
    "plot_acf(df_diff['iot_hum_d'], lags = 100)\n",
    "pyplot.show()"
   ]
  },
  {
   "cell_type": "code",
   "execution_count": 114,
   "metadata": {},
   "outputs": [],
   "source": [
    "for ij in df_diff.columns:\n",
    "    df_diff[ij] = df_diff[ij].diff(24)\n",
    "df_diff = df_diff.dropna()"
   ]
  },
  {
   "cell_type": "code",
   "execution_count": 115,
   "metadata": {},
   "outputs": [
    {
     "data": {
      "image/png": "[encoded data removed]",
      "text/plain": [
       "<Figure size 432x288 with 1 Axes>"
      ]
     },
     "metadata": {
      "needs_background": "light"
     },
     "output_type": "display_data"
    }
   ],
   "source": [
    "plot_acf(df_diff['iot_hum_d'], lags = 100)\n",
    "pyplot.show()"
   ]
  },
  {
   "cell_type": "markdown",
   "metadata": {},
   "source": [
    "### Stationarity confirmed"
   ]
  },
  {
   "cell_type": "code",
   "execution_count": null,
   "metadata": {
    "scrolled": true
   },
   "outputs": [],
   "source": [
    "stationarity(df_diff)"
   ]
  },
  {
   "cell_type": "markdown",
   "metadata": {},
   "source": [
    "### Confirming if Stationarity has been ridden of. Logarithmic differencing was tried but the differences of many values tended to 0. Applying a log function on top of this created many undefined values in the data"
   ]
  },
  {
   "cell_type": "markdown",
   "metadata": {},
   "source": [
    " "
   ]
  },
  {
   "cell_type": "code",
   "execution_count": 116,
   "metadata": {},
   "outputs": [
    {
     "data": {
      "text/plain": [
       "<matplotlib.axes._subplots.AxesSubplot at 0x2d61e4f2240>"
      ]
     },
     "execution_count": 116,
     "metadata": {},
     "output_type": "execute_result"
    },
    {
     "data": {
      "image/png": "[encoded data removed]",
      "text/plain": [
       "<Figure size 432x288 with 1 Axes>"
      ]
     },
     "metadata": {
      "needs_background": "light"
     },
     "output_type": "display_data"
    }
   ],
   "source": [
    "df_diff['iot_temp_d'].plot()"
   ]
  },
  {
   "cell_type": "code",
   "execution_count": 117,
   "metadata": {},
   "outputs": [
    {
     "data": {
      "image/png": "[encoded data removed]",
      "text/plain": [
       "<Figure size 432x288 with 4 Axes>"
      ]
     },
     "metadata": {
      "needs_background": "light"
     },
     "output_type": "display_data"
    }
   ],
   "source": [
    "seasonal_decompose(df_diff['iot_temp_d'][0:360], model = 'additive').plot()\n",
    "pyplot.show()"
   ]
  },
  {
   "cell_type": "markdown",
   "metadata": {},
   "source": [
    " "
   ]
  },
  {
   "cell_type": "markdown",
   "metadata": {},
   "source": [
    " "
   ]
  },
  {
   "cell_type": "markdown",
   "metadata": {},
   "source": [
    "<B> Granger's Causation Test used to check if source 2 variables are really exogenous </B> The test results indicate that source 2 variables <B> are Granger caused by IOT variables, hence making a case for them not being exogenous </B>"
   ]
  },
  {
   "cell_type": "code",
   "execution_count": 175,
   "metadata": {
    "scrolled": true
   },
   "outputs": [
    {
     "name": "stderr",
     "output_type": "stream",
     "text": [
      "C:\\Users\\sidew\\Anaconda3\\lib\\site-packages\\statsmodels\\base\\model.py:1532: ValueWarning: covariance of constraints does not have full rank. The number of constraints is 4, but rank is 1\n",
      "  'rank is %d' % (J, J_), ValueWarning)\n",
      "C:\\Users\\sidew\\Anaconda3\\lib\\site-packages\\statsmodels\\base\\model.py:1532: ValueWarning: covariance of constraints does not have full rank. The number of constraints is 9, but rank is 1\n",
      "  'rank is %d' % (J, J_), ValueWarning)\n",
      "C:\\Users\\sidew\\Anaconda3\\lib\\site-packages\\statsmodels\\base\\model.py:1532: ValueWarning: covariance of constraints does not have full rank. The number of constraints is 10, but rank is 1\n",
      "  'rank is %d' % (J, J_), ValueWarning)\n",
      "C:\\Users\\sidew\\Anaconda3\\lib\\site-packages\\statsmodels\\base\\model.py:1532: ValueWarning: covariance of constraints does not have full rank. The number of constraints is 11, but rank is 1\n",
      "  'rank is %d' % (J, J_), ValueWarning)\n",
      "C:\\Users\\sidew\\Anaconda3\\lib\\site-packages\\statsmodels\\base\\model.py:1532: ValueWarning: covariance of constraints does not have full rank. The number of constraints is 14, but rank is 1\n",
      "  'rank is %d' % (J, J_), ValueWarning)\n"
     ]
    },
    {
     "data": {
      "text/html": [
       "<div>\n",
       "<style scoped>\n",
       "    .dataframe tbody tr th:only-of-type {\n",
       "        vertical-align: middle;\n",
       "    }\n",
       "\n",
       "    .dataframe tbody tr th {\n",
       "        vertical-align: top;\n",
       "    }\n",
       "\n",
       "    .dataframe thead th {\n",
       "        text-align: right;\n",
       "    }\n",
       "</style>\n",
       "<table border=\"1\" class=\"dataframe\">\n",
       "  <thead>\n",
       "    <tr style=\"text-align: right;\">\n",
       "      <th></th>\n",
       "      <th>iot_temp_d_x</th>\n",
       "      <th>iot_pres_d_x</th>\n",
       "      <th>iot_hum_d_x</th>\n",
       "      <th>src2_temp_d_x</th>\n",
       "      <th>src2_pres_d_x</th>\n",
       "      <th>src2_hum_d_x</th>\n",
       "    </tr>\n",
       "  </thead>\n",
       "  <tbody>\n",
       "    <tr>\n",
       "      <td>iot_temp_d_y</td>\n",
       "      <td>1.0000</td>\n",
       "      <td>0.0000</td>\n",
       "      <td>0.0000</td>\n",
       "      <td>0.0</td>\n",
       "      <td>0.0016</td>\n",
       "      <td>0.0166</td>\n",
       "    </tr>\n",
       "    <tr>\n",
       "      <td>iot_pres_d_y</td>\n",
       "      <td>0.0000</td>\n",
       "      <td>1.0000</td>\n",
       "      <td>0.1060</td>\n",
       "      <td>0.0</td>\n",
       "      <td>0.0000</td>\n",
       "      <td>0.0021</td>\n",
       "    </tr>\n",
       "    <tr>\n",
       "      <td>iot_hum_d_y</td>\n",
       "      <td>0.0000</td>\n",
       "      <td>0.0993</td>\n",
       "      <td>1.0000</td>\n",
       "      <td>0.0</td>\n",
       "      <td>0.0752</td>\n",
       "      <td>0.0000</td>\n",
       "    </tr>\n",
       "    <tr>\n",
       "      <td>src2_temp_d_y</td>\n",
       "      <td>0.0000</td>\n",
       "      <td>0.0035</td>\n",
       "      <td>0.0000</td>\n",
       "      <td>1.0</td>\n",
       "      <td>0.0000</td>\n",
       "      <td>0.0000</td>\n",
       "    </tr>\n",
       "    <tr>\n",
       "      <td>src2_pres_d_y</td>\n",
       "      <td>0.0007</td>\n",
       "      <td>0.0000</td>\n",
       "      <td>0.0039</td>\n",
       "      <td>0.0</td>\n",
       "      <td>1.0000</td>\n",
       "      <td>0.0001</td>\n",
       "    </tr>\n",
       "    <tr>\n",
       "      <td>src2_hum_d_y</td>\n",
       "      <td>0.0000</td>\n",
       "      <td>0.0000</td>\n",
       "      <td>0.0003</td>\n",
       "      <td>0.0</td>\n",
       "      <td>0.0001</td>\n",
       "      <td>1.0000</td>\n",
       "    </tr>\n",
       "  </tbody>\n",
       "</table>\n",
       "</div>"
      ],
      "text/plain": [
       "               iot_temp_d_x  iot_pres_d_x  iot_hum_d_x  src2_temp_d_x  \\\n",
       "iot_temp_d_y         1.0000        0.0000       0.0000            0.0   \n",
       "iot_pres_d_y         0.0000        1.0000       0.1060            0.0   \n",
       "iot_hum_d_y          0.0000        0.0993       1.0000            0.0   \n",
       "src2_temp_d_y        0.0000        0.0035       0.0000            1.0   \n",
       "src2_pres_d_y        0.0007        0.0000       0.0039            0.0   \n",
       "src2_hum_d_y         0.0000        0.0000       0.0003            0.0   \n",
       "\n",
       "               src2_pres_d_x  src2_hum_d_x  \n",
       "iot_temp_d_y          0.0016        0.0166  \n",
       "iot_pres_d_y          0.0000        0.0021  \n",
       "iot_hum_d_y           0.0752        0.0000  \n",
       "src2_temp_d_y         0.0000        0.0000  \n",
       "src2_pres_d_y         1.0000        0.0001  \n",
       "src2_hum_d_y          0.0001        1.0000  "
      ]
     },
     "execution_count": 175,
     "metadata": {},
     "output_type": "execute_result"
    }
   ],
   "source": [
    "grangers_causation_matrix(df_diff[['iot_temp_d','iot_pres_d','iot_hum_d','src2_temp_d','src2_pres_d','src2_hum_d']], variables = df_diff.columns[[0,1,2,6,7,8]])"
   ]
  },
  {
   "cell_type": "code",
   "execution_count": 176,
   "metadata": {
    "scrolled": true
   },
   "outputs": [
    {
     "name": "stderr",
     "output_type": "stream",
     "text": [
      "C:\\Users\\sidew\\Anaconda3\\lib\\site-packages\\statsmodels\\base\\model.py:1532: ValueWarning: covariance of constraints does not have full rank. The number of constraints is 3, but rank is 1\n",
      "  'rank is %d' % (J, J_), ValueWarning)\n",
      "C:\\Users\\sidew\\Anaconda3\\lib\\site-packages\\statsmodels\\base\\model.py:1532: ValueWarning: covariance of constraints does not have full rank. The number of constraints is 5, but rank is 2\n",
      "  'rank is %d' % (J, J_), ValueWarning)\n",
      "C:\\Users\\sidew\\Anaconda3\\lib\\site-packages\\statsmodels\\base\\model.py:1532: ValueWarning: covariance of constraints does not have full rank. The number of constraints is 6, but rank is 3\n",
      "  'rank is %d' % (J, J_), ValueWarning)\n",
      "C:\\Users\\sidew\\Anaconda3\\lib\\site-packages\\statsmodels\\base\\model.py:1532: ValueWarning: covariance of constraints does not have full rank. The number of constraints is 7, but rank is 1\n",
      "  'rank is %d' % (J, J_), ValueWarning)\n",
      "C:\\Users\\sidew\\Anaconda3\\lib\\site-packages\\statsmodels\\base\\model.py:1532: ValueWarning: covariance of constraints does not have full rank. The number of constraints is 8, but rank is 1\n",
      "  'rank is %d' % (J, J_), ValueWarning)\n",
      "C:\\Users\\sidew\\Anaconda3\\lib\\site-packages\\statsmodels\\base\\model.py:1532: ValueWarning: covariance of constraints does not have full rank. The number of constraints is 10, but rank is 1\n",
      "  'rank is %d' % (J, J_), ValueWarning)\n",
      "C:\\Users\\sidew\\Anaconda3\\lib\\site-packages\\statsmodels\\base\\model.py:1532: ValueWarning: covariance of constraints does not have full rank. The number of constraints is 11, but rank is 1\n",
      "  'rank is %d' % (J, J_), ValueWarning)\n",
      "C:\\Users\\sidew\\Anaconda3\\lib\\site-packages\\statsmodels\\base\\model.py:1532: ValueWarning: covariance of constraints does not have full rank. The number of constraints is 12, but rank is 3\n",
      "  'rank is %d' % (J, J_), ValueWarning)\n",
      "C:\\Users\\sidew\\Anaconda3\\lib\\site-packages\\statsmodels\\base\\model.py:1532: ValueWarning: covariance of constraints does not have full rank. The number of constraints is 13, but rank is 2\n",
      "  'rank is %d' % (J, J_), ValueWarning)\n",
      "C:\\Users\\sidew\\Anaconda3\\lib\\site-packages\\statsmodels\\base\\model.py:1532: ValueWarning: covariance of constraints does not have full rank. The number of constraints is 14, but rank is 2\n",
      "  'rank is %d' % (J, J_), ValueWarning)\n",
      "C:\\Users\\sidew\\Anaconda3\\lib\\site-packages\\statsmodels\\base\\model.py:1532: ValueWarning: covariance of constraints does not have full rank. The number of constraints is 15, but rank is 2\n",
      "  'rank is %d' % (J, J_), ValueWarning)\n",
      "C:\\Users\\sidew\\Anaconda3\\lib\\site-packages\\statsmodels\\base\\model.py:1532: ValueWarning: covariance of constraints does not have full rank. The number of constraints is 16, but rank is 2\n",
      "  'rank is %d' % (J, J_), ValueWarning)\n",
      "C:\\Users\\sidew\\Anaconda3\\lib\\site-packages\\statsmodels\\base\\model.py:1532: ValueWarning: covariance of constraints does not have full rank. The number of constraints is 17, but rank is 2\n",
      "  'rank is %d' % (J, J_), ValueWarning)\n",
      "C:\\Users\\sidew\\Anaconda3\\lib\\site-packages\\statsmodels\\base\\model.py:1532: ValueWarning: covariance of constraints does not have full rank. The number of constraints is 18, but rank is 2\n",
      "  'rank is %d' % (J, J_), ValueWarning)\n",
      "C:\\Users\\sidew\\Anaconda3\\lib\\site-packages\\statsmodels\\base\\model.py:1532: ValueWarning: covariance of constraints does not have full rank. The number of constraints is 19, but rank is 1\n",
      "  'rank is %d' % (J, J_), ValueWarning)\n",
      "C:\\Users\\sidew\\Anaconda3\\lib\\site-packages\\statsmodels\\base\\model.py:1532: ValueWarning: covariance of constraints does not have full rank. The number of constraints is 20, but rank is 2\n",
      "  'rank is %d' % (J, J_), ValueWarning)\n",
      "C:\\Users\\sidew\\Anaconda3\\lib\\site-packages\\statsmodels\\base\\model.py:1532: ValueWarning: covariance of constraints does not have full rank. The number of constraints is 21, but rank is 2\n",
      "  'rank is %d' % (J, J_), ValueWarning)\n",
      "C:\\Users\\sidew\\Anaconda3\\lib\\site-packages\\statsmodels\\base\\model.py:1532: ValueWarning: covariance of constraints does not have full rank. The number of constraints is 22, but rank is 2\n",
      "  'rank is %d' % (J, J_), ValueWarning)\n",
      "C:\\Users\\sidew\\Anaconda3\\lib\\site-packages\\statsmodels\\base\\model.py:1532: ValueWarning: covariance of constraints does not have full rank. The number of constraints is 23, but rank is 2\n",
      "  'rank is %d' % (J, J_), ValueWarning)\n",
      "C:\\Users\\sidew\\Anaconda3\\lib\\site-packages\\statsmodels\\base\\model.py:1532: ValueWarning: covariance of constraints does not have full rank. The number of constraints is 24, but rank is 2\n",
      "  'rank is %d' % (J, J_), ValueWarning)\n",
      "C:\\Users\\sidew\\Anaconda3\\lib\\site-packages\\statsmodels\\base\\model.py:1532: ValueWarning: covariance of constraints does not have full rank. The number of constraints is 2, but rank is 1\n",
      "  'rank is %d' % (J, J_), ValueWarning)\n",
      "C:\\Users\\sidew\\Anaconda3\\lib\\site-packages\\statsmodels\\base\\model.py:1532: ValueWarning: covariance of constraints does not have full rank. The number of constraints is 3, but rank is 2\n",
      "  'rank is %d' % (J, J_), ValueWarning)\n",
      "C:\\Users\\sidew\\Anaconda3\\lib\\site-packages\\statsmodels\\base\\model.py:1532: ValueWarning: covariance of constraints does not have full rank. The number of constraints is 4, but rank is 2\n",
      "  'rank is %d' % (J, J_), ValueWarning)\n",
      "C:\\Users\\sidew\\Anaconda3\\lib\\site-packages\\statsmodels\\base\\model.py:1532: ValueWarning: covariance of constraints does not have full rank. The number of constraints is 5, but rank is 2\n",
      "  'rank is %d' % (J, J_), ValueWarning)\n",
      "C:\\Users\\sidew\\Anaconda3\\lib\\site-packages\\statsmodels\\base\\model.py:1532: ValueWarning: covariance of constraints does not have full rank. The number of constraints is 6, but rank is 3\n",
      "  'rank is %d' % (J, J_), ValueWarning)\n",
      "C:\\Users\\sidew\\Anaconda3\\lib\\site-packages\\statsmodels\\base\\model.py:1532: ValueWarning: covariance of constraints does not have full rank. The number of constraints is 7, but rank is 4\n",
      "  'rank is %d' % (J, J_), ValueWarning)\n",
      "C:\\Users\\sidew\\Anaconda3\\lib\\site-packages\\statsmodels\\base\\model.py:1532: ValueWarning: covariance of constraints does not have full rank. The number of constraints is 8, but rank is 6\n",
      "  'rank is %d' % (J, J_), ValueWarning)\n",
      "C:\\Users\\sidew\\Anaconda3\\lib\\site-packages\\statsmodels\\base\\model.py:1532: ValueWarning: covariance of constraints does not have full rank. The number of constraints is 9, but rank is 6\n",
      "  'rank is %d' % (J, J_), ValueWarning)\n",
      "C:\\Users\\sidew\\Anaconda3\\lib\\site-packages\\statsmodels\\base\\model.py:1532: ValueWarning: covariance of constraints does not have full rank. The number of constraints is 10, but rank is 7\n",
      "  'rank is %d' % (J, J_), ValueWarning)\n",
      "C:\\Users\\sidew\\Anaconda3\\lib\\site-packages\\statsmodels\\base\\model.py:1532: ValueWarning: covariance of constraints does not have full rank. The number of constraints is 11, but rank is 4\n",
      "  'rank is %d' % (J, J_), ValueWarning)\n",
      "C:\\Users\\sidew\\Anaconda3\\lib\\site-packages\\statsmodels\\base\\model.py:1532: ValueWarning: covariance of constraints does not have full rank. The number of constraints is 12, but rank is 4\n",
      "  'rank is %d' % (J, J_), ValueWarning)\n",
      "C:\\Users\\sidew\\Anaconda3\\lib\\site-packages\\statsmodels\\base\\model.py:1532: ValueWarning: covariance of constraints does not have full rank. The number of constraints is 13, but rank is 5\n",
      "  'rank is %d' % (J, J_), ValueWarning)\n",
      "C:\\Users\\sidew\\Anaconda3\\lib\\site-packages\\statsmodels\\base\\model.py:1532: ValueWarning: covariance of constraints does not have full rank. The number of constraints is 14, but rank is 2\n",
      "  'rank is %d' % (J, J_), ValueWarning)\n",
      "C:\\Users\\sidew\\Anaconda3\\lib\\site-packages\\statsmodels\\base\\model.py:1532: ValueWarning: covariance of constraints does not have full rank. The number of constraints is 15, but rank is 1\n",
      "  'rank is %d' % (J, J_), ValueWarning)\n",
      "C:\\Users\\sidew\\Anaconda3\\lib\\site-packages\\statsmodels\\base\\model.py:1532: ValueWarning: covariance of constraints does not have full rank. The number of constraints is 16, but rank is 2\n",
      "  'rank is %d' % (J, J_), ValueWarning)\n",
      "C:\\Users\\sidew\\Anaconda3\\lib\\site-packages\\statsmodels\\base\\model.py:1532: ValueWarning: covariance of constraints does not have full rank. The number of constraints is 17, but rank is 4\n",
      "  'rank is %d' % (J, J_), ValueWarning)\n",
      "C:\\Users\\sidew\\Anaconda3\\lib\\site-packages\\statsmodels\\base\\model.py:1532: ValueWarning: covariance of constraints does not have full rank. The number of constraints is 18, but rank is 4\n",
      "  'rank is %d' % (J, J_), ValueWarning)\n"
     ]
    },
    {
     "name": "stderr",
     "output_type": "stream",
     "text": [
      "C:\\Users\\sidew\\Anaconda3\\lib\\site-packages\\statsmodels\\base\\model.py:1532: ValueWarning: covariance of constraints does not have full rank. The number of constraints is 19, but rank is 4\n",
      "  'rank is %d' % (J, J_), ValueWarning)\n",
      "C:\\Users\\sidew\\Anaconda3\\lib\\site-packages\\statsmodels\\base\\model.py:1532: ValueWarning: covariance of constraints does not have full rank. The number of constraints is 20, but rank is 3\n",
      "  'rank is %d' % (J, J_), ValueWarning)\n",
      "C:\\Users\\sidew\\Anaconda3\\lib\\site-packages\\statsmodels\\base\\model.py:1532: ValueWarning: covariance of constraints does not have full rank. The number of constraints is 21, but rank is 5\n",
      "  'rank is %d' % (J, J_), ValueWarning)\n",
      "C:\\Users\\sidew\\Anaconda3\\lib\\site-packages\\statsmodels\\base\\model.py:1532: ValueWarning: covariance of constraints does not have full rank. The number of constraints is 22, but rank is 3\n",
      "  'rank is %d' % (J, J_), ValueWarning)\n",
      "C:\\Users\\sidew\\Anaconda3\\lib\\site-packages\\statsmodels\\base\\model.py:1532: ValueWarning: covariance of constraints does not have full rank. The number of constraints is 23, but rank is 4\n",
      "  'rank is %d' % (J, J_), ValueWarning)\n",
      "C:\\Users\\sidew\\Anaconda3\\lib\\site-packages\\statsmodels\\base\\model.py:1532: ValueWarning: covariance of constraints does not have full rank. The number of constraints is 24, but rank is 5\n",
      "  'rank is %d' % (J, J_), ValueWarning)\n",
      "C:\\Users\\sidew\\Anaconda3\\lib\\site-packages\\statsmodels\\base\\model.py:1532: ValueWarning: covariance of constraints does not have full rank. The number of constraints is 2, but rank is 1\n",
      "  'rank is %d' % (J, J_), ValueWarning)\n",
      "C:\\Users\\sidew\\Anaconda3\\lib\\site-packages\\statsmodels\\base\\model.py:1532: ValueWarning: covariance of constraints does not have full rank. The number of constraints is 3, but rank is 2\n",
      "  'rank is %d' % (J, J_), ValueWarning)\n",
      "C:\\Users\\sidew\\Anaconda3\\lib\\site-packages\\statsmodels\\base\\model.py:1532: ValueWarning: covariance of constraints does not have full rank. The number of constraints is 4, but rank is 2\n",
      "  'rank is %d' % (J, J_), ValueWarning)\n",
      "C:\\Users\\sidew\\Anaconda3\\lib\\site-packages\\statsmodels\\base\\model.py:1532: ValueWarning: covariance of constraints does not have full rank. The number of constraints is 6, but rank is 1\n",
      "  'rank is %d' % (J, J_), ValueWarning)\n",
      "C:\\Users\\sidew\\Anaconda3\\lib\\site-packages\\statsmodels\\base\\model.py:1532: ValueWarning: covariance of constraints does not have full rank. The number of constraints is 7, but rank is 1\n",
      "  'rank is %d' % (J, J_), ValueWarning)\n",
      "C:\\Users\\sidew\\Anaconda3\\lib\\site-packages\\statsmodels\\base\\model.py:1532: ValueWarning: covariance of constraints does not have full rank. The number of constraints is 8, but rank is 1\n",
      "  'rank is %d' % (J, J_), ValueWarning)\n",
      "C:\\Users\\sidew\\Anaconda3\\lib\\site-packages\\statsmodels\\base\\model.py:1532: ValueWarning: covariance of constraints does not have full rank. The number of constraints is 10, but rank is 1\n",
      "  'rank is %d' % (J, J_), ValueWarning)\n",
      "C:\\Users\\sidew\\Anaconda3\\lib\\site-packages\\statsmodels\\base\\model.py:1532: ValueWarning: covariance of constraints does not have full rank. The number of constraints is 11, but rank is 1\n",
      "  'rank is %d' % (J, J_), ValueWarning)\n",
      "C:\\Users\\sidew\\Anaconda3\\lib\\site-packages\\statsmodels\\base\\model.py:1532: ValueWarning: covariance of constraints does not have full rank. The number of constraints is 12, but rank is 1\n",
      "  'rank is %d' % (J, J_), ValueWarning)\n",
      "C:\\Users\\sidew\\Anaconda3\\lib\\site-packages\\statsmodels\\base\\model.py:1532: ValueWarning: covariance of constraints does not have full rank. The number of constraints is 14, but rank is 1\n",
      "  'rank is %d' % (J, J_), ValueWarning)\n",
      "C:\\Users\\sidew\\Anaconda3\\lib\\site-packages\\statsmodels\\base\\model.py:1532: ValueWarning: covariance of constraints does not have full rank. The number of constraints is 16, but rank is 1\n",
      "  'rank is %d' % (J, J_), ValueWarning)\n",
      "C:\\Users\\sidew\\Anaconda3\\lib\\site-packages\\statsmodels\\base\\model.py:1532: ValueWarning: covariance of constraints does not have full rank. The number of constraints is 18, but rank is 1\n",
      "  'rank is %d' % (J, J_), ValueWarning)\n",
      "C:\\Users\\sidew\\Anaconda3\\lib\\site-packages\\statsmodels\\base\\model.py:1532: ValueWarning: covariance of constraints does not have full rank. The number of constraints is 19, but rank is 2\n",
      "  'rank is %d' % (J, J_), ValueWarning)\n"
     ]
    },
    {
     "data": {
      "text/html": [
       "<div>\n",
       "<style scoped>\n",
       "    .dataframe tbody tr th:only-of-type {\n",
       "        vertical-align: middle;\n",
       "    }\n",
       "\n",
       "    .dataframe tbody tr th {\n",
       "        vertical-align: top;\n",
       "    }\n",
       "\n",
       "    .dataframe thead th {\n",
       "        text-align: right;\n",
       "    }\n",
       "</style>\n",
       "<table border=\"1\" class=\"dataframe\">\n",
       "  <thead>\n",
       "    <tr style=\"text-align: right;\">\n",
       "      <th></th>\n",
       "      <th>iot_temp_d_x</th>\n",
       "      <th>iot_pres_d_x</th>\n",
       "      <th>iot_hum_d_x</th>\n",
       "      <th>src1_temp_d_x</th>\n",
       "      <th>src1_pres_d_x</th>\n",
       "      <th>src1_hum_d_x</th>\n",
       "    </tr>\n",
       "  </thead>\n",
       "  <tbody>\n",
       "    <tr>\n",
       "      <td>iot_temp_d_y</td>\n",
       "      <td>1.0000</td>\n",
       "      <td>0.0000</td>\n",
       "      <td>0.000</td>\n",
       "      <td>0.0000</td>\n",
       "      <td>0.0452</td>\n",
       "      <td>0.0000</td>\n",
       "    </tr>\n",
       "    <tr>\n",
       "      <td>iot_pres_d_y</td>\n",
       "      <td>0.0000</td>\n",
       "      <td>1.0000</td>\n",
       "      <td>0.106</td>\n",
       "      <td>0.0537</td>\n",
       "      <td>0.0000</td>\n",
       "      <td>0.0033</td>\n",
       "    </tr>\n",
       "    <tr>\n",
       "      <td>iot_hum_d_y</td>\n",
       "      <td>0.0000</td>\n",
       "      <td>0.0993</td>\n",
       "      <td>1.000</td>\n",
       "      <td>0.0000</td>\n",
       "      <td>0.0000</td>\n",
       "      <td>0.0000</td>\n",
       "    </tr>\n",
       "    <tr>\n",
       "      <td>src1_temp_d_y</td>\n",
       "      <td>0.0000</td>\n",
       "      <td>0.0244</td>\n",
       "      <td>0.000</td>\n",
       "      <td>1.0000</td>\n",
       "      <td>0.0000</td>\n",
       "      <td>0.0000</td>\n",
       "    </tr>\n",
       "    <tr>\n",
       "      <td>src1_pres_d_y</td>\n",
       "      <td>0.0001</td>\n",
       "      <td>0.0000</td>\n",
       "      <td>0.000</td>\n",
       "      <td>0.0000</td>\n",
       "      <td>0.9949</td>\n",
       "      <td>0.0000</td>\n",
       "    </tr>\n",
       "    <tr>\n",
       "      <td>src1_hum_d_y</td>\n",
       "      <td>0.0000</td>\n",
       "      <td>0.0178</td>\n",
       "      <td>0.000</td>\n",
       "      <td>0.0968</td>\n",
       "      <td>0.0379</td>\n",
       "      <td>1.0000</td>\n",
       "    </tr>\n",
       "  </tbody>\n",
       "</table>\n",
       "</div>"
      ],
      "text/plain": [
       "               iot_temp_d_x  iot_pres_d_x  iot_hum_d_x  src1_temp_d_x  \\\n",
       "iot_temp_d_y         1.0000        0.0000        0.000         0.0000   \n",
       "iot_pres_d_y         0.0000        1.0000        0.106         0.0537   \n",
       "iot_hum_d_y          0.0000        0.0993        1.000         0.0000   \n",
       "src1_temp_d_y        0.0000        0.0244        0.000         1.0000   \n",
       "src1_pres_d_y        0.0001        0.0000        0.000         0.0000   \n",
       "src1_hum_d_y         0.0000        0.0178        0.000         0.0968   \n",
       "\n",
       "               src1_pres_d_x  src1_hum_d_x  \n",
       "iot_temp_d_y          0.0452        0.0000  \n",
       "iot_pres_d_y          0.0000        0.0033  \n",
       "iot_hum_d_y           0.0000        0.0000  \n",
       "src1_temp_d_y         0.0000        0.0000  \n",
       "src1_pres_d_y         0.9949        0.0000  \n",
       "src1_hum_d_y          0.0379        1.0000  "
      ]
     },
     "execution_count": 176,
     "metadata": {},
     "output_type": "execute_result"
    }
   ],
   "source": [
    "grangers_causation_matrix(df_diff[['iot_temp_d','iot_pres_d','iot_hum_d','src1_temp_d','src1_pres_d','src1_hum_d']], variables = df_diff.columns[[0,1,2,3,4,5]])"
   ]
  },
  {
   "cell_type": "markdown",
   "metadata": {},
   "source": [
    " "
   ]
  },
  {
   "cell_type": "markdown",
   "metadata": {},
   "source": [
    " "
   ]
  },
  {
   "cell_type": "markdown",
   "metadata": {},
   "source": [
    "<B> Johansen's cointegration test to check if source 2 variables are affected by lagged versions of IOT variables and vice versa. positive outcome is noticed, further strengthening the case for source 1 and 2 not being exogenous to IOT </B>"
   ]
  },
  {
   "cell_type": "code",
   "execution_count": 172,
   "metadata": {},
   "outputs": [
    {
     "name": "stdout",
     "output_type": "stream",
     "text": [
      "Name   ::  Test Stat > C(95%)    =>   Signif  \n",
      " ----------------------------------------\n",
      "iot_temp ::  802.17    > 179.5199  =>   True\n",
      "iot_pres ::  606.18    > 143.6691  =>   True\n",
      "iot_hum ::  433.26    > 111.7797  =>   True\n",
      "src1_temp ::  282.64    > 83.9383   =>   True\n",
      "src1_pres ::  171.59    > 60.0627   =>   True\n",
      "src1_hum ::  66.86     > 40.1749   =>   True\n",
      "src2_temp ::  18.07     > 24.2761   =>   False\n",
      "src2_pres ::  5.44      > 12.3212   =>   False\n",
      "src2_hum ::  0.0       > 4.1296    =>   False\n"
     ]
    }
   ],
   "source": [
    "cointegration_test(req_dff[['iot_temp','iot_pres','iot_hum','src1_temp','src1_pres','src1_hum','src2_temp','src2_pres','src2_hum']])"
   ]
  },
  {
   "cell_type": "code",
   "execution_count": 169,
   "metadata": {},
   "outputs": [
    {
     "data": {
      "text/plain": [
       "(-2.904069484414997,\n",
       " 0.13480420678885224,\n",
       " array([-3.8976908 , -3.33682767, -3.04493425]))"
      ]
     },
     "execution_count": 169,
     "metadata": {},
     "output_type": "execute_result"
    }
   ],
   "source": [
    "ts.coint(req_dff['iot_pres'],req_dff['src1_hum'], maxlag = 24)"
   ]
  },
  {
   "cell_type": "code",
   "execution_count": null,
   "metadata": {},
   "outputs": [],
   "source": [
    "ts.coint()"
   ]
  },
  {
   "cell_type": "markdown",
   "metadata": {},
   "source": [
    " "
   ]
  },
  {
   "cell_type": "markdown",
   "metadata": {},
   "source": [
    " "
   ]
  },
  {
   "cell_type": "markdown",
   "metadata": {},
   "source": [
    "### Split into train and test <B>"
   ]
  },
  {
   "cell_type": "code",
   "execution_count": null,
   "metadata": {},
   "outputs": [],
   "source": [
    "df_train, df_test = df_diff.iloc[0:-120], df_diff.iloc[-120:]"
   ]
  },
  {
   "cell_type": "code",
   "execution_count": null,
   "metadata": {},
   "outputs": [],
   "source": [
    "df_train_endog = df_train[['iot_temp_d','iot_pres_d','iot_hum_d']]\n",
    "df_train_exog1 = df_train[['src1_temp_d','src1_pres_d','src1_hum_d']]\n",
    "df_train_exog2 = df_train[['src2_temp_d','src2_pres_d','src2_hum_d']]\n",
    "\n",
    "\n",
    "df_test_endog = df_test[['iot_temp_d','iot_pres_d','iot_hum_d']]\n",
    "df_test_exog1 = df_test[['src1_temp_d','src1_pres_d','src1_hum_d']]\n",
    "df_test_exog2 = df_test[['src2_temp_d','src2_pres_d','src2_hum_d']]"
   ]
  },
  {
   "cell_type": "code",
   "execution_count": null,
   "metadata": {},
   "outputs": [],
   "source": [
    "df_train_1 = df_train[['iot_temp_d','iot_pres_d','iot_hum_d','src1_temp_d','src1_pres_d','src1_hum_d']]\n",
    "df_train_2 = df_train[['iot_temp_d','iot_pres_d','iot_hum_d','src2_temp_d','src2_pres_d','src2_hum_d']]\n",
    "\n",
    "df_test_1 = df_test[['iot_temp_d','iot_pres_d','iot_hum_d','src1_temp_d','src1_pres_d','src1_hum_d']]\n",
    "df_test_2 = df_test[['iot_temp_d','iot_pres_d','iot_hum_d','src2_temp_d','src2_pres_d','src2_hum_d']]"
   ]
  },
  {
   "cell_type": "markdown",
   "metadata": {},
   "source": [
    " "
   ]
  },
  {
   "cell_type": "markdown",
   "metadata": {},
   "source": [
    " ## VARMAX selected since this is a multivariate analysis, and sources are to be used as exogenous variables "
   ]
  },
  {
   "cell_type": "markdown",
   "metadata": {},
   "source": [
    "### TAKES TOO LONG TO RUN - ALSO, SRC1 AND SRC2 DATA APPEAR ENDOGENOUS, NOT EXOGENOUS"
   ]
  },
  {
   "cell_type": "code",
   "execution_count": null,
   "metadata": {},
   "outputs": [],
   "source": [
    "# for i in range(5):\n",
    "#     i+=1\n",
    "#     model = VARMAX(df_train_endog, order = (i,0), exog = df_train_exog2)\n",
    "#     result = model.fit(maxiter = 1000, disp = False)\n",
    "#     print('Lag Order =', i)\n",
    "#     print('AIC : ', result.aic)\n",
    "#     print('BIC : ', result.bic)\n",
    "#     print('FPE : ', result.fpe)\n",
    "#     print('HQIC: ', result.hqic, '\\n')"
   ]
  },
  {
   "cell_type": "markdown",
   "metadata": {},
   "source": [
    "### ALSO TAKING TOO LONG TO RUN - DIFFERENCE - REMOVED THE EXOGENOUS VARIABLE SPECIFICATION AND PASSED THE EXOG VARIABLES AS ENDOGENOUS"
   ]
  },
  {
   "cell_type": "code",
   "execution_count": null,
   "metadata": {},
   "outputs": [],
   "source": [
    "# for i in range(5):\n",
    "#     i+=1\n",
    "#     model = VARMAX(df_train_2, order = (i,0), trend = 'c')\n",
    "#     result = model.fit(maxiter = 1000, disp = False)\n",
    "#     print('Lag Order =', i)\n",
    "#     print('AIC : ', result.aic)\n",
    "#     print('BIC : ', result.bic)\n",
    "#     print('FPE : ', result.fpe)\n",
    "#     print('HQIC: ', result.hqic, '\\n')"
   ]
  },
  {
   "cell_type": "markdown",
   "metadata": {},
   "source": [
    "### TRYING VAR INSTEAD OF VARMAX WITH IOT AND SOURCE 2 DATA BEING CONSIDERED AS ENDOGENOUS - REASONS ABOVE"
   ]
  },
  {
   "cell_type": "code",
   "execution_count": null,
   "metadata": {},
   "outputs": [],
   "source": [
    "model = VAR(df_train_2)"
   ]
  },
  {
   "cell_type": "code",
   "execution_count": null,
   "metadata": {
    "scrolled": true
   },
   "outputs": [],
   "source": [
    "x = model.select_order(maxlags=12)\n",
    "x.summary()"
   ]
  },
  {
   "cell_type": "markdown",
   "metadata": {},
   "source": [
    "### ORDER SELECTED BASED ON DROP in AIC - 7. CORRELATION MATRIX OBTAINED"
   ]
  },
  {
   "cell_type": "code",
   "execution_count": null,
   "metadata": {},
   "outputs": [],
   "source": [
    "model_fitted = model.fit(7)\n",
    "model_fitted.summary()"
   ]
  },
  {
   "cell_type": "markdown",
   "metadata": {},
   "source": [
    " "
   ]
  },
  {
   "cell_type": "markdown",
   "metadata": {},
   "source": [
    "### CHECKING FOR CORRELATION IN RESIDUALS - NOTHING SIGNIFICANT (DURBIN WATSON STATISTIC CENTRED AROUND 2) - GOOD MODEL"
   ]
  },
  {
   "cell_type": "markdown",
   "metadata": {},
   "source": [
    "### This indicates that the model has captured the time series efficiently and the errors are white noise for most part"
   ]
  },
  {
   "cell_type": "code",
   "execution_count": null,
   "metadata": {},
   "outputs": [],
   "source": [
    "out = durbin_watson(model_fitted.resid)\n",
    "\n",
    "for col, val in zip(df_train_2.columns, out):\n",
    "    print((col), ':', round(val, 2))"
   ]
  },
  {
   "cell_type": "markdown",
   "metadata": {},
   "source": [
    " "
   ]
  },
  {
   "cell_type": "markdown",
   "metadata": {},
   "source": [
    " "
   ]
  },
  {
   "cell_type": "code",
   "execution_count": null,
   "metadata": {},
   "outputs": [],
   "source": [
    "forecast_input = df_train_2.values[-7:]"
   ]
  },
  {
   "cell_type": "code",
   "execution_count": null,
   "metadata": {},
   "outputs": [],
   "source": [
    "fc = model_fitted.forecast(y=forecast_input, steps=120)\n",
    "df_forecast = pd.DataFrame(fc, index = df_diff.index[-120:], columns=df_train_2.columns)"
   ]
  },
  {
   "cell_type": "markdown",
   "metadata": {},
   "source": [
    " "
   ]
  },
  {
   "cell_type": "markdown",
   "metadata": {},
   "source": [
    "Putting together the first record of the series (missing due to differencing), the records until test set, and the predictions, to <B> obtain a preliminary df which can be cumulatively added up to undo the differencing "
   ]
  },
  {
   "cell_type": "code",
   "execution_count": null,
   "metadata": {},
   "outputs": [],
   "source": [
    "revert = req_dff.reset_index(drop = False).iloc[0]\n",
    "revert1 = pd.DataFrame({'iot_temp_d':revert[1],'iot_pres_d':revert[2],'iot_hum_d':revert[3],'src2_temp_d':revert[-3],'src2_pres_d':revert[-2],'src2_hum_d':revert[-1]},index = [0])"
   ]
  },
  {
   "cell_type": "code",
   "execution_count": null,
   "metadata": {},
   "outputs": [],
   "source": [
    "revert1['datetime'] = '2019-01-01 00:00:00'\n",
    "revert1 = revert1.set_index('datetime')\n",
    "missing_part = df_train_2[df_train_2.columns][:df_test_2.index[0]]"
   ]
  },
  {
   "cell_type": "code",
   "execution_count": null,
   "metadata": {},
   "outputs": [],
   "source": [
    "rebuilt = revert1.append(missing_part).append(df_forecast)\n",
    "rebuilt = rebuilt.cumsum()"
   ]
  },
  {
   "cell_type": "markdown",
   "metadata": {},
   "source": [
    "<B><U> Predictions for Test"
   ]
  },
  {
   "cell_type": "code",
   "execution_count": null,
   "metadata": {},
   "outputs": [],
   "source": [
    "predicted = rebuilt.loc[df_test_2.index[0]:]"
   ]
  },
  {
   "cell_type": "markdown",
   "metadata": {},
   "source": [
    "<B><U>Actual Test Values"
   ]
  },
  {
   "cell_type": "code",
   "execution_count": null,
   "metadata": {},
   "outputs": [],
   "source": [
    "actual = revert1.append(missing_part).append(df_test_2)\n",
    "actual = actual.cumsum()"
   ]
  },
  {
   "cell_type": "code",
   "execution_count": null,
   "metadata": {},
   "outputs": [],
   "source": [
    "actual = actual.loc[df_test_2.index[0]:]"
   ]
  },
  {
   "cell_type": "code",
   "execution_count": null,
   "metadata": {},
   "outputs": [],
   "source": []
  },
  {
   "cell_type": "markdown",
   "metadata": {},
   "source": [
    "### FOR SOURCE-1 AND IOT DATA (DF_TRAIN_1 AND DF_TEST_1)"
   ]
  },
  {
   "cell_type": "code",
   "execution_count": null,
   "metadata": {},
   "outputs": [],
   "source": [
    "model1 = VAR(df_train_1)"
   ]
  },
  {
   "cell_type": "code",
   "execution_count": null,
   "metadata": {},
   "outputs": [],
   "source": [
    "x = model1.select_order(maxlags=12)\n",
    "x.summary()"
   ]
  },
  {
   "cell_type": "markdown",
   "metadata": {},
   "source": [
    "### ORDER SELECTED BASED ON DROP in AIC - 6. CORRELATION MATRIX OBTAINED"
   ]
  },
  {
   "cell_type": "code",
   "execution_count": null,
   "metadata": {},
   "outputs": [],
   "source": [
    "model1_fitted = model1.fit(6)\n",
    "model1_fitted.summary()"
   ]
  },
  {
   "cell_type": "markdown",
   "metadata": {},
   "source": [
    " "
   ]
  },
  {
   "cell_type": "markdown",
   "metadata": {},
   "source": [
    "### CHECKING FOR CORRELATION IN RESIDUALS - NOTHING SIGNIFICANT (CENTRED AROUND 2) - GOOD MODEL"
   ]
  },
  {
   "cell_type": "markdown",
   "metadata": {},
   "source": [
    "### This indicates that the model has captured the time series efficiently and the errors are white noise for most part"
   ]
  },
  {
   "cell_type": "code",
   "execution_count": null,
   "metadata": {},
   "outputs": [],
   "source": [
    "out1 = durbin_watson(model1_fitted.resid)\n",
    "\n",
    "for col, val in zip(df_train_1.columns, out):\n",
    "    print((col), ':', round(val, 2))"
   ]
  },
  {
   "cell_type": "markdown",
   "metadata": {},
   "source": [
    " "
   ]
  },
  {
   "cell_type": "markdown",
   "metadata": {},
   "source": [
    "<B><U>Predicting for the test set"
   ]
  },
  {
   "cell_type": "code",
   "execution_count": null,
   "metadata": {},
   "outputs": [],
   "source": [
    "forecast_input1 = df_train_1.values[-6:]"
   ]
  },
  {
   "cell_type": "code",
   "execution_count": null,
   "metadata": {},
   "outputs": [],
   "source": [
    "fc1 = model1_fitted.forecast(y=forecast_input1, steps=120)\n",
    "df_forecast1 = pd.DataFrame(fc1, index = df_diff.index[-120:], columns=df_train_1.columns)"
   ]
  },
  {
   "cell_type": "markdown",
   "metadata": {},
   "source": [
    " "
   ]
  },
  {
   "cell_type": "markdown",
   "metadata": {},
   "source": [
    "Putting together the first record of the series (missing due to differencing), the records until test set, and the predictions, to <B> obtain a preliminary df which can be cumulatively added up to undo the differencing "
   ]
  },
  {
   "cell_type": "code",
   "execution_count": null,
   "metadata": {},
   "outputs": [],
   "source": [
    "revert1 = req_dff.reset_index(drop = False).iloc[0]\n",
    "revert11 = pd.DataFrame({'iot_temp_d':revert[1],'iot_pres_d':revert[2],'iot_hum_d':revert[3],'src1_temp_d':revert[-3],'src1_pres_d':revert[-2],'src1_hum_d':revert[-1]},index = [0])"
   ]
  },
  {
   "cell_type": "code",
   "execution_count": null,
   "metadata": {},
   "outputs": [],
   "source": [
    "revert11['datetime'] = '2019-01-01 00:00:00'\n",
    "revert11 = revert11.set_index('datetime')\n",
    "missing_part1 = df_train_1[df_train_1.columns][:df_test_1.index[0]]"
   ]
  },
  {
   "cell_type": "code",
   "execution_count": null,
   "metadata": {},
   "outputs": [],
   "source": [
    "rebuilt1 = revert11.append(missing_part1).append(df_forecast1)\n",
    "rebuilt1 = rebuilt1.cumsum()"
   ]
  },
  {
   "cell_type": "markdown",
   "metadata": {},
   "source": [
    "<B><U> restored predicted values"
   ]
  },
  {
   "cell_type": "code",
   "execution_count": null,
   "metadata": {},
   "outputs": [],
   "source": [
    "predicted1 = rebuilt1.loc[df_test_1.index[0]:]"
   ]
  },
  {
   "cell_type": "markdown",
   "metadata": {},
   "source": [
    "<B><U> Actual test values"
   ]
  },
  {
   "cell_type": "code",
   "execution_count": null,
   "metadata": {},
   "outputs": [],
   "source": [
    "actual1 = revert11.append(missing_part1).append(df_test_1)\n",
    "actual1 = actual1.cumsum()"
   ]
  },
  {
   "cell_type": "code",
   "execution_count": null,
   "metadata": {},
   "outputs": [],
   "source": [
    "actual1 = actual1.loc[df_test_1.index[0]:]"
   ]
  },
  {
   "cell_type": "code",
   "execution_count": null,
   "metadata": {},
   "outputs": [],
   "source": []
  },
  {
   "cell_type": "markdown",
   "metadata": {},
   "source": [
    "## EVALUATION FOR SOURCE2-IOT"
   ]
  },
  {
   "cell_type": "code",
   "execution_count": null,
   "metadata": {},
   "outputs": [],
   "source": [
    "print('Forecast Accuracy of: iot_temp')\n",
    "accuracy_prod = forecast_accuracy(predicted['iot_temp_d'].values, actual['iot_temp_d'])\n",
    "for k, v in accuracy_prod.items():\n",
    "    print(k, ': ', round(v,4))"
   ]
  },
  {
   "cell_type": "code",
   "execution_count": null,
   "metadata": {},
   "outputs": [],
   "source": [
    "print('Forecast Accuracy of: iot_pres')\n",
    "accuracy_prod = forecast_accuracy(predicted['iot_pres_d'].values, actual['iot_pres_d'])\n",
    "for k, v in accuracy_prod.items():\n",
    "    print(k, ': ', round(v,4))"
   ]
  },
  {
   "cell_type": "code",
   "execution_count": null,
   "metadata": {},
   "outputs": [],
   "source": [
    "print('Forecast Accuracy of: iot_hum')\n",
    "accuracy_prod = forecast_accuracy(predicted['iot_hum_d'].values, actual['iot_hum_d'])\n",
    "for k, v in accuracy_prod.items():\n",
    "    print(k, ': ', round(v,4))"
   ]
  },
  {
   "cell_type": "code",
   "execution_count": null,
   "metadata": {},
   "outputs": [],
   "source": []
  },
  {
   "cell_type": "code",
   "execution_count": null,
   "metadata": {},
   "outputs": [],
   "source": [
    "f = plt.figure(figsize=(19, 15))\n",
    "plt.matshow(df_req[['iot_temp_d','iot_pres_d','iot_hum_d']].corr(), fignum=f.number)\n",
    "plt.xticks(range(3), ['iot_temp_d','iot_pres_d','iot_hum_d'], fontsize=14)\n",
    "plt.yticks(range(3), ['iot_temp_d','iot_pres_d','iot_hum_d'], fontsize=14)\n",
    "cb = plt.colorbar()\n",
    "cb.ax.tick_params(labelsize=14)\n",
    "plt.title('Correlation Matrix', fontsize=16);"
   ]
  },
  {
   "cell_type": "markdown",
   "metadata": {},
   "source": [
    "## FINAL PREDICTIONS"
   ]
  },
  {
   "cell_type": "code",
   "execution_count": null,
   "metadata": {},
   "outputs": [],
   "source": [
    "df_req = df_diff[['iot_temp_d','iot_pres_d','iot_hum_d','src2_temp_d','src2_pres_d','src2_hum_d']]"
   ]
  },
  {
   "cell_type": "code",
   "execution_count": null,
   "metadata": {},
   "outputs": [],
   "source": [
    "model_fin = VAR(df_req)"
   ]
  },
  {
   "cell_type": "code",
   "execution_count": null,
   "metadata": {},
   "outputs": [],
   "source": [
    "model_fin_fitted = model_fin.fit(7)"
   ]
  },
  {
   "cell_type": "code",
   "execution_count": null,
   "metadata": {},
   "outputs": [],
   "source": [
    "forecast_input_req = df_req.values[-7:]\n",
    "fc_req = model_fin_fitted.forecast(y=forecast_input_req, steps=120)\n",
    "df_forecast_req = pd.DataFrame(fc_req, columns=df_req.columns)"
   ]
  },
  {
   "cell_type": "code",
   "execution_count": null,
   "metadata": {},
   "outputs": [],
   "source": [
    "df_forecast_req"
   ]
  },
  {
   "cell_type": "code",
   "execution_count": null,
   "metadata": {},
   "outputs": [],
   "source": [
    "revert = req_dff.reset_index(drop = False).iloc[0]\n",
    "revert_fin = pd.DataFrame({'iot_temp_d':revert[1],'iot_pres_d':revert[2],'iot_hum_d':revert[3],'src2_temp_d':revert[-3],'src2_pres_d':revert[-2],'src2_hum_d':revert[-1]},index = [0])"
   ]
  },
  {
   "cell_type": "code",
   "execution_count": null,
   "metadata": {},
   "outputs": [],
   "source": [
    "revert_fin['datetime'] = '2019-01-01 00:00:00'\n",
    "revert_fin = revert_fin.set_index('datetime')"
   ]
  },
  {
   "cell_type": "code",
   "execution_count": null,
   "metadata": {},
   "outputs": [],
   "source": [
    "revert_fin"
   ]
  },
  {
   "cell_type": "code",
   "execution_count": null,
   "metadata": {},
   "outputs": [],
   "source": [
    "rebuilt_fin = revert_fin.append(df_req).append(df_forecast_req)\n",
    "rebuilt_fin = rebuilt_fin.cumsum()"
   ]
  },
  {
   "cell_type": "code",
   "execution_count": null,
   "metadata": {},
   "outputs": [],
   "source": [
    "final_predictions = rebuilt_fin[-120:]"
   ]
  },
  {
   "cell_type": "code",
   "execution_count": null,
   "metadata": {},
   "outputs": [],
   "source": [
    "final_predictions"
   ]
  },
  {
   "cell_type": "code",
   "execution_count": null,
   "metadata": {},
   "outputs": [],
   "source": [
    "final_predictions.to_csv('submission.csv')"
   ]
  }
 ],
 "metadata": {
  "kernelspec": {
   "display_name": "Python 3",
   "language": "python",
   "name": "python3"
  },
  "language_info": {
   "codemirror_mode": {
    "name": "ipython",
    "version": 3
   },
   "file_extension": ".py",
   "mimetype": "text/x-python",
   "name": "python",
   "nbconvert_exporter": "python",
   "pygments_lexer": "ipython3",
   "version": "3.7.0"
  }
 },
 "nbformat": 4,
 "nbformat_minor": 2
}
