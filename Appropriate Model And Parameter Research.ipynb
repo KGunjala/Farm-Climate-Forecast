{
 "cells": [
  {
   "cell_type": "code",
   "execution_count": 518,
   "metadata": {},
   "outputs": [],
   "source": [
    "import os\n",
    "import numpy as np\n",
    "import pandas as pd\n",
    "from datetime import datetime\n",
    "from matplotlib import pyplot\n",
    "from statistics import mean\n",
    "import matplotlib.pyplot as plt\n",
    "%matplotlib inline\n",
    "from scipy.special import logsumexp\n",
    "from sklearn.preprocessing import StandardScaler\n",
    "from statsmodels.tsa.vector_ar.vecm import coint_johansen\n",
    "from statsmodels.tsa.statespace.varmax import VARMAX\n",
    "from statsmodels.tsa.api import VAR\n",
    "from statsmodels.tsa.stattools import adfuller,kpss\n",
    "from statsmodels.tools.eval_measures import rmse, aic\n",
    "from statsmodels.tsa.stattools import grangercausalitytests\n",
    "from statsmodels.stats.stattools import durbin_watson\n",
    "from statsmodels.graphics.tsaplots import plot_acf\n",
    "from statsmodels.graphics.tsaplots import plot_pacf\n",
    "from statsmodels.tsa.seasonal import seasonal_decompose\n",
    "from statsmodels.tsa.stattools import acf"
   ]
  },
  {
   "cell_type": "code",
   "execution_count": 519,
   "metadata": {},
   "outputs": [],
   "source": [
    "# os.chdir('C:/Users/sidew/Desktop/Fasal/assessment/')"
   ]
  },
  {
   "cell_type": "code",
   "execution_count": 520,
   "metadata": {},
   "outputs": [],
   "source": [
    "\"Evaluation helper function\"\n",
    "\n",
    "def forecast_accuracy(forecast, actual):\n",
    "    mape = np.mean(np.abs(forecast - actual)/np.abs(actual))  # MAPE\n",
    "    me = np.mean(forecast - actual)             # ME\n",
    "    mae = np.mean(np.abs(forecast - actual))    # MAE\n",
    "    mpe = np.mean((forecast - actual)/actual)   # MPE\n",
    "    rmse = np.mean((forecast - actual)**2)**.5  # RMSE\n",
    "    corr = np.corrcoef(forecast, actual)[0,1]   # corr\n",
    "    mins = np.amin(np.hstack([forecast[:,None], \n",
    "                              actual[:,None]]), axis=1)\n",
    "    maxs = np.amax(np.hstack([forecast[:,None], \n",
    "                              actual[:,None]]), axis=1)\n",
    "    minmax = 1 - np.mean(mins/maxs)             # minmax\n",
    "    return({'mape':mape, 'me':me, 'mae': mae, \n",
    "            'mpe': mpe, 'rmse':rmse, 'corr':corr, 'minmax':minmax})"
   ]
  },
  {
   "cell_type": "code",
   "execution_count": 521,
   "metadata": {},
   "outputs": [],
   "source": [
    "\"Granger Causality test helper function\"\n",
    "\n",
    "maxlag=12\n",
    "test = 'ssr_ftest'\n",
    "def grangers_causation_matrix(data, variables, test='ssr_ftest', verbose=False):    \n",
    "\n",
    "    df = pd.DataFrame(np.zeros((len(variables), len(variables))), columns=variables, index=variables)\n",
    "    for c in df.columns:\n",
    "        for r in df.index:\n",
    "            test_result = grangercausalitytests(data[[r, c]], maxlag=maxlag, verbose=False)\n",
    "            p_values = [round(test_result[i+1][0][test][1],4) for i in range(maxlag)]\n",
    "            if verbose: print(f'Y = {r}, X = {c}, P Values = {p_values}')\n",
    "            min_p_value = np.min(p_values)\n",
    "            df.loc[r, c] = min_p_value\n",
    "    df.columns = [var + '_x' for var in variables]\n",
    "    df.index = [var + '_y' for var in variables]\n",
    "    return df"
   ]
  },
  {
   "cell_type": "code",
   "execution_count": 522,
   "metadata": {},
   "outputs": [],
   "source": [
    "\"Johansen's cointegration test helper function\"\n",
    "\n",
    "def cointegration_test(df, alpha=0.05): \n",
    "    \"\"\"Perform Johanson's Cointegration Test and Report Summary\"\"\"\n",
    "    out = coint_johansen(df,-1,7)\n",
    "    d = {'0.90':0, '0.95':1, '0.99':2}\n",
    "    traces = out.lr1\n",
    "    cvts = out.cvt[:, d[str(1-alpha)]]\n",
    "    def adjust(val, length= 6): return str(val).ljust(length)\n",
    "\n",
    "    # Summary\n",
    "    print('Name   ::  Test Stat > C(95%)    =>   Signif  \\n', '--'*20)\n",
    "    for col, trace, cvt in zip(df.columns, traces, cvts):\n",
    "        print(adjust(col), ':: ', adjust(round(trace,2), 9), \">\", adjust(cvt, 8), ' =>  ' , trace > cvt)"
   ]
  },
  {
   "cell_type": "markdown",
   "metadata": {},
   "source": [
    " "
   ]
  },
  {
   "cell_type": "markdown",
   "metadata": {},
   "source": [
    "### IOT DATA"
   ]
  },
  {
   "cell_type": "code",
   "execution_count": 523,
   "metadata": {},
   "outputs": [],
   "source": [
    "iot = pd.read_csv('plot2-IoT Sensor Data.csv')"
   ]
  },
  {
   "cell_type": "code",
   "execution_count": 524,
   "metadata": {},
   "outputs": [],
   "source": [
    "iot_hum = iot[iot['sensor'] == 'HUM']\n",
    "iot_temp = iot[iot['sensor'] == 'TC']\n",
    "iot_pres = iot[iot['sensor'] == 'PRES']"
   ]
  },
  {
   "cell_type": "markdown",
   "metadata": {},
   "source": [
    "Considering timestamp only until the minutes part "
   ]
  },
  {
   "cell_type": "code",
   "execution_count": 525,
   "metadata": {},
   "outputs": [
    {
     "name": "stderr",
     "output_type": "stream",
     "text": [
      "<ipython-input-525-350ee7dd7c63>:1: SettingWithCopyWarning: \n",
      "A value is trying to be set on a copy of a slice from a DataFrame.\n",
      "Try using .loc[row_indexer,col_indexer] = value instead\n",
      "\n",
      "See the caveats in the documentation: https://pandas.pydata.org/pandas-docs/stable/user_guide/indexing.html#returning-a-view-versus-a-copy\n",
      "  iot_pres['date-hr'] = [i[0:16] for i in iot_pres['datetime']]\n",
      "<ipython-input-525-350ee7dd7c63>:2: SettingWithCopyWarning: \n",
      "A value is trying to be set on a copy of a slice from a DataFrame.\n",
      "Try using .loc[row_indexer,col_indexer] = value instead\n",
      "\n",
      "See the caveats in the documentation: https://pandas.pydata.org/pandas-docs/stable/user_guide/indexing.html#returning-a-view-versus-a-copy\n",
      "  iot_hum['date-hr'] = [i[0:16] for i in iot_hum['datetime']]\n",
      "<ipython-input-525-350ee7dd7c63>:3: SettingWithCopyWarning: \n",
      "A value is trying to be set on a copy of a slice from a DataFrame.\n",
      "Try using .loc[row_indexer,col_indexer] = value instead\n",
      "\n",
      "See the caveats in the documentation: https://pandas.pydata.org/pandas-docs/stable/user_guide/indexing.html#returning-a-view-versus-a-copy\n",
      "  iot_temp['date-hr'] = [i[0:16] for i in iot_temp['datetime']]\n"
     ]
    }
   ],
   "source": [
    "iot_pres['date-hr'] = [i[0:16] for i in iot_pres['datetime']]\n",
    "iot_hum['date-hr'] = [i[0:16] for i in iot_hum['datetime']]\n",
    "iot_temp['date-hr'] = [i[0:16] for i in iot_temp['datetime']]"
   ]
  },
  {
   "cell_type": "markdown",
   "metadata": {},
   "source": [
    "Combining pressure, temperature, and humidity sensor data in a single row for each hour"
   ]
  },
  {
   "cell_type": "code",
   "execution_count": 526,
   "metadata": {},
   "outputs": [],
   "source": [
    "iot_1 = pd.merge(iot_pres, iot_hum, on = 'date-hr', how = 'inner')\n",
    "iot_fin = pd.merge(iot_temp, iot_1, on = 'date-hr', how = 'inner')"
   ]
  },
  {
   "cell_type": "code",
   "execution_count": 527,
   "metadata": {},
   "outputs": [],
   "source": [
    "iot_fin.columns = ['tem','temp','giv_datetime','datetime','pr','pres','giv2','hu','hum','giv3']"
   ]
  },
  {
   "cell_type": "code",
   "execution_count": 528,
   "metadata": {},
   "outputs": [],
   "source": [
    "iot_fin = iot_fin[['datetime','temp','pres','hum']]\n",
    "iot_fin['date'] = [i[0:10] for i in iot_fin['datetime']]"
   ]
  },
  {
   "cell_type": "markdown",
   "metadata": {},
   "source": [
    "<B>AUTOCORRELATION FUNCTION PLOTS (ACF) FOR IOT SENSOR DATA<B>"
   ]
  },
  {
   "cell_type": "code",
   "execution_count": 529,
   "metadata": {},
   "outputs": [
    {
     "data": {
      "image/png": "[encoded data removed]",
      "text/plain": [
       "<Figure size 432x288 with 1 Axes>"
      ]
     },
     "metadata": {
      "needs_background": "light"
     },
     "output_type": "display_data"
    }
   ],
   "source": [
    "plot_acf(iot_fin['hum'], lags = 50)\n",
    "pyplot.show()"
   ]
  },
  {
   "cell_type": "markdown",
   "metadata": {},
   "source": [
    "<B>PARTIAL AUTOCORRELATION FUNCTION PLOTS FOR IOT SENSOR DATA <B>"
   ]
  },
  {
   "cell_type": "code",
   "execution_count": 530,
   "metadata": {
    "scrolled": true
   },
   "outputs": [
    {
     "data": {
      "image/png": "[encoded data removed]",
      "text/plain": [
       "<Figure size 432x288 with 1 Axes>"
      ]
     },
     "metadata": {
      "needs_background": "light"
     },
     "output_type": "display_data"
    }
   ],
   "source": [
    "plot_pacf(iot_fin['hum'],lags = 50)\n",
    "pyplot.show()"
   ]
  },
  {
   "cell_type": "code",
   "execution_count": null,
   "metadata": {},
   "outputs": [],
   "source": []
  },
  {
   "cell_type": "markdown",
   "metadata": {},
   "source": [
    "### SOURCE 1 AND 2"
   ]
  },
  {
   "cell_type": "code",
   "execution_count": 531,
   "metadata": {},
   "outputs": [],
   "source": [
    "source1 = pd.read_csv('plot2-Source 1 Weather.csv')\n",
    "source2 = pd.read_csv('plot2-Source 2 Weather.csv')"
   ]
  },
  {
   "cell_type": "code",
   "execution_count": 533,
   "metadata": {},
   "outputs": [],
   "source": [
    "source1['date'] = [i[0:10] for i in source1['datetime']]\n",
    "source2['date'] = [i[0:10] for i in source2['datetime']]"
   ]
  },
  {
   "cell_type": "code",
   "execution_count": 534,
   "metadata": {},
   "outputs": [],
   "source": [
    "source1_temp = source1[['value','datetime','date']][source1['sensor'] == 'TC']\n",
    "source2_temp = source2[['value','datetime','date']][source2['sensor'] == 'TC']\n",
    "\n",
    "source1_pres = source1[['value','datetime','date']][source1['sensor'] == 'PRES']\n",
    "source2_pres = source2[['value','datetime','date']][source2['sensor'] == 'PRES']\n",
    "\n",
    "source1_hum = source1[['value','datetime','date']][source1['sensor'] == 'HUM']\n",
    "source2_hum = source2[['value','datetime','date']][source2['sensor'] == 'HUM']"
   ]
  },
  {
   "cell_type": "markdown",
   "metadata": {},
   "source": [
    "<B>Reshaping Data in Source-1 and Source-2 Datasets to align data from the same hour<B>"
   ]
  },
  {
   "cell_type": "code",
   "execution_count": 535,
   "metadata": {},
   "outputs": [],
   "source": [
    "source_1tp = pd.merge(source1_temp, source1_pres, on = 'datetime', how = 'inner')\n",
    "source_1tp.columns = ['temp','datetime','date','pres','giv1']\n",
    "source_1 = pd.merge(source_1tp, source1_hum, on = 'datetime', how = 'inner')\n",
    "\n",
    "source_2tp = pd.merge(source2_temp, source2_pres, on = 'datetime', how = 'inner')\n",
    "source_2tp.columns = ['temp','datetime','date','pres','giv1']\n",
    "source_2 = pd.merge(source_2tp, source2_hum, on = 'datetime', how = 'inner')"
   ]
  },
  {
   "cell_type": "code",
   "execution_count": 536,
   "metadata": {},
   "outputs": [],
   "source": [
    "source_1 = source_1[['datetime','date_x','temp','pres','value']]\n",
    "source_1.columns = ['datetime','date','temp','pres','hum']\n",
    "\n",
    "source_2 = source_2[['datetime','date_x','temp','pres','value']]\n",
    "source_2.columns = ['datetime','date','temp','pres','hum']"
   ]
  },
  {
   "cell_type": "markdown",
   "metadata": {},
   "source": [
    "<B> Introducing Month, Day, and Hour columns in IOT, SOURCE-1, and SOURCE-2 <B>"
   ]
  },
  {
   "cell_type": "code",
   "execution_count": 537,
   "metadata": {},
   "outputs": [],
   "source": [
    "source_2['month'] = [int(i[5:7]) for i in source_2['datetime']]\n",
    "source_1['month'] = [int(i[5:7]) for i in source_1['datetime']]\n",
    "iot_fin['month'] = [int(i[5:7]) for i in iot_fin['datetime']]\n",
    "\n",
    "source_2['day'] = [int(i[8:10]) for i in source_2['datetime']]\n",
    "source_1['day'] = [int(i[8:10]) for i in source_1['datetime']]\n",
    "iot_fin['day'] = [int(i[8:10]) for i in iot_fin['datetime']]\n",
    "\n",
    "source_2['hour'] = [int(i[11:13]) for i in source_2['datetime']]\n",
    "source_1['hour'] = [int(i[11:13]) for i in source_1['datetime']]\n",
    "iot_fin['hour'] = [int(i[11:13]) for i in iot_fin['datetime']]"
   ]
  },
  {
   "cell_type": "code",
   "execution_count": 538,
   "metadata": {},
   "outputs": [
    {
     "name": "stderr",
     "output_type": "stream",
     "text": [
      "<ipython-input-538-edb3c31c8974>:2: SettingWithCopyWarning: \n",
      "A value is trying to be set on a copy of a slice from a DataFrame\n",
      "\n",
      "See the caveats in the documentation: https://pandas.pydata.org/pandas-docs/stable/user_guide/indexing.html#returning-a-view-versus-a-copy\n",
      "  source_2['datetime'][i] = source_2['datetime'][i][0:16]\n",
      "<ipython-input-538-edb3c31c8974>:4: SettingWithCopyWarning: \n",
      "A value is trying to be set on a copy of a slice from a DataFrame\n",
      "\n",
      "See the caveats in the documentation: https://pandas.pydata.org/pandas-docs/stable/user_guide/indexing.html#returning-a-view-versus-a-copy\n",
      "  source_1['datetime'][i] = source_1['datetime'][i][0:16]\n"
     ]
    }
   ],
   "source": [
    "for i in range(len(source_2)):\n",
    "    source_2['datetime'][i] = source_2['datetime'][i][0:16]\n",
    "for i in range(len(source_1)):\n",
    "    source_1['datetime'][i] = source_1['datetime'][i][0:16]"
   ]
  },
  {
   "cell_type": "code",
   "execution_count": null,
   "metadata": {},
   "outputs": [],
   "source": []
  },
  {
   "cell_type": "markdown",
   "metadata": {},
   "source": [
    "<B>AUTOCORRELATION FUNCTION PLOTS (ACF) FOR SOURCE-2 DATA<B>"
   ]
  },
  {
   "cell_type": "code",
   "execution_count": 539,
   "metadata": {},
   "outputs": [
    {
     "data": {
      "image/png": "[encoded data removed]",
      "text/plain": [
       "<Figure size 432x288 with 1 Axes>"
      ]
     },
     "metadata": {
      "needs_background": "light"
     },
     "output_type": "display_data"
    }
   ],
   "source": [
    "plot_acf(source_2['hum'], lags = 50)\n",
    "pyplot.show()"
   ]
  },
  {
   "cell_type": "markdown",
   "metadata": {},
   "source": [
    "<B> PARTIAL AUTOCORRELATION FUNCTION PLOTS FOR SOURCE-2 DATA <B>"
   ]
  },
  {
   "cell_type": "code",
   "execution_count": 540,
   "metadata": {},
   "outputs": [
    {
     "data": {
      "image/png": "[encoded data removed]",
      "text/plain": [
       "<Figure size 432x288 with 1 Axes>"
      ]
     },
     "metadata": {
      "needs_background": "light"
     },
     "output_type": "display_data"
    }
   ],
   "source": [
    "plot_pacf(source_2['hum'], lags = 50)\n",
    "pyplot.show()"
   ]
  },
  {
   "cell_type": "code",
   "execution_count": null,
   "metadata": {},
   "outputs": [],
   "source": []
  },
  {
   "cell_type": "markdown",
   "metadata": {},
   "source": [
    "<U> Extra readings found upon comparing source-1 and source-2 <U>"
   ]
  },
  {
   "cell_type": "code",
   "execution_count": 541,
   "metadata": {},
   "outputs": [],
   "source": [
    "li2 = source_2['date'].unique()\n",
    "li1 = source_2['date'].unique()\n",
    "li = []\n",
    "for i in li1:\n",
    "    edr = source_1[source_1['date'] == i]\n",
    "    edt = source_2[source_2['date'] == i]\n",
    "    if len(edr) != len(edt):\n",
    "        li.append(i)"
   ]
  },
  {
   "cell_type": "code",
   "execution_count": 625,
   "metadata": {},
   "outputs": [
    {
     "data": {
      "text/plain": [
       "100.0"
      ]
     },
     "execution_count": 625,
     "metadata": {},
     "output_type": "execute_result"
    }
   ],
   "source": [
    "iot_hum['value'].max()"
   ]
  },
  {
   "cell_type": "markdown",
   "metadata": {},
   "source": [
    "### SOURCE-1 CORRECTIONS AND IMPUTATIONS"
   ]
  },
  {
   "cell_type": "markdown",
   "metadata": {},
   "source": [
    "<B> Frequencey of data collection changes from x:00:00 to x:30:00. Remove the extra record <B>"
   ]
  },
  {
   "cell_type": "code",
   "execution_count": 542,
   "metadata": {},
   "outputs": [],
   "source": [
    "source_1[source_1['date'] == '2019-09-22']\n",
    "source_1_disc = source_1[6355:]\n",
    "source_1_ok = source_1[0:6355]"
   ]
  },
  {
   "cell_type": "markdown",
   "metadata": {},
   "source": [
    " "
   ]
  },
  {
   "cell_type": "markdown",
   "metadata": {},
   "source": [
    "<B> Manually interpolate the :30 minute data records to estimate values at :00 minutes. <B>"
   ]
  },
  {
   "cell_type": "code",
   "execution_count": 543,
   "metadata": {},
   "outputs": [],
   "source": [
    "tmp1 = []\n",
    "prs1 = []\n",
    "hum1 = []\n",
    "dt1 = []\n",
    "dte1 = []\n",
    "hr1 = []\n",
    "m1 = []\n",
    "d1 = []\n",
    "for i in range(len(source_1_disc)-1):\n",
    "    tmp1.append((float(source_1_disc['temp'].iloc[i])+float(source_1_disc['temp'].iloc[i+1]))/2)\n",
    "    prs1.append((float(source_1_disc['pres'].iloc[i])+float(source_1_disc['pres'].iloc[i+1]))/2)\n",
    "    hum1.append((float(source_1_disc['hum'].iloc[i])+float(source_1_disc['hum'].iloc[i+1]))/2)\n",
    "    dt1.append(source_1_disc['datetime'].iloc[i+1][0:14]+'00'+source_1_disc['datetime'].iloc[i+1][16:])\n",
    "    dte1.append(source_1_disc['date'].iloc[i+1])\n",
    "    hr1.append(source_1_disc['hour'].iloc[i+1])\n",
    "    m1.append(source_1_disc['month'].iloc[i+1])\n",
    "    d1.append(source_1_disc['day'].iloc[i+1])\n",
    "\n",
    "source_1_disc_r = pd.DataFrame({'datetime':dt1,'date':dte1,'temp':tmp1,'pres':prs1,'hum':hum1,'month':m1,'day':d1,'hour':hr1})"
   ]
  },
  {
   "cell_type": "code",
   "execution_count": 544,
   "metadata": {},
   "outputs": [],
   "source": [
    "source_1 = source_1_ok.append(source_1_disc_r)\n",
    "source_1 = source_1.reset_index(drop = True)\n",
    "source_1 = source_1[['datetime','date','temp','pres','hum','month','day','hour']]"
   ]
  },
  {
   "cell_type": "markdown",
   "metadata": {},
   "source": [
    " "
   ]
  },
  {
   "cell_type": "markdown",
   "metadata": {},
   "source": [
    "<B> Check which combos of month and day have missing entries in Source-1 <B>"
   ]
  },
  {
   "cell_type": "code",
   "execution_count": 545,
   "metadata": {},
   "outputs": [],
   "source": [
    "df12 = (source_1.groupby(['month','day']).apply(lambda x : 24-len(x)).reset_index(name = 'missing_entries'))\n",
    "df12_req = df12[df12['missing_entries'] > 0].reset_index(drop = True)"
   ]
  },
  {
   "cell_type": "markdown",
   "metadata": {},
   "source": [
    " "
   ]
  },
  {
   "cell_type": "markdown",
   "metadata": {},
   "source": [
    "<B> Records are missing in a continuous manner, cannot interpolate on an hourly basis.</B> Hence, values from the previous day at the same time and the next day at the same time were used to impute these missing values "
   ]
  },
  {
   "cell_type": "code",
   "execution_count": 546,
   "metadata": {},
   "outputs": [],
   "source": [
    "sd11 = list(range(24))\n",
    "for i in range(len(df12_req)):\n",
    "    o,p = df12_req[['month','day']].iloc[i]\n",
    "    reqs = source_1[(source_1['month'] == o) & (source_1['day'] == p)]\n",
    "    \n",
    "    sd12 = [yo for yo in sd11 if yo not in list(reqs['hour'])]\n",
    "    \n",
    "    for l in sd12:\n",
    "        if len(str(l)) == 1:\n",
    "            hr = str(0)+str(l)\n",
    "        else:\n",
    "            hr = str(l)\n",
    "        \n",
    "        dt = reqs['datetime'].iloc[0][0:10]+' '+hr+reqs['datetime'].iloc[0][13:]\n",
    "        dte = reqs['date'].iloc[i]\n",
    "        tmp = (float(source_1['temp'][(source_1['month'] == o) & (source_1['day'] == p-1) & (source_1['hour'] == int(hr))]) + float(source_1['temp'][(source_1['month'] == o) & (source_1['day'] == p+1) & (source_1['hour'] == int(hr))]))/2\n",
    "        prs = (float(source_2['pres'][(source_2['month'] == o) & (source_1['day'] == p-1) & (source_1['hour'] == int(hr))]) + float(source_1['pres'][(source_1['month'] == o) & (source_1['day'] == p+1) & (source_1['hour'] == int(hr))]))/2\n",
    "        hm = (float(source_2['hum'][(source_2['month'] == o) & (source_1['day'] == p-1) & (source_1['hour'] == int(hr))]) + float(source_1['hum'][(source_1['month'] == o) & (source_1['day'] == p+1) & (source_1['hour'] == int(hr))]))/2\n",
    "        \n",
    "        cdf = pd.DataFrame({'datetime':dt,\n",
    "                           'date':dte,\n",
    "                           'temp':tmp,\n",
    "                           'pres':prs,\n",
    "                           'hum':hm,\n",
    "                           'hour':int(hr),\n",
    "                           'month':o,\n",
    "                           'day':p},\n",
    "                           index = [len(source_1)])\n",
    "        source_1 = source_1.append(cdf)\n",
    "\n",
    "source_1 = source_1.sort_values(by = ['datetime'])\n",
    "source_1 = source_1.reset_index(drop = True)\n",
    "source_1 = source_1[['datetime','date','temp','pres','hum','month','day','hour']]"
   ]
  },
  {
   "cell_type": "code",
   "execution_count": 547,
   "metadata": {},
   "outputs": [],
   "source": [
    "source_1.datetime = pd.to_datetime(source_1.datetime, format = '%Y-%m-%d %H:%M')\n",
    "source_1 = source_1.set_index('datetime')\n",
    "\n",
    "source_1_fin = source_1\n",
    "source_1_fin = source_1_fin[['temp','pres','hum']]"
   ]
  },
  {
   "cell_type": "markdown",
   "metadata": {},
   "source": [
    " "
   ]
  },
  {
   "cell_type": "markdown",
   "metadata": {},
   "source": [
    "### SOURCE-2 IMPUTATIONS"
   ]
  },
  {
   "cell_type": "markdown",
   "metadata": {},
   "source": [
    "<B> Check which combos of month and day have missing entries in Source-2 <B>"
   ]
  },
  {
   "cell_type": "code",
   "execution_count": 548,
   "metadata": {},
   "outputs": [],
   "source": [
    "df2 = (source_2.groupby(['month','day']).apply(lambda x : 24-len(x)).reset_index(name = 'missing_entries'))\n",
    "df2_req = df2[df2['missing_entries'] != 0].reset_index(drop = True)"
   ]
  },
  {
   "cell_type": "code",
   "execution_count": 549,
   "metadata": {},
   "outputs": [
    {
     "data": {
      "text/html": [
       "<div>\n",
       "<style scoped>\n",
       "    .dataframe tbody tr th:only-of-type {\n",
       "        vertical-align: middle;\n",
       "    }\n",
       "\n",
       "    .dataframe tbody tr th {\n",
       "        vertical-align: top;\n",
       "    }\n",
       "\n",
       "    .dataframe thead th {\n",
       "        text-align: right;\n",
       "    }\n",
       "</style>\n",
       "<table border=\"1\" class=\"dataframe\">\n",
       "  <thead>\n",
       "    <tr style=\"text-align: right;\">\n",
       "      <th></th>\n",
       "      <th>month</th>\n",
       "      <th>day</th>\n",
       "      <th>missing_entries</th>\n",
       "    </tr>\n",
       "  </thead>\n",
       "  <tbody>\n",
       "    <tr>\n",
       "      <th>0</th>\n",
       "      <td>10</td>\n",
       "      <td>10</td>\n",
       "      <td>6</td>\n",
       "    </tr>\n",
       "    <tr>\n",
       "      <th>1</th>\n",
       "      <td>10</td>\n",
       "      <td>11</td>\n",
       "      <td>18</td>\n",
       "    </tr>\n",
       "  </tbody>\n",
       "</table>\n",
       "</div>"
      ],
      "text/plain": [
       "   month  day  missing_entries\n",
       "0     10   10                6\n",
       "1     10   11               18"
      ]
     },
     "execution_count": 549,
     "metadata": {},
     "output_type": "execute_result"
    }
   ],
   "source": [
    "df2_req"
   ]
  },
  {
   "cell_type": "markdown",
   "metadata": {},
   "source": [
    " "
   ]
  },
  {
   "cell_type": "markdown",
   "metadata": {},
   "source": [
    "<B> Records are missing in a continuous manner, cannot interpolate on an hourly basis.</B> Hence, values from the previous day at the same time and the next day at the same time were used to impute these missing values "
   ]
  },
  {
   "cell_type": "code",
   "execution_count": 550,
   "metadata": {},
   "outputs": [],
   "source": [
    "sd = list(range(24))\n",
    "for i in range(len(df2_req)):\n",
    "    o,p = df2_req[['month','day']].iloc[i]\n",
    "    reqs = source_2[(source_2['month'] == o) & (source_2['day'] == p)]\n",
    "    \n",
    "    sd2 = [yo for yo in sd if yo not in list(reqs['hour'])]\n",
    "    \n",
    "    for l in sd2:\n",
    "        if len(str(l)) == 1:\n",
    "            hr = str(0)+str(l)\n",
    "        else:\n",
    "            hr = str(l)\n",
    "        \n",
    "        dt = reqs['datetime'].iloc[0][0:10]+' '+hr+reqs['datetime'].iloc[0][13:]\n",
    "        dte = reqs['date'].iloc[i]\n",
    "        tmp = (float(source_2['temp'][(source_2['month'] == o) & (source_2['day'] == p-1) & (source_2['hour'] == int(hr))]) + float(source_2['temp'][(source_2['month'] == o) & (source_2['day'] == p+1) & (source_2['hour'] == int(hr))]))/2\n",
    "        prs = (float(source_2['pres'][(source_2['month'] == o) & (source_2['day'] == p-1) & (source_2['hour'] == int(hr))]) + float(source_2['pres'][(source_2['month'] == o) & (source_2['day'] == p+1) & (source_2['hour'] == int(hr))]))/2\n",
    "        hm = (float(source_2['hum'][(source_2['month'] == o) & (source_2['day'] == p-1) & (source_2['hour'] == int(hr))]) + float(source_2['hum'][(source_2['month'] == o) & (source_2['day'] == p+1) & (source_2['hour'] == int(hr))]))/2\n",
    "        \n",
    "        cdf = pd.DataFrame({'datetime':dt,\n",
    "                           'date':dte,\n",
    "                           'temp':tmp,\n",
    "                           'pres':prs,\n",
    "                           'hum':hm,\n",
    "                           'hour':int(hr),\n",
    "                           'month':o,\n",
    "                           'day':p},\n",
    "                           index = [len(source_2)])\n",
    "        source_2 = source_2.append(cdf)\n",
    "\n",
    "source_2 = source_2.sort_values(by = ['datetime'])\n",
    "source_2 = source_2.reset_index(drop = True)\n",
    "source_2 = source_2[['datetime','date','temp','pres','hum','month','day','hour']]"
   ]
  },
  {
   "cell_type": "markdown",
   "metadata": {},
   "source": [
    "<B> Manually interpolate the data records collected at varying intervals to estimate values at :00 minutes. <B>"
   ]
  },
  {
   "cell_type": "code",
   "execution_count": 551,
   "metadata": {},
   "outputs": [],
   "source": [
    "tmp2 = []\n",
    "prs2 = []\n",
    "hum2 = []\n",
    "dt2 = []\n",
    "dte2 = []\n",
    "hr2 = []\n",
    "m2 = []\n",
    "d2 = []\n",
    "for i in range(len(source_2)-1):\n",
    "    tmp2.append((float(source_2['temp'].iloc[i])+float(source_2['temp'].iloc[i+1]))/2)\n",
    "    prs2.append((float(source_2['pres'].iloc[i])+float(source_2['pres'].iloc[i+1]))/2)\n",
    "    hum2.append((float(source_2['hum'].iloc[i])+float(source_2['hum'].iloc[i+1]))/2)\n",
    "    dt2.append(source_2['datetime'].iloc[i+1][0:14]+'00'+source_2['datetime'].iloc[i+1][16:])\n",
    "    dte2.append(source_2['date'].iloc[i+1])\n",
    "    hr2.append(source_2['hour'].iloc[i+1])\n",
    "    m2.append(source_2['month'].iloc[i+1])\n",
    "    d2.append(source_2['day'].iloc[i+1])\n",
    "\n",
    "source_2_r = pd.DataFrame({'datetime':dt2,'date':dte2,'temp':tmp2,'pres':prs2,'hum':hum2,'month':m2,'day':d2,'hour':hr2})"
   ]
  },
  {
   "cell_type": "code",
   "execution_count": 552,
   "metadata": {},
   "outputs": [],
   "source": [
    "source_2_r = source_2_r.append(pd.DataFrame({'datetime':source_2['datetime'][0][0:14]+'00','date':source_2['date'][0],\n",
    "                                             'temp':source_2['temp'][0],'pres':source_2['pres'][0],\n",
    "                                             'hum':source_2['hum'][0],'hour':source_2['hour'][0],'month':source_2['month'][0],\n",
    "                                             'day':source_2['day'][0]},index = [8759]))\n",
    "\n",
    "source_2_r = source_2_r.sort_values(by = ['datetime'])\n",
    "source_2_r = source_2_r.reset_index(drop = True)\n",
    "source_2_r = source_2_r[['datetime','date','temp','pres','hum','month','day','hour']]"
   ]
  },
  {
   "cell_type": "code",
   "execution_count": 553,
   "metadata": {},
   "outputs": [],
   "source": [
    "source_2_r.datetime = pd.to_datetime(source_2_r.datetime, format = '%Y-%m-%d %H:%M')\n",
    "source_2_r = source_2_r.set_index('datetime')\n",
    "\n",
    "source_2_fin = source_2_r\n",
    "source_2_fin = source_2_fin[['temp','pres','hum']]"
   ]
  },
  {
   "cell_type": "markdown",
   "metadata": {},
   "source": [
    " "
   ]
  },
  {
   "cell_type": "markdown",
   "metadata": {},
   "source": [
    " "
   ]
  },
  {
   "cell_type": "markdown",
   "metadata": {},
   "source": [
    "### Missing observations in IOT data"
   ]
  },
  {
   "cell_type": "code",
   "execution_count": 554,
   "metadata": {},
   "outputs": [],
   "source": [
    "li3 = iot_fin['date'].unique()\n",
    "li2 = source_2['date'].unique()\n",
    "lit = []\n",
    "for i in li1:\n",
    "    edr = source_2[source_2['date'] == i]\n",
    "    edt = iot_fin[iot_fin['date'] == i]\n",
    "    if len(edr) != len(edt):\n",
    "        lit.append(i)"
   ]
  },
  {
   "cell_type": "markdown",
   "metadata": {},
   "source": [
    "### IOT DATA - CORRECTIONS AND IMPUTATIONS"
   ]
  },
  {
   "cell_type": "code",
   "execution_count": 555,
   "metadata": {},
   "outputs": [],
   "source": [
    "iot_exper = iot_fin"
   ]
  },
  {
   "cell_type": "markdown",
   "metadata": {},
   "source": [
    "<B> determining which observations are missing <B>"
   ]
  },
  {
   "cell_type": "code",
   "execution_count": 556,
   "metadata": {},
   "outputs": [],
   "source": [
    "df2_iot = (iot_fin.groupby(['month','day']).apply(lambda x : 24-len(x)).reset_index(name = 'missing_entries'))"
   ]
  },
  {
   "cell_type": "code",
   "execution_count": 557,
   "metadata": {},
   "outputs": [],
   "source": [
    "df2_iot_req = df2_iot[df2_iot['missing_entries']>0]\n",
    "df2_iot_req = df2_iot_req.reset_index(drop = True)"
   ]
  },
  {
   "cell_type": "markdown",
   "metadata": {},
   "source": [
    "<B> Data is missing irregularly, cannot interpolate manually like we did previously </B>. Forward fill and backward fill would be too naive. For now, we create blank records for the missing observations to impute later"
   ]
  },
  {
   "cell_type": "code",
   "execution_count": 558,
   "metadata": {},
   "outputs": [],
   "source": [
    "sd = list(range(24))\n",
    "for i in range(len(df2_iot_req)):\n",
    "    o,p = df2_iot_req[['month','day']].iloc[i]\n",
    "    reqs = iot_exper[(iot_exper['month'] == o) & (iot_exper['day'] == p)]\n",
    "    \n",
    "    sd2 = [yo for yo in sd if yo not in list(reqs['hour'])]\n",
    "    \n",
    "    for l in sd2:\n",
    "        if len(str(l)) == 1:\n",
    "            hr = str(0)+str(l)\n",
    "        else:\n",
    "            hr = str(l)\n",
    "        \n",
    "        dt = reqs['datetime'].iloc[0][0:10]+' '+hr+reqs['datetime'].iloc[0][13:]\n",
    "        dte = dt[0:10]\n",
    "        tmp = ''\n",
    "        prs = ''\n",
    "        hm = ''\n",
    "        \n",
    "        cdf = pd.DataFrame({'datetime':dt,\n",
    "                           'date':dte,\n",
    "                           'temp':tmp,\n",
    "                           'pres':prs,\n",
    "                           'hum':hm,\n",
    "                           'hour':int(hr),\n",
    "                           'month':o,\n",
    "                           'day':p},\n",
    "                           index = [len(iot_exper)])\n",
    "        iot_exper = iot_exper.append(cdf)\n",
    "\n",
    "iot_exper = iot_exper.sort_values(by = ['datetime'])\n",
    "iot_exper = iot_exper.reset_index(drop = True)\n",
    "iot_exper = iot_exper[['datetime','date','temp','pres','hum','month','day','hour']]"
   ]
  },
  {
   "cell_type": "markdown",
   "metadata": {},
   "source": [
    "<B> A specific day has multiple entries in the same hour but has missing records for quite a few other hours - blank records introduced, extra entries removed"
   ]
  },
  {
   "cell_type": "code",
   "execution_count": 559,
   "metadata": {},
   "outputs": [],
   "source": [
    "iot_experiment = iot_exper[0:8046].append(iot_exper[8056:])"
   ]
  },
  {
   "cell_type": "code",
   "execution_count": 560,
   "metadata": {},
   "outputs": [],
   "source": [
    "df3_iot = (iot_experiment.groupby(['month','day']).apply(lambda x : 24-len(x)).reset_index(name = 'missing_entries'))\n",
    "df3_iot_req = df3_iot[df3_iot['missing_entries']>0]"
   ]
  },
  {
   "cell_type": "code",
   "execution_count": 561,
   "metadata": {},
   "outputs": [],
   "source": [
    "sd = list(range(24))\n",
    "o = 12\n",
    "p = 2\n",
    "reqs = iot_experiment[(iot_experiment['month'] == o) & (iot_experiment['day'] == p)]\n",
    "    \n",
    "sd2 = [yo for yo in sd if yo not in list(reqs['hour'])]\n",
    "\n",
    "for l in sd2:\n",
    "    if len(str(l)) == 1:\n",
    "        hr = str(0)+str(l)\n",
    "    else:\n",
    "        hr = str(l)\n",
    "\n",
    "    dt = reqs['datetime'].iloc[0][0:10]+' '+hr+reqs['datetime'].iloc[0][13:]\n",
    "    dte = dt[0:10]\n",
    "    tmp = ''\n",
    "    prs = ''\n",
    "    hm = ''\n",
    "\n",
    "    cdf = pd.DataFrame({'datetime':dt,\n",
    "                       'date':dte,\n",
    "                       'temp':tmp,\n",
    "                       'pres':prs,\n",
    "                       'hum':hm,\n",
    "                       'hour':int(hr),\n",
    "                       'month':o,\n",
    "                       'day':p},\n",
    "                       index = [len(iot_experiment)])\n",
    "    iot_experiment = iot_experiment.append(cdf)\n",
    "\n",
    "iot_experiment = iot_experiment.sort_values(by = ['datetime'])\n",
    "iot_experiment = iot_experiment.reset_index(drop = True)\n",
    "iot_experiment = iot_experiment[['datetime','date','temp','pres','hum','month','day','hour']]"
   ]
  },
  {
   "cell_type": "markdown",
   "metadata": {},
   "source": [
    "<B> empty spaces introduced due to blank records - changed to na <B>"
   ]
  },
  {
   "cell_type": "code",
   "execution_count": 562,
   "metadata": {},
   "outputs": [],
   "source": [
    "iot_experiment1 = iot_experiment.replace(r'^\\s*$', np.nan, regex=True)"
   ]
  },
  {
   "cell_type": "markdown",
   "metadata": {},
   "source": [
    "<B> those records which can be imputed manually through previous methods are filled <B>"
   ]
  },
  {
   "cell_type": "code",
   "execution_count": 563,
   "metadata": {},
   "outputs": [],
   "source": [
    "tmp3 = []\n",
    "prs3 = []\n",
    "hum3 = []\n",
    "dt3 = []\n",
    "dte3 = []\n",
    "hr3 = []\n",
    "m3 = []\n",
    "d3 = []\n",
    "for i in range(len(iot_experiment1)-1):\n",
    "    tmp3.append((float(iot_experiment1['temp'].iloc[i])+float(iot_experiment1['temp'].iloc[i+1]))/2)\n",
    "    prs3.append((float(iot_experiment1['pres'].iloc[i])+float(iot_experiment1['pres'].iloc[i+1]))/2)\n",
    "    hum3.append((float(iot_experiment1['hum'].iloc[i])+float(iot_experiment1['hum'].iloc[i+1]))/2)\n",
    "    dt3.append(iot_experiment1['datetime'].iloc[i+1][0:14]+'00'+iot_experiment1['datetime'].iloc[i+1][16:])\n",
    "    dte3.append(iot_experiment1['date'].iloc[i+1])\n",
    "    hr3.append(iot_experiment1['hour'].iloc[i+1])\n",
    "    m3.append(iot_experiment1['month'].iloc[i+1])\n",
    "    d3.append(iot_experiment1['day'].iloc[i+1])\n",
    "\n",
    "iot_experiment1_r = pd.DataFrame({'datetime':dt3,'date':dte3,'temp':tmp3,'pres':prs3,'hum':hum3,'month':m3,'day':d3,'hour':hr3})"
   ]
  },
  {
   "cell_type": "code",
   "execution_count": 564,
   "metadata": {},
   "outputs": [],
   "source": [
    "iot_experiment1_r = iot_experiment1_r.append(pd.DataFrame({'datetime':iot_experiment1['datetime'][0][0:14]+'00','date':iot_experiment1['date'][0],\n",
    "                                             'temp':iot_experiment1['temp'][0],'pres':iot_experiment1['pres'][0],\n",
    "                                             'hum':iot_experiment1['hum'][0],'hour':iot_experiment1['hour'][0],'month':iot_experiment1['month'][0],\n",
    "                                             'day':iot_experiment1['day'][0]},index = [8759]))\n",
    "\n",
    "iot_experiment1_r = iot_experiment1_r.sort_values(by = ['datetime'])\n",
    "iot_experiment1_r = iot_experiment1_r.reset_index(drop = True)\n",
    "iot_experiment1_r = iot_experiment1_r[['datetime','date','temp','pres','hum','month','day','hour']]"
   ]
  },
  {
   "cell_type": "markdown",
   "metadata": {},
   "source": [
    "<B> The rest are filled in using a built in cubic interpolation. </B> Method = 'Time' won't work for hourly resolution"
   ]
  },
  {
   "cell_type": "markdown",
   "metadata": {},
   "source": [
    "### INTERPOLATION - METHOD : CUBIC"
   ]
  },
  {
   "cell_type": "code",
   "execution_count": 565,
   "metadata": {},
   "outputs": [],
   "source": [
    "iot_experiment1_r.datetime = pd.to_datetime(iot_experiment1_r.datetime, format = '%Y-%m-%d %H:%M')\n",
    "iot_experiment1_r = iot_experiment1_r.set_index('datetime')\n",
    "\n",
    "iot_experiment1_r['temp'].interpolate(method='cubic', inplace = True)\n",
    "iot_experiment1_r['pres'].interpolate(method='cubic', inplace = True)\n",
    "iot_experiment1_r['hum'].interpolate(method='cubic', inplace = True)"
   ]
  },
  {
   "cell_type": "code",
   "execution_count": 566,
   "metadata": {},
   "outputs": [
    {
     "name": "stderr",
     "output_type": "stream",
     "text": [
      "<ipython-input-566-157c5b08cb32>:3: SettingWithCopyWarning: \n",
      "A value is trying to be set on a copy of a slice from a DataFrame\n",
      "\n",
      "See the caveats in the documentation: https://pandas.pydata.org/pandas-docs/stable/user_guide/indexing.html#returning-a-view-versus-a-copy\n",
      "  iot_experiment1_r['hum'][i] = 100\n"
     ]
    }
   ],
   "source": [
    "for i in range(len(iot_experiment1_r)):\n",
    "    if iot_experiment1_r['hum'][i] > 100:\n",
    "        iot_experiment1_r['hum'][i] = 100"
   ]
  },
  {
   "cell_type": "code",
   "execution_count": 567,
   "metadata": {},
   "outputs": [],
   "source": [
    "iot_final = iot_experiment1_r[['temp','pres','hum']]"
   ]
  },
  {
   "cell_type": "code",
   "execution_count": 568,
   "metadata": {},
   "outputs": [],
   "source": [
    "iot_final.to_csv('iot_final.csv')"
   ]
  },
  {
   "cell_type": "code",
   "execution_count": 569,
   "metadata": {},
   "outputs": [
    {
     "data": {
      "text/html": [
       "<div>\n",
       "<style scoped>\n",
       "    .dataframe tbody tr th:only-of-type {\n",
       "        vertical-align: middle;\n",
       "    }\n",
       "\n",
       "    .dataframe tbody tr th {\n",
       "        vertical-align: top;\n",
       "    }\n",
       "\n",
       "    .dataframe thead th {\n",
       "        text-align: right;\n",
       "    }\n",
       "</style>\n",
       "<table border=\"1\" class=\"dataframe\">\n",
       "  <thead>\n",
       "    <tr style=\"text-align: right;\">\n",
       "      <th></th>\n",
       "      <th>temp</th>\n",
       "      <th>pres</th>\n",
       "      <th>hum</th>\n",
       "    </tr>\n",
       "    <tr>\n",
       "      <th>datetime</th>\n",
       "      <th></th>\n",
       "      <th></th>\n",
       "      <th></th>\n",
       "    </tr>\n",
       "  </thead>\n",
       "  <tbody>\n",
       "    <tr>\n",
       "      <th>2019-01-01 00:00:00</th>\n",
       "      <td>5.920</td>\n",
       "      <td>98650.550</td>\n",
       "      <td>100.00</td>\n",
       "    </tr>\n",
       "    <tr>\n",
       "      <th>2019-01-01 01:00:00</th>\n",
       "      <td>5.735</td>\n",
       "      <td>98693.365</td>\n",
       "      <td>100.00</td>\n",
       "    </tr>\n",
       "    <tr>\n",
       "      <th>2019-01-01 02:00:00</th>\n",
       "      <td>9.240</td>\n",
       "      <td>98779.480</td>\n",
       "      <td>100.00</td>\n",
       "    </tr>\n",
       "    <tr>\n",
       "      <th>2019-01-01 03:00:00</th>\n",
       "      <td>15.980</td>\n",
       "      <td>98851.110</td>\n",
       "      <td>94.93</td>\n",
       "    </tr>\n",
       "    <tr>\n",
       "      <th>2019-01-01 04:00:00</th>\n",
       "      <td>21.515</td>\n",
       "      <td>98874.275</td>\n",
       "      <td>63.16</td>\n",
       "    </tr>\n",
       "    <tr>\n",
       "      <th>...</th>\n",
       "      <td>...</td>\n",
       "      <td>...</td>\n",
       "      <td>...</td>\n",
       "    </tr>\n",
       "    <tr>\n",
       "      <th>2019-12-31 19:00:00</th>\n",
       "      <td>17.175</td>\n",
       "      <td>98239.580</td>\n",
       "      <td>100.00</td>\n",
       "    </tr>\n",
       "    <tr>\n",
       "      <th>2019-12-31 20:00:00</th>\n",
       "      <td>16.980</td>\n",
       "      <td>98225.910</td>\n",
       "      <td>100.00</td>\n",
       "    </tr>\n",
       "    <tr>\n",
       "      <th>2019-12-31 21:00:00</th>\n",
       "      <td>16.550</td>\n",
       "      <td>98210.735</td>\n",
       "      <td>100.00</td>\n",
       "    </tr>\n",
       "    <tr>\n",
       "      <th>2019-12-31 22:00:00</th>\n",
       "      <td>15.955</td>\n",
       "      <td>98183.355</td>\n",
       "      <td>100.00</td>\n",
       "    </tr>\n",
       "    <tr>\n",
       "      <th>2019-12-31 23:00:00</th>\n",
       "      <td>15.700</td>\n",
       "      <td>98199.540</td>\n",
       "      <td>100.00</td>\n",
       "    </tr>\n",
       "  </tbody>\n",
       "</table>\n",
       "<p>8760 rows × 3 columns</p>\n",
       "</div>"
      ],
      "text/plain": [
       "                       temp       pres     hum\n",
       "datetime                                      \n",
       "2019-01-01 00:00:00   5.920  98650.550  100.00\n",
       "2019-01-01 01:00:00   5.735  98693.365  100.00\n",
       "2019-01-01 02:00:00   9.240  98779.480  100.00\n",
       "2019-01-01 03:00:00  15.980  98851.110   94.93\n",
       "2019-01-01 04:00:00  21.515  98874.275   63.16\n",
       "...                     ...        ...     ...\n",
       "2019-12-31 19:00:00  17.175  98239.580  100.00\n",
       "2019-12-31 20:00:00  16.980  98225.910  100.00\n",
       "2019-12-31 21:00:00  16.550  98210.735  100.00\n",
       "2019-12-31 22:00:00  15.955  98183.355  100.00\n",
       "2019-12-31 23:00:00  15.700  98199.540  100.00\n",
       "\n",
       "[8760 rows x 3 columns]"
      ]
     },
     "execution_count": 569,
     "metadata": {},
     "output_type": "execute_result"
    }
   ],
   "source": [
    "iot_final"
   ]
  },
  {
   "cell_type": "code",
   "execution_count": 517,
   "metadata": {},
   "outputs": [
    {
     "data": {
      "text/html": [
       "<div>\n",
       "<style scoped>\n",
       "    .dataframe tbody tr th:only-of-type {\n",
       "        vertical-align: middle;\n",
       "    }\n",
       "\n",
       "    .dataframe tbody tr th {\n",
       "        vertical-align: top;\n",
       "    }\n",
       "\n",
       "    .dataframe thead th {\n",
       "        text-align: right;\n",
       "    }\n",
       "</style>\n",
       "<table border=\"1\" class=\"dataframe\">\n",
       "  <thead>\n",
       "    <tr style=\"text-align: right;\">\n",
       "      <th></th>\n",
       "      <th>date</th>\n",
       "      <th>temp</th>\n",
       "      <th>pres</th>\n",
       "      <th>hum</th>\n",
       "      <th>month</th>\n",
       "      <th>day</th>\n",
       "      <th>hour</th>\n",
       "    </tr>\n",
       "    <tr>\n",
       "      <th>datetime</th>\n",
       "      <th></th>\n",
       "      <th></th>\n",
       "      <th></th>\n",
       "      <th></th>\n",
       "      <th></th>\n",
       "      <th></th>\n",
       "      <th></th>\n",
       "    </tr>\n",
       "  </thead>\n",
       "  <tbody>\n",
       "    <tr>\n",
       "      <th>2019-01-01 00:00:00</th>\n",
       "      <td>2019-01-01</td>\n",
       "      <td>10.067472</td>\n",
       "      <td>1020.710</td>\n",
       "      <td>59.0</td>\n",
       "      <td>1</td>\n",
       "      <td>1</td>\n",
       "      <td>0</td>\n",
       "    </tr>\n",
       "    <tr>\n",
       "      <th>2019-01-01 01:00:00</th>\n",
       "      <td>2019-01-01</td>\n",
       "      <td>10.720302</td>\n",
       "      <td>1020.950</td>\n",
       "      <td>58.0</td>\n",
       "      <td>1</td>\n",
       "      <td>1</td>\n",
       "      <td>1</td>\n",
       "    </tr>\n",
       "    <tr>\n",
       "      <th>2019-01-01 02:00:00</th>\n",
       "      <td>2019-01-01</td>\n",
       "      <td>12.134304</td>\n",
       "      <td>1021.425</td>\n",
       "      <td>56.0</td>\n",
       "      <td>1</td>\n",
       "      <td>1</td>\n",
       "      <td>2</td>\n",
       "    </tr>\n",
       "    <tr>\n",
       "      <th>2019-01-01 03:00:00</th>\n",
       "      <td>2019-01-01</td>\n",
       "      <td>13.970562</td>\n",
       "      <td>1021.675</td>\n",
       "      <td>52.5</td>\n",
       "      <td>1</td>\n",
       "      <td>1</td>\n",
       "      <td>3</td>\n",
       "    </tr>\n",
       "    <tr>\n",
       "      <th>2019-01-01 04:00:00</th>\n",
       "      <td>2019-01-01</td>\n",
       "      <td>16.548546</td>\n",
       "      <td>1021.490</td>\n",
       "      <td>46.5</td>\n",
       "      <td>1</td>\n",
       "      <td>1</td>\n",
       "      <td>4</td>\n",
       "    </tr>\n",
       "    <tr>\n",
       "      <th>...</th>\n",
       "      <td>...</td>\n",
       "      <td>...</td>\n",
       "      <td>...</td>\n",
       "      <td>...</td>\n",
       "      <td>...</td>\n",
       "      <td>...</td>\n",
       "      <td>...</td>\n",
       "    </tr>\n",
       "    <tr>\n",
       "      <th>2019-12-31 19:00:00</th>\n",
       "      <td>2019-12-31</td>\n",
       "      <td>17.065254</td>\n",
       "      <td>1017.100</td>\n",
       "      <td>70.5</td>\n",
       "      <td>12</td>\n",
       "      <td>31</td>\n",
       "      <td>19</td>\n",
       "    </tr>\n",
       "    <tr>\n",
       "      <th>2019-12-31 20:00:00</th>\n",
       "      <td>2019-12-31</td>\n",
       "      <td>16.159626</td>\n",
       "      <td>1016.800</td>\n",
       "      <td>73.5</td>\n",
       "      <td>12</td>\n",
       "      <td>31</td>\n",
       "      <td>20</td>\n",
       "    </tr>\n",
       "    <tr>\n",
       "      <th>2019-12-31 21:00:00</th>\n",
       "      <td>2019-12-31</td>\n",
       "      <td>15.237330</td>\n",
       "      <td>1016.600</td>\n",
       "      <td>76.0</td>\n",
       "      <td>12</td>\n",
       "      <td>31</td>\n",
       "      <td>21</td>\n",
       "    </tr>\n",
       "    <tr>\n",
       "      <th>2019-12-31 22:00:00</th>\n",
       "      <td>2019-12-31</td>\n",
       "      <td>14.959530</td>\n",
       "      <td>1016.550</td>\n",
       "      <td>77.0</td>\n",
       "      <td>12</td>\n",
       "      <td>31</td>\n",
       "      <td>22</td>\n",
       "    </tr>\n",
       "    <tr>\n",
       "      <th>2019-12-31 23:00:00</th>\n",
       "      <td>2019-12-31</td>\n",
       "      <td>15.420678</td>\n",
       "      <td>1016.700</td>\n",
       "      <td>76.0</td>\n",
       "      <td>12</td>\n",
       "      <td>31</td>\n",
       "      <td>23</td>\n",
       "    </tr>\n",
       "  </tbody>\n",
       "</table>\n",
       "<p>8760 rows × 7 columns</p>\n",
       "</div>"
      ],
      "text/plain": [
       "                           date       temp      pres   hum  month  day  hour\n",
       "datetime                                                                    \n",
       "2019-01-01 00:00:00  2019-01-01  10.067472  1020.710  59.0      1    1     0\n",
       "2019-01-01 01:00:00  2019-01-01  10.720302  1020.950  58.0      1    1     1\n",
       "2019-01-01 02:00:00  2019-01-01  12.134304  1021.425  56.0      1    1     2\n",
       "2019-01-01 03:00:00  2019-01-01  13.970562  1021.675  52.5      1    1     3\n",
       "2019-01-01 04:00:00  2019-01-01  16.548546  1021.490  46.5      1    1     4\n",
       "...                         ...        ...       ...   ...    ...  ...   ...\n",
       "2019-12-31 19:00:00  2019-12-31  17.065254  1017.100  70.5     12   31    19\n",
       "2019-12-31 20:00:00  2019-12-31  16.159626  1016.800  73.5     12   31    20\n",
       "2019-12-31 21:00:00  2019-12-31  15.237330  1016.600  76.0     12   31    21\n",
       "2019-12-31 22:00:00  2019-12-31  14.959530  1016.550  77.0     12   31    22\n",
       "2019-12-31 23:00:00  2019-12-31  15.420678  1016.700  76.0     12   31    23\n",
       "\n",
       "[8760 rows x 7 columns]"
      ]
     },
     "execution_count": 517,
     "metadata": {},
     "output_type": "execute_result"
    }
   ],
   "source": [
    "source_2_r"
   ]
  },
  {
   "cell_type": "markdown",
   "metadata": {},
   "source": [
    " "
   ]
  },
  {
   "cell_type": "markdown",
   "metadata": {},
   "source": [
    "### Decomposing the time series"
   ]
  },
  {
   "cell_type": "markdown",
   "metadata": {},
   "source": [
    "<B> Clear non-stationarity in the plots - series need to be stationarized. Seasonality is difficult to decipher, further testing required <B>"
   ]
  },
  {
   "cell_type": "markdown",
   "metadata": {},
   "source": [
    "### Temperature"
   ]
  },
  {
   "cell_type": "code",
   "execution_count": 570,
   "metadata": {},
   "outputs": [
    {
     "data": {
      "text/plain": [
       "<matplotlib.axes._subplots.AxesSubplot at 0x212dbe1c070>"
      ]
     },
     "execution_count": 570,
     "metadata": {},
     "output_type": "execute_result"
    },
    {
     "data": {
      "image/png": "[encoded data removed]",
      "text/plain": [
       "<Figure size 432x288 with 1 Axes>"
      ]
     },
     "metadata": {
      "needs_background": "light"
     },
     "output_type": "display_data"
    }
   ],
   "source": [
    "iot_final['temp'].plot()"
   ]
  },
  {
   "cell_type": "code",
   "execution_count": 571,
   "metadata": {},
   "outputs": [
    {
     "data": {
      "image/png": "[encoded data removed]",
      "text/plain": [
       "<Figure size 432x288 with 4 Axes>"
      ]
     },
     "metadata": {
      "needs_background": "light"
     },
     "output_type": "display_data"
    }
   ],
   "source": [
    "seasonal_decompose(iot_final['temp'],model = 'multiplicative').plot()\n",
    "pyplot.show()"
   ]
  },
  {
   "cell_type": "code",
   "execution_count": 572,
   "metadata": {},
   "outputs": [
    {
     "data": {
      "image/png": "[encoded data removed]",
      "text/plain": [
       "<Figure size 432x288 with 4 Axes>"
      ]
     },
     "metadata": {
      "needs_background": "light"
     },
     "output_type": "display_data"
    }
   ],
   "source": [
    "seasonal_decompose(iot_final['temp'][0:360], model = 'multiplicative').plot()\n",
    "pyplot.show()"
   ]
  },
  {
   "cell_type": "markdown",
   "metadata": {},
   "source": [
    "### Pressure"
   ]
  },
  {
   "cell_type": "code",
   "execution_count": 573,
   "metadata": {},
   "outputs": [
    {
     "data": {
      "text/plain": [
       "<matplotlib.axes._subplots.AxesSubplot at 0x212dda7f760>"
      ]
     },
     "execution_count": 573,
     "metadata": {},
     "output_type": "execute_result"
    },
    {
     "data": {
      "image/png": "[encoded data removed]",
      "text/plain": [
       "<Figure size 432x288 with 1 Axes>"
      ]
     },
     "metadata": {
      "needs_background": "light"
     },
     "output_type": "display_data"
    }
   ],
   "source": [
    "iot_final['pres'].plot()"
   ]
  },
  {
   "cell_type": "code",
   "execution_count": 574,
   "metadata": {},
   "outputs": [
    {
     "data": {
      "image/png": "[encoded data removed]",
      "text/plain": [
       "<Figure size 432x288 with 4 Axes>"
      ]
     },
     "metadata": {
      "needs_background": "light"
     },
     "output_type": "display_data"
    }
   ],
   "source": [
    "seasonal_decompose(iot_final['pres'], model = 'multiplicative').plot()\n",
    "pyplot.show()"
   ]
  },
  {
   "cell_type": "code",
   "execution_count": 575,
   "metadata": {},
   "outputs": [
    {
     "data": {
      "image/png": "[encoded data removed]",
      "text/plain": [
       "<Figure size 432x288 with 4 Axes>"
      ]
     },
     "metadata": {
      "needs_background": "light"
     },
     "output_type": "display_data"
    }
   ],
   "source": [
    "seasonal_decompose(iot_final['pres'][0:360], model = 'multiplicative').plot()\n",
    "pyplot.show()"
   ]
  },
  {
   "cell_type": "code",
   "execution_count": null,
   "metadata": {},
   "outputs": [],
   "source": []
  },
  {
   "cell_type": "code",
   "execution_count": 576,
   "metadata": {},
   "outputs": [
    {
     "data": {
      "text/plain": [
       "<matplotlib.axes._subplots.AxesSubplot at 0x212ddcc2640>"
      ]
     },
     "execution_count": 576,
     "metadata": {},
     "output_type": "execute_result"
    },
    {
     "data": {
      "image/png": "[encoded data removed]",
      "text/plain": [
       "<Figure size 432x288 with 1 Axes>"
      ]
     },
     "metadata": {
      "needs_background": "light"
     },
     "output_type": "display_data"
    }
   ],
   "source": [
    "iot_final['hum'].plot()"
   ]
  },
  {
   "cell_type": "code",
   "execution_count": 577,
   "metadata": {},
   "outputs": [
    {
     "data": {
      "image/png": "[encoded data removed]",
      "text/plain": [
       "<Figure size 432x288 with 4 Axes>"
      ]
     },
     "metadata": {
      "needs_background": "light"
     },
     "output_type": "display_data"
    }
   ],
   "source": [
    "seasonal_decompose(iot_final['hum'], model = 'additive').plot()\n",
    "pyplot.show()"
   ]
  },
  {
   "cell_type": "code",
   "execution_count": null,
   "metadata": {},
   "outputs": [],
   "source": []
  },
  {
   "cell_type": "code",
   "execution_count": null,
   "metadata": {},
   "outputs": [],
   "source": []
  },
  {
   "cell_type": "markdown",
   "metadata": {},
   "source": [
    " "
   ]
  },
  {
   "cell_type": "markdown",
   "metadata": {},
   "source": [
    " "
   ]
  },
  {
   "cell_type": "markdown",
   "metadata": {},
   "source": [
    "<B> Creating a Master Dataframe"
   ]
  },
  {
   "cell_type": "code",
   "execution_count": 578,
   "metadata": {},
   "outputs": [],
   "source": [
    "req_df = pd.merge(iot_experiment1_r, source_2_r, on = source_2_r.index, how = 'inner')"
   ]
  },
  {
   "cell_type": "code",
   "execution_count": 579,
   "metadata": {},
   "outputs": [],
   "source": [
    "req_df = req_df[['key_0','temp_x','pres_x','hum_x','temp_y','pres_y','hum_y','date_x','month_x','day_x','hour_x']]\n",
    "req_df.columns = ['datetime','iot_temp','iot_pres','iot_hum','src2_temp','src2_pres','src2_hum','date','month','day','hour']\n",
    "req_df = req_df.set_index('datetime')"
   ]
  },
  {
   "cell_type": "code",
   "execution_count": 580,
   "metadata": {},
   "outputs": [],
   "source": [
    "req_df = pd.merge(req_df,source_1, on = source_1.index, how = 'inner')"
   ]
  },
  {
   "cell_type": "code",
   "execution_count": 581,
   "metadata": {},
   "outputs": [],
   "source": [
    "req_df = req_df[['key_0','iot_temp','iot_pres','iot_hum','temp','pres','hum','src2_temp','src2_pres','src2_hum','date_x','month_x','day_x','hour_x']]\n",
    "req_df.columns = ['datetime','iot_temp','iot_pres','iot_hum','src1_temp','src1_pres','src1_hum','src2_temp','src2_pres','src2_hum','date','month','day','hour']\n",
    "req_df = req_df.set_index('datetime')"
   ]
  },
  {
   "cell_type": "markdown",
   "metadata": {},
   "source": [
    " "
   ]
  },
  {
   "cell_type": "markdown",
   "metadata": {},
   "source": [
    "<B> Creating a Scaled version for analyses <B>"
   ]
  },
  {
   "cell_type": "code",
   "execution_count": 582,
   "metadata": {},
   "outputs": [],
   "source": [
    "scaler = StandardScaler()\n",
    "req_df_scaled = pd.DataFrame(scaler.fit_transform(req_df[['iot_temp','iot_pres','iot_hum','src1_temp','src1_pres','src1_hum','src2_temp','src2_pres','src2_hum']]), columns = ['iot_temp','iot_pres','iot_hum','src1_temp','src1_pres','src1_hum','src2_temp','src2_pres','src2_hum'])"
   ]
  },
  {
   "cell_type": "code",
   "execution_count": 583,
   "metadata": {},
   "outputs": [],
   "source": [
    "req_df_scaled.index = req_df.index\n",
    "req_df_scaled['date'] = req_df['date']\n",
    "req_df_scaled['month'] = req_df['month']\n",
    "req_df_scaled['day'] = req_df['day']\n",
    "req_df_scaled['hour'] = req_df['hour']\n",
    "req_df_scaled['datetime'] = req_df.index"
   ]
  },
  {
   "cell_type": "code",
   "execution_count": 584,
   "metadata": {},
   "outputs": [],
   "source": [
    "req_df_scaled.to_csv('req_df.csv',index = False)"
   ]
  },
  {
   "cell_type": "markdown",
   "metadata": {},
   "source": [
    " "
   ]
  },
  {
   "cell_type": "markdown",
   "metadata": {},
   "source": [
    "<B> Verifying non stationarity with Augmented Dickey FullerTest and KPSS Test"
   ]
  },
  {
   "cell_type": "code",
   "execution_count": 585,
   "metadata": {},
   "outputs": [],
   "source": [
    "req_dff = req_df[['iot_temp','iot_pres','iot_hum','src1_temp','src1_pres','src1_hum','src2_temp','src2_pres','src2_hum']]"
   ]
  },
  {
   "cell_type": "code",
   "execution_count": 586,
   "metadata": {},
   "outputs": [],
   "source": [
    "def stationarity(df):\n",
    "    for col in df.columns:\n",
    "        if col != 'datetime':\n",
    "            ap = adfuller(df[col])[1]\n",
    "            kp = kpss(df[col])[1]\n",
    "            if ap < 0.05:\n",
    "                adf_res = 'passed at 95%C'\n",
    "            else:\n",
    "                adf_res = 'failed at 95%C'\n",
    "            if kp > 0.05:\n",
    "                kp_res = 'passed at 95%C'\n",
    "            else:\n",
    "                kp_res = 'failed at 95%C'\n",
    "            print(col, \"ADF test: \",adf_res,'\\n',col, \"KPSS test: \", kp_res, '\\n','\\n')"
   ]
  },
  {
   "cell_type": "markdown",
   "metadata": {},
   "source": [
    "### Non stationarity confirmed"
   ]
  },
  {
   "cell_type": "code",
   "execution_count": 587,
   "metadata": {
    "scrolled": true
   },
   "outputs": [
    {
     "name": "stderr",
     "output_type": "stream",
     "text": [
      "C:\\Users\\sidew\\anaconda3\\lib\\site-packages\\statsmodels\\tsa\\stattools.py:1661: FutureWarning: The behavior of using lags=None will change in the next release. Currently lags=None is the same as lags='legacy', and so a sample-size lag length is used. After the next release, the default will change to be the same as lags='auto' which uses an automatic lag length selection method. To silence this warning, either use 'auto' or 'legacy'\n",
      "  warn(msg, FutureWarning)\n",
      "C:\\Users\\sidew\\anaconda3\\lib\\site-packages\\statsmodels\\tsa\\stattools.py:1685: InterpolationWarning: p-value is smaller than the indicated p-value\n",
      "  warn(\"p-value is smaller than the indicated p-value\", InterpolationWarning)\n"
     ]
    },
    {
     "name": "stdout",
     "output_type": "stream",
     "text": [
      "iot_temp ADF test:  passed at 95%C \n",
      " iot_temp KPSS test:  failed at 95%C \n",
      " \n",
      "\n"
     ]
    },
    {
     "name": "stderr",
     "output_type": "stream",
     "text": [
      "C:\\Users\\sidew\\anaconda3\\lib\\site-packages\\statsmodels\\tsa\\stattools.py:1685: InterpolationWarning: p-value is smaller than the indicated p-value\n",
      "  warn(\"p-value is smaller than the indicated p-value\", InterpolationWarning)\n"
     ]
    },
    {
     "name": "stdout",
     "output_type": "stream",
     "text": [
      "iot_pres ADF test:  passed at 95%C \n",
      " iot_pres KPSS test:  failed at 95%C \n",
      " \n",
      "\n"
     ]
    },
    {
     "name": "stderr",
     "output_type": "stream",
     "text": [
      "C:\\Users\\sidew\\anaconda3\\lib\\site-packages\\statsmodels\\tsa\\stattools.py:1685: InterpolationWarning: p-value is smaller than the indicated p-value\n",
      "  warn(\"p-value is smaller than the indicated p-value\", InterpolationWarning)\n"
     ]
    },
    {
     "name": "stdout",
     "output_type": "stream",
     "text": [
      "iot_hum ADF test:  failed at 95%C \n",
      " iot_hum KPSS test:  failed at 95%C \n",
      " \n",
      "\n"
     ]
    },
    {
     "name": "stderr",
     "output_type": "stream",
     "text": [
      "C:\\Users\\sidew\\anaconda3\\lib\\site-packages\\statsmodels\\tsa\\stattools.py:1685: InterpolationWarning: p-value is smaller than the indicated p-value\n",
      "  warn(\"p-value is smaller than the indicated p-value\", InterpolationWarning)\n"
     ]
    },
    {
     "name": "stdout",
     "output_type": "stream",
     "text": [
      "src1_temp ADF test:  failed at 95%C \n",
      " src1_temp KPSS test:  failed at 95%C \n",
      " \n",
      "\n"
     ]
    },
    {
     "name": "stderr",
     "output_type": "stream",
     "text": [
      "C:\\Users\\sidew\\anaconda3\\lib\\site-packages\\statsmodels\\tsa\\stattools.py:1685: InterpolationWarning: p-value is smaller than the indicated p-value\n",
      "  warn(\"p-value is smaller than the indicated p-value\", InterpolationWarning)\n"
     ]
    },
    {
     "name": "stdout",
     "output_type": "stream",
     "text": [
      "src1_pres ADF test:  failed at 95%C \n",
      " src1_pres KPSS test:  failed at 95%C \n",
      " \n",
      "\n"
     ]
    },
    {
     "name": "stderr",
     "output_type": "stream",
     "text": [
      "C:\\Users\\sidew\\anaconda3\\lib\\site-packages\\statsmodels\\tsa\\stattools.py:1685: InterpolationWarning: p-value is smaller than the indicated p-value\n",
      "  warn(\"p-value is smaller than the indicated p-value\", InterpolationWarning)\n"
     ]
    },
    {
     "name": "stdout",
     "output_type": "stream",
     "text": [
      "src1_hum ADF test:  failed at 95%C \n",
      " src1_hum KPSS test:  failed at 95%C \n",
      " \n",
      "\n"
     ]
    },
    {
     "name": "stderr",
     "output_type": "stream",
     "text": [
      "C:\\Users\\sidew\\anaconda3\\lib\\site-packages\\statsmodels\\tsa\\stattools.py:1685: InterpolationWarning: p-value is smaller than the indicated p-value\n",
      "  warn(\"p-value is smaller than the indicated p-value\", InterpolationWarning)\n"
     ]
    },
    {
     "name": "stdout",
     "output_type": "stream",
     "text": [
      "src2_temp ADF test:  passed at 95%C \n",
      " src2_temp KPSS test:  failed at 95%C \n",
      " \n",
      "\n"
     ]
    },
    {
     "name": "stderr",
     "output_type": "stream",
     "text": [
      "C:\\Users\\sidew\\anaconda3\\lib\\site-packages\\statsmodels\\tsa\\stattools.py:1685: InterpolationWarning: p-value is smaller than the indicated p-value\n",
      "  warn(\"p-value is smaller than the indicated p-value\", InterpolationWarning)\n"
     ]
    },
    {
     "name": "stdout",
     "output_type": "stream",
     "text": [
      "src2_pres ADF test:  failed at 95%C \n",
      " src2_pres KPSS test:  failed at 95%C \n",
      " \n",
      "\n",
      "src2_hum ADF test:  passed at 95%C \n",
      " src2_hum KPSS test:  failed at 95%C \n",
      " \n",
      "\n"
     ]
    },
    {
     "name": "stderr",
     "output_type": "stream",
     "text": [
      "C:\\Users\\sidew\\anaconda3\\lib\\site-packages\\statsmodels\\tsa\\stattools.py:1685: InterpolationWarning: p-value is smaller than the indicated p-value\n",
      "  warn(\"p-value is smaller than the indicated p-value\", InterpolationWarning)\n"
     ]
    }
   ],
   "source": [
    "stationarity(req_dff)"
   ]
  },
  {
   "cell_type": "markdown",
   "metadata": {},
   "source": [
    "### Second order Differencing to rid the series of non-stationarity"
   ]
  },
  {
   "cell_type": "code",
   "execution_count": 588,
   "metadata": {},
   "outputs": [],
   "source": [
    "df_diff =pd.DataFrame()\n",
    "for col in req_dff.columns:\n",
    "    if col != 'datetime':\n",
    "        df_diff[col+'_d'] = (req_dff[col]).diff().diff()\n",
    "# df_diff = df_diff.replace([np.inf, -np.inf], np.nan)\n",
    "df_diff = df_diff.dropna()"
   ]
  },
  {
   "cell_type": "markdown",
   "metadata": {},
   "source": [
    "### Stationarity confirmed"
   ]
  },
  {
   "cell_type": "code",
   "execution_count": 589,
   "metadata": {
    "scrolled": true
   },
   "outputs": [
    {
     "name": "stderr",
     "output_type": "stream",
     "text": [
      "C:\\Users\\sidew\\anaconda3\\lib\\site-packages\\statsmodels\\tsa\\stattools.py:1687: InterpolationWarning: p-value is greater than the indicated p-value\n",
      "  warn(\"p-value is greater than the indicated p-value\", InterpolationWarning)\n"
     ]
    },
    {
     "name": "stdout",
     "output_type": "stream",
     "text": [
      "iot_temp_d ADF test:  passed at 95%C \n",
      " iot_temp_d KPSS test:  passed at 95%C \n",
      " \n",
      "\n"
     ]
    },
    {
     "name": "stderr",
     "output_type": "stream",
     "text": [
      "C:\\Users\\sidew\\anaconda3\\lib\\site-packages\\statsmodels\\tsa\\stattools.py:1687: InterpolationWarning: p-value is greater than the indicated p-value\n",
      "  warn(\"p-value is greater than the indicated p-value\", InterpolationWarning)\n"
     ]
    },
    {
     "name": "stdout",
     "output_type": "stream",
     "text": [
      "iot_pres_d ADF test:  passed at 95%C \n",
      " iot_pres_d KPSS test:  passed at 95%C \n",
      " \n",
      "\n"
     ]
    },
    {
     "name": "stderr",
     "output_type": "stream",
     "text": [
      "C:\\Users\\sidew\\anaconda3\\lib\\site-packages\\statsmodels\\tsa\\stattools.py:1687: InterpolationWarning: p-value is greater than the indicated p-value\n",
      "  warn(\"p-value is greater than the indicated p-value\", InterpolationWarning)\n"
     ]
    },
    {
     "name": "stdout",
     "output_type": "stream",
     "text": [
      "iot_hum_d ADF test:  passed at 95%C \n",
      " iot_hum_d KPSS test:  passed at 95%C \n",
      " \n",
      "\n"
     ]
    },
    {
     "name": "stderr",
     "output_type": "stream",
     "text": [
      "C:\\Users\\sidew\\anaconda3\\lib\\site-packages\\statsmodels\\tsa\\stattools.py:1687: InterpolationWarning: p-value is greater than the indicated p-value\n",
      "  warn(\"p-value is greater than the indicated p-value\", InterpolationWarning)\n"
     ]
    },
    {
     "name": "stdout",
     "output_type": "stream",
     "text": [
      "src1_temp_d ADF test:  passed at 95%C \n",
      " src1_temp_d KPSS test:  passed at 95%C \n",
      " \n",
      "\n"
     ]
    },
    {
     "name": "stderr",
     "output_type": "stream",
     "text": [
      "C:\\Users\\sidew\\anaconda3\\lib\\site-packages\\statsmodels\\tsa\\stattools.py:1687: InterpolationWarning: p-value is greater than the indicated p-value\n",
      "  warn(\"p-value is greater than the indicated p-value\", InterpolationWarning)\n"
     ]
    },
    {
     "name": "stdout",
     "output_type": "stream",
     "text": [
      "src1_pres_d ADF test:  passed at 95%C \n",
      " src1_pres_d KPSS test:  passed at 95%C \n",
      " \n",
      "\n"
     ]
    },
    {
     "name": "stderr",
     "output_type": "stream",
     "text": [
      "C:\\Users\\sidew\\anaconda3\\lib\\site-packages\\statsmodels\\tsa\\stattools.py:1687: InterpolationWarning: p-value is greater than the indicated p-value\n",
      "  warn(\"p-value is greater than the indicated p-value\", InterpolationWarning)\n"
     ]
    },
    {
     "name": "stdout",
     "output_type": "stream",
     "text": [
      "src1_hum_d ADF test:  passed at 95%C \n",
      " src1_hum_d KPSS test:  passed at 95%C \n",
      " \n",
      "\n"
     ]
    },
    {
     "name": "stderr",
     "output_type": "stream",
     "text": [
      "C:\\Users\\sidew\\anaconda3\\lib\\site-packages\\statsmodels\\tsa\\stattools.py:1687: InterpolationWarning: p-value is greater than the indicated p-value\n",
      "  warn(\"p-value is greater than the indicated p-value\", InterpolationWarning)\n"
     ]
    },
    {
     "name": "stdout",
     "output_type": "stream",
     "text": [
      "src2_temp_d ADF test:  passed at 95%C \n",
      " src2_temp_d KPSS test:  passed at 95%C \n",
      " \n",
      "\n"
     ]
    },
    {
     "name": "stderr",
     "output_type": "stream",
     "text": [
      "C:\\Users\\sidew\\anaconda3\\lib\\site-packages\\statsmodels\\tsa\\stattools.py:1687: InterpolationWarning: p-value is greater than the indicated p-value\n",
      "  warn(\"p-value is greater than the indicated p-value\", InterpolationWarning)\n"
     ]
    },
    {
     "name": "stdout",
     "output_type": "stream",
     "text": [
      "src2_pres_d ADF test:  passed at 95%C \n",
      " src2_pres_d KPSS test:  passed at 95%C \n",
      " \n",
      "\n",
      "src2_hum_d ADF test:  passed at 95%C \n",
      " src2_hum_d KPSS test:  passed at 95%C \n",
      " \n",
      "\n"
     ]
    },
    {
     "name": "stderr",
     "output_type": "stream",
     "text": [
      "C:\\Users\\sidew\\anaconda3\\lib\\site-packages\\statsmodels\\tsa\\stattools.py:1687: InterpolationWarning: p-value is greater than the indicated p-value\n",
      "  warn(\"p-value is greater than the indicated p-value\", InterpolationWarning)\n"
     ]
    }
   ],
   "source": [
    "stationarity(df_diff)"
   ]
  },
  {
   "cell_type": "markdown",
   "metadata": {},
   "source": [
    "### Confirming if Stationarity has been ridden of. Logarithmic differencing was tried but the differences of many values tended to 0. Applying a log function on top of this created many undefined values in the data"
   ]
  },
  {
   "cell_type": "markdown",
   "metadata": {},
   "source": [
    " "
   ]
  },
  {
   "cell_type": "code",
   "execution_count": 590,
   "metadata": {},
   "outputs": [
    {
     "data": {
      "text/plain": [
       "<matplotlib.axes._subplots.AxesSubplot at 0x212dbd32fd0>"
      ]
     },
     "execution_count": 590,
     "metadata": {},
     "output_type": "execute_result"
    },
    {
     "data": {
      "image/png": "[encoded data removed]",
      "text/plain": [
       "<Figure size 432x288 with 1 Axes>"
      ]
     },
     "metadata": {
      "needs_background": "light"
     },
     "output_type": "display_data"
    }
   ],
   "source": [
    "df_diff['iot_temp_d'].plot()"
   ]
  },
  {
   "cell_type": "code",
   "execution_count": 591,
   "metadata": {},
   "outputs": [
    {
     "data": {
      "image/png": "[encoded data removed]",
      "text/plain": [
       "<Figure size 432x288 with 4 Axes>"
      ]
     },
     "metadata": {
      "needs_background": "light"
     },
     "output_type": "display_data"
    }
   ],
   "source": [
    "seasonal_decompose(df_diff['iot_temp_d'][0:360], model = 'additive').plot()\n",
    "pyplot.show()"
   ]
  },
  {
   "cell_type": "code",
   "execution_count": 592,
   "metadata": {},
   "outputs": [
    {
     "data": {
      "image/png": "[encoded data removed]",
      "text/plain": [
       "<Figure size 432x288 with 1 Axes>"
      ]
     },
     "metadata": {
      "needs_background": "light"
     },
     "output_type": "display_data"
    }
   ],
   "source": [
    "plot_acf(df_diff['iot_temp_d'], lags = 50)\n",
    "pyplot.show()"
   ]
  },
  {
   "cell_type": "markdown",
   "metadata": {},
   "source": [
    " "
   ]
  },
  {
   "cell_type": "markdown",
   "metadata": {},
   "source": [
    " "
   ]
  },
  {
   "cell_type": "markdown",
   "metadata": {},
   "source": [
    "<B> Granger's Causation Test used to check if source 2 variables are really exogenous </B> The test results indicate that source 2 variables <B> are Granger caused by IOT variables, hence making a case for them not being exogenous </B>"
   ]
  },
  {
   "cell_type": "code",
   "execution_count": 593,
   "metadata": {},
   "outputs": [
    {
     "name": "stderr",
     "output_type": "stream",
     "text": [
      "C:\\Users\\sidew\\anaconda3\\lib\\site-packages\\statsmodels\\base\\model.py:1830: ValueWarning: covariance of constraints does not have full rank. The number of constraints is 4, but rank is 1\n",
      "  warnings.warn('covariance of constraints does not have full '\n",
      "C:\\Users\\sidew\\anaconda3\\lib\\site-packages\\statsmodels\\base\\model.py:1830: ValueWarning: covariance of constraints does not have full rank. The number of constraints is 5, but rank is 1\n",
      "  warnings.warn('covariance of constraints does not have full '\n"
     ]
    },
    {
     "data": {
      "text/html": [
       "<div>\n",
       "<style scoped>\n",
       "    .dataframe tbody tr th:only-of-type {\n",
       "        vertical-align: middle;\n",
       "    }\n",
       "\n",
       "    .dataframe tbody tr th {\n",
       "        vertical-align: top;\n",
       "    }\n",
       "\n",
       "    .dataframe thead th {\n",
       "        text-align: right;\n",
       "    }\n",
       "</style>\n",
       "<table border=\"1\" class=\"dataframe\">\n",
       "  <thead>\n",
       "    <tr style=\"text-align: right;\">\n",
       "      <th></th>\n",
       "      <th>iot_temp_d_x</th>\n",
       "      <th>iot_pres_d_x</th>\n",
       "      <th>iot_hum_d_x</th>\n",
       "      <th>src1_temp_d_x</th>\n",
       "      <th>src1_pres_d_x</th>\n",
       "      <th>src1_hum_d_x</th>\n",
       "      <th>src2_temp_d_x</th>\n",
       "      <th>src2_pres_d_x</th>\n",
       "      <th>src2_hum_d_x</th>\n",
       "    </tr>\n",
       "  </thead>\n",
       "  <tbody>\n",
       "    <tr>\n",
       "      <th>iot_temp_d_y</th>\n",
       "      <td>1.0</td>\n",
       "      <td>0.0</td>\n",
       "      <td>0.0</td>\n",
       "      <td>0.0</td>\n",
       "      <td>0.0</td>\n",
       "      <td>0.0</td>\n",
       "      <td>0.0</td>\n",
       "      <td>0.0</td>\n",
       "      <td>0.0</td>\n",
       "    </tr>\n",
       "    <tr>\n",
       "      <th>iot_pres_d_y</th>\n",
       "      <td>0.0</td>\n",
       "      <td>1.0</td>\n",
       "      <td>0.0</td>\n",
       "      <td>0.0</td>\n",
       "      <td>0.0</td>\n",
       "      <td>0.0</td>\n",
       "      <td>0.0</td>\n",
       "      <td>0.0</td>\n",
       "      <td>0.0</td>\n",
       "    </tr>\n",
       "    <tr>\n",
       "      <th>iot_hum_d_y</th>\n",
       "      <td>0.0</td>\n",
       "      <td>0.0</td>\n",
       "      <td>1.0</td>\n",
       "      <td>0.0</td>\n",
       "      <td>0.0</td>\n",
       "      <td>0.0</td>\n",
       "      <td>0.0</td>\n",
       "      <td>0.0</td>\n",
       "      <td>0.0</td>\n",
       "    </tr>\n",
       "    <tr>\n",
       "      <th>src1_temp_d_y</th>\n",
       "      <td>0.0</td>\n",
       "      <td>0.0</td>\n",
       "      <td>0.0</td>\n",
       "      <td>1.0</td>\n",
       "      <td>0.0</td>\n",
       "      <td>0.0</td>\n",
       "      <td>0.0</td>\n",
       "      <td>0.0</td>\n",
       "      <td>0.0</td>\n",
       "    </tr>\n",
       "    <tr>\n",
       "      <th>src1_pres_d_y</th>\n",
       "      <td>0.0</td>\n",
       "      <td>0.0</td>\n",
       "      <td>0.0</td>\n",
       "      <td>0.0</td>\n",
       "      <td>1.0</td>\n",
       "      <td>0.0</td>\n",
       "      <td>0.0</td>\n",
       "      <td>0.0</td>\n",
       "      <td>0.0</td>\n",
       "    </tr>\n",
       "    <tr>\n",
       "      <th>src1_hum_d_y</th>\n",
       "      <td>0.0</td>\n",
       "      <td>0.0</td>\n",
       "      <td>0.0</td>\n",
       "      <td>0.0</td>\n",
       "      <td>0.0</td>\n",
       "      <td>1.0</td>\n",
       "      <td>0.0</td>\n",
       "      <td>0.0</td>\n",
       "      <td>0.0</td>\n",
       "    </tr>\n",
       "    <tr>\n",
       "      <th>src2_temp_d_y</th>\n",
       "      <td>0.0</td>\n",
       "      <td>0.0</td>\n",
       "      <td>0.0</td>\n",
       "      <td>0.0</td>\n",
       "      <td>0.0</td>\n",
       "      <td>0.0</td>\n",
       "      <td>1.0</td>\n",
       "      <td>0.0</td>\n",
       "      <td>0.0</td>\n",
       "    </tr>\n",
       "    <tr>\n",
       "      <th>src2_pres_d_y</th>\n",
       "      <td>0.0</td>\n",
       "      <td>0.0</td>\n",
       "      <td>0.0</td>\n",
       "      <td>0.0</td>\n",
       "      <td>0.0</td>\n",
       "      <td>0.0</td>\n",
       "      <td>0.0</td>\n",
       "      <td>1.0</td>\n",
       "      <td>0.0</td>\n",
       "    </tr>\n",
       "    <tr>\n",
       "      <th>src2_hum_d_y</th>\n",
       "      <td>0.0</td>\n",
       "      <td>0.0</td>\n",
       "      <td>0.0</td>\n",
       "      <td>0.0</td>\n",
       "      <td>0.0</td>\n",
       "      <td>0.0</td>\n",
       "      <td>0.0</td>\n",
       "      <td>0.0</td>\n",
       "      <td>1.0</td>\n",
       "    </tr>\n",
       "  </tbody>\n",
       "</table>\n",
       "</div>"
      ],
      "text/plain": [
       "               iot_temp_d_x  iot_pres_d_x  iot_hum_d_x  src1_temp_d_x  \\\n",
       "iot_temp_d_y            1.0           0.0          0.0            0.0   \n",
       "iot_pres_d_y            0.0           1.0          0.0            0.0   \n",
       "iot_hum_d_y             0.0           0.0          1.0            0.0   \n",
       "src1_temp_d_y           0.0           0.0          0.0            1.0   \n",
       "src1_pres_d_y           0.0           0.0          0.0            0.0   \n",
       "src1_hum_d_y            0.0           0.0          0.0            0.0   \n",
       "src2_temp_d_y           0.0           0.0          0.0            0.0   \n",
       "src2_pres_d_y           0.0           0.0          0.0            0.0   \n",
       "src2_hum_d_y            0.0           0.0          0.0            0.0   \n",
       "\n",
       "               src1_pres_d_x  src1_hum_d_x  src2_temp_d_x  src2_pres_d_x  \\\n",
       "iot_temp_d_y             0.0           0.0            0.0            0.0   \n",
       "iot_pres_d_y             0.0           0.0            0.0            0.0   \n",
       "iot_hum_d_y              0.0           0.0            0.0            0.0   \n",
       "src1_temp_d_y            0.0           0.0            0.0            0.0   \n",
       "src1_pres_d_y            1.0           0.0            0.0            0.0   \n",
       "src1_hum_d_y             0.0           1.0            0.0            0.0   \n",
       "src2_temp_d_y            0.0           0.0            1.0            0.0   \n",
       "src2_pres_d_y            0.0           0.0            0.0            1.0   \n",
       "src2_hum_d_y             0.0           0.0            0.0            0.0   \n",
       "\n",
       "               src2_hum_d_x  \n",
       "iot_temp_d_y            0.0  \n",
       "iot_pres_d_y            0.0  \n",
       "iot_hum_d_y             0.0  \n",
       "src1_temp_d_y           0.0  \n",
       "src1_pres_d_y           0.0  \n",
       "src1_hum_d_y            0.0  \n",
       "src2_temp_d_y           0.0  \n",
       "src2_pres_d_y           0.0  \n",
       "src2_hum_d_y            1.0  "
      ]
     },
     "execution_count": 593,
     "metadata": {},
     "output_type": "execute_result"
    }
   ],
   "source": [
    "grangers_causation_matrix(df_diff, variables = df_diff.columns)"
   ]
  },
  {
   "cell_type": "markdown",
   "metadata": {},
   "source": [
    " "
   ]
  },
  {
   "cell_type": "markdown",
   "metadata": {},
   "source": [
    " "
   ]
  },
  {
   "cell_type": "markdown",
   "metadata": {},
   "source": [
    "<B> Johansen's cointegration test to check if source 2 variables are affected by lagged versions of IOT variables and vice versa. positive outcome is noticed, further strengthening the case for source 1 and 2 not being exogenous to IOT </B>"
   ]
  },
  {
   "cell_type": "code",
   "execution_count": 594,
   "metadata": {},
   "outputs": [
    {
     "name": "stdout",
     "output_type": "stream",
     "text": [
      "Name   ::  Test Stat > C(95%)    =>   Signif  \n",
      " ----------------------------------------\n",
      "iot_temp_d ::  25358.69  > 179.5199  =>   True\n",
      "iot_pres_d ::  20226.18  > 143.6691  =>   True\n",
      "iot_hum_d ::  16956.89  > 111.7797  =>   True\n",
      "src1_temp_d ::  13856.78  > 83.9383   =>   True\n",
      "src1_pres_d ::  11004.79  > 60.0627   =>   True\n",
      "src1_hum_d ::  8305.64   > 40.1749   =>   True\n",
      "src2_temp_d ::  5625.53   > 24.2761   =>   True\n",
      "src2_pres_d ::  3300.15   > 12.3212   =>   True\n",
      "src2_hum_d ::  1417.7    > 4.1296    =>   True\n"
     ]
    }
   ],
   "source": [
    "cointegration_test(df_diff)"
   ]
  },
  {
   "cell_type": "markdown",
   "metadata": {},
   "source": [
    " "
   ]
  },
  {
   "cell_type": "markdown",
   "metadata": {},
   "source": [
    " "
   ]
  },
  {
   "cell_type": "markdown",
   "metadata": {},
   "source": [
    "### Split into train and test <B>"
   ]
  },
  {
   "cell_type": "code",
   "execution_count": 595,
   "metadata": {},
   "outputs": [],
   "source": [
    "df_train, df_test = df_diff.iloc[0:-120], df_diff.iloc[-120:]"
   ]
  },
  {
   "cell_type": "code",
   "execution_count": 596,
   "metadata": {},
   "outputs": [],
   "source": [
    "df_train_endog = df_train[['iot_temp_d','iot_pres_d','iot_hum_d']]\n",
    "df_train_exog1 = df_train[['src1_temp_d','src1_pres_d','src1_hum_d']]\n",
    "df_train_exog2 = df_train[['src2_temp_d','src2_pres_d','src2_hum_d']]\n",
    "\n",
    "\n",
    "df_test_endog = df_test[['iot_temp_d','iot_pres_d','iot_hum_d']]\n",
    "df_test_exog1 = df_test[['src1_temp_d','src1_pres_d','src1_hum_d']]\n",
    "df_test_exog2 = df_test[['src2_temp_d','src2_pres_d','src2_hum_d']]"
   ]
  },
  {
   "cell_type": "code",
   "execution_count": 597,
   "metadata": {},
   "outputs": [],
   "source": [
    "df_train_1 = df_train[['iot_temp_d','iot_pres_d','iot_hum_d','src1_temp_d','src1_pres_d','src1_hum_d']]\n",
    "df_train_2 = df_train[['iot_temp_d','iot_pres_d','iot_hum_d','src2_temp_d','src2_pres_d','src2_hum_d']]\n",
    "\n",
    "df_test_1 = df_test[['iot_temp_d','iot_pres_d','iot_hum_d','src1_temp_d','src1_pres_d','src1_hum_d']]\n",
    "df_test_2 = df_test[['iot_temp_d','iot_pres_d','iot_hum_d','src2_temp_d','src2_pres_d','src2_hum_d']]"
   ]
  },
  {
   "cell_type": "markdown",
   "metadata": {},
   "source": [
    " "
   ]
  },
  {
   "cell_type": "markdown",
   "metadata": {},
   "source": [
    " ## VARMAX selected since this is a multivariate analysis, and sources are to be used as exogenous variables "
   ]
  },
  {
   "cell_type": "markdown",
   "metadata": {},
   "source": [
    "### TAKES TOO LONG TO RUN - ALSO, SRC1 AND SRC2 DATA APPEAR ENDOGENOUS, NOT EXOGENOUS"
   ]
  },
  {
   "cell_type": "code",
   "execution_count": null,
   "metadata": {},
   "outputs": [],
   "source": [
    "# for i in range(5):\n",
    "#     i+=1\n",
    "#     model = VARMAX(df_train_endog, order = (i,0), exog = df_train_exog2)\n",
    "#     result = model.fit(maxiter = 1000, disp = False)\n",
    "#     print('Lag Order =', i)\n",
    "#     print('AIC : ', result.aic)\n",
    "#     print('BIC : ', result.bic)\n",
    "#     print('FPE : ', result.fpe)\n",
    "#     print('HQIC: ', result.hqic, '\\n')"
   ]
  },
  {
   "cell_type": "markdown",
   "metadata": {},
   "source": [
    "### ALSO TAKING TOO LONG TO RUN - DIFFERENCE - REMOVED THE EXOGENOUS VARIABLE SPECIFICATION AND PASSED THE EXOG VARIABLES AS ENDOGENOUS"
   ]
  },
  {
   "cell_type": "code",
   "execution_count": null,
   "metadata": {},
   "outputs": [],
   "source": [
    "# for i in range(5):\n",
    "#     i+=1\n",
    "#     model = VARMAX(df_train_2, order = (i,0), trend = 'c')\n",
    "#     result = model.fit(maxiter = 1000, disp = False)\n",
    "#     print('Lag Order =', i)\n",
    "#     print('AIC : ', result.aic)\n",
    "#     print('BIC : ', result.bic)\n",
    "#     print('FPE : ', result.fpe)\n",
    "#     print('HQIC: ', result.hqic, '\\n')"
   ]
  },
  {
   "cell_type": "markdown",
   "metadata": {},
   "source": [
    "### TRYING VAR INSTEAD OF VARMAX WITH IOT AND SOURCE 2 DATA BEING CONSIDERED AS ENDOGENOUS - REASONS ABOVE"
   ]
  },
  {
   "cell_type": "code",
   "execution_count": 598,
   "metadata": {},
   "outputs": [
    {
     "name": "stderr",
     "output_type": "stream",
     "text": [
      "C:\\Users\\sidew\\anaconda3\\lib\\site-packages\\statsmodels\\tsa\\base\\tsa_model.py:159: ValueWarning: No frequency information was provided, so inferred frequency H will be used.\n",
      "  warnings.warn('No frequency information was'\n"
     ]
    }
   ],
   "source": [
    "model = VAR(df_train_2)"
   ]
  },
  {
   "cell_type": "code",
   "execution_count": 599,
   "metadata": {},
   "outputs": [
    {
     "data": {
      "text/html": [
       "<table class=\"simpletable\">\n",
       "<caption>VAR Order Selection (* highlights the minimums)</caption>\n",
       "<tr>\n",
       "   <td></td>      <th>AIC</th>         <th>BIC</th>         <th>FPE</th>        <th>HQIC</th>    \n",
       "</tr>\n",
       "<tr>\n",
       "  <th>0</th>  <td>     8.001</td>  <td>     8.006</td>  <td>     2984.</td>  <td>     8.003</td> \n",
       "</tr>\n",
       "<tr>\n",
       "  <th>1</th>  <td>     6.785</td>  <td>     6.820</td>  <td>     884.7</td>  <td>     6.797</td> \n",
       "</tr>\n",
       "<tr>\n",
       "  <th>2</th>  <td>     5.259</td>  <td>     5.323</td>  <td>     192.3</td>  <td>     5.281</td> \n",
       "</tr>\n",
       "<tr>\n",
       "  <th>3</th>  <td>     4.921</td>  <td>     5.015</td>  <td>     137.2</td>  <td>     4.953</td> \n",
       "</tr>\n",
       "<tr>\n",
       "  <th>4</th>  <td>     4.065</td>  <td>     4.188</td>  <td>     58.29</td>  <td>     4.107</td> \n",
       "</tr>\n",
       "<tr>\n",
       "  <th>5</th>  <td>     3.942</td>  <td>     4.095</td>  <td>     51.55</td>  <td>     3.994</td> \n",
       "</tr>\n",
       "<tr>\n",
       "  <th>6</th>  <td>     3.474</td>  <td>     3.656</td>  <td>     32.25</td>  <td>     3.536</td> \n",
       "</tr>\n",
       "<tr>\n",
       "  <th>7</th>  <td>     3.348</td>  <td>     3.559</td>  <td>     28.44</td>  <td>     3.420</td> \n",
       "</tr>\n",
       "<tr>\n",
       "  <th>8</th>  <td>     3.046</td>  <td>     3.287</td>  <td>     21.02</td>  <td>     3.128</td> \n",
       "</tr>\n",
       "<tr>\n",
       "  <th>9</th>  <td>     2.932</td>  <td>     3.202</td>  <td>     18.76</td>  <td>     3.024</td> \n",
       "</tr>\n",
       "<tr>\n",
       "  <th>10</th> <td>     2.644</td>  <td>     2.944</td>  <td>     14.07</td>  <td>     2.747</td> \n",
       "</tr>\n",
       "<tr>\n",
       "  <th>11</th> <td>     2.539</td>  <td>     2.869</td>  <td>     12.67</td>  <td>     2.652</td> \n",
       "</tr>\n",
       "<tr>\n",
       "  <th>12</th> <td>     2.398</td>  <td>     2.757</td>  <td>     11.00</td>  <td>     2.521</td> \n",
       "</tr>\n",
       "<tr>\n",
       "  <th>13</th> <td>     2.330</td>  <td>     2.718</td>  <td>     10.28</td>  <td>     2.462</td> \n",
       "</tr>\n",
       "<tr>\n",
       "  <th>14</th> <td>     2.181</td>  <td>     2.599</td>  <td>     8.854</td>  <td>     2.323</td> \n",
       "</tr>\n",
       "<tr>\n",
       "  <th>15</th> <td>     2.098</td>  <td>     2.545</td>  <td>     8.147</td>  <td>     2.250</td> \n",
       "</tr>\n",
       "<tr>\n",
       "  <th>16</th> <td>     1.987</td>  <td>     2.464</td>  <td>     7.293</td>  <td>     2.150</td> \n",
       "</tr>\n",
       "<tr>\n",
       "  <th>17</th> <td>     1.928</td>  <td>     2.435</td>  <td>     6.877</td>  <td>     2.101</td> \n",
       "</tr>\n",
       "<tr>\n",
       "  <th>18</th> <td>     1.782</td>  <td>     2.318</td>  <td>     5.941</td>  <td>     1.965</td> \n",
       "</tr>\n",
       "<tr>\n",
       "  <th>19</th> <td>     1.727</td>  <td>     2.293</td>  <td>     5.626</td>  <td>     1.920</td> \n",
       "</tr>\n",
       "<tr>\n",
       "  <th>20</th> <td>     1.572</td>  <td>     2.167</td>  <td>     4.816</td>  <td>     1.775</td> \n",
       "</tr>\n",
       "<tr>\n",
       "  <th>21</th> <td>     1.337</td>  <td>     1.962</td>  <td>     3.809</td>  <td>     1.550</td> \n",
       "</tr>\n",
       "<tr>\n",
       "  <th>22</th> <td>    0.4413</td>  <td>     1.095</td>  <td>     1.555</td>  <td>    0.6644</td> \n",
       "</tr>\n",
       "<tr>\n",
       "  <th>23</th> <td>    0.3033</td>  <td>    0.9869</td>  <td>     1.354</td>  <td>    0.5364</td> \n",
       "</tr>\n",
       "<tr>\n",
       "  <th>24</th> <td>    0.2667*</td> <td>    0.9798*</td> <td>     1.306*</td> <td>    0.5099*</td>\n",
       "</tr>\n",
       "</table>"
      ],
      "text/plain": [
       "<class 'statsmodels.iolib.table.SimpleTable'>"
      ]
     },
     "execution_count": 599,
     "metadata": {},
     "output_type": "execute_result"
    }
   ],
   "source": [
    "x = model.select_order(maxlags=24)\n",
    "x.summary()"
   ]
  },
  {
   "cell_type": "markdown",
   "metadata": {},
   "source": [
    "### ORDER SELECTED BASED ON DROP in AIC - 24. CORRELATION MATRIX OBTAINED"
   ]
  },
  {
   "cell_type": "code",
   "execution_count": 600,
   "metadata": {},
   "outputs": [
    {
     "data": {
      "text/plain": [
       "  Summary of Regression Results   \n",
       "==================================\n",
       "Model:                         VAR\n",
       "Method:                        OLS\n",
       "Date:           Tue, 10, Nov, 2020\n",
       "Time:                     07:39:55\n",
       "--------------------------------------------------------------------\n",
       "No. of Equations:         6.00000    BIC:                   0.979841\n",
       "Nobs:                     8614.00    HQIC:                  0.509880\n",
       "Log likelihood:          -73615.0    FPE:                    1.30564\n",
       "AIC:                     0.266677    Det(Omega_mle):         1.18121\n",
       "--------------------------------------------------------------------\n",
       "Results for equation iot_temp_d\n",
       "==================================================================================\n",
       "                     coefficient       std. error           t-stat            prob\n",
       "----------------------------------------------------------------------------------\n",
       "const                   0.000012         0.006440            0.002           0.999\n",
       "L1.iot_temp_d          -0.085399         0.013439           -6.355           0.000\n",
       "L1.iot_pres_d           0.000289         0.000159            1.817           0.069\n",
       "L1.iot_hum_d            0.012186         0.002050            5.943           0.000\n",
       "L1.src2_temp_d          0.339310         0.042137            8.053           0.000\n",
       "L1.src2_pres_d         -0.017822         0.075792           -0.235           0.814\n",
       "L1.src2_hum_d           0.019415         0.006935            2.799           0.005\n",
       "L2.iot_temp_d          -0.969627         0.013546          -71.578           0.000\n",
       "L2.iot_pres_d           0.000231         0.000163            1.420           0.156\n",
       "L2.iot_hum_d            0.008162         0.002048            3.986           0.000\n",
       "L2.src2_temp_d          0.091481         0.046166            1.982           0.048\n",
       "L2.src2_pres_d         -0.007089         0.083995           -0.084           0.933\n",
       "L2.src2_hum_d           0.008554         0.007088            1.207           0.228\n",
       "L3.iot_temp_d          -0.196545         0.017970          -10.937           0.000\n",
       "L3.iot_pres_d           0.000746         0.000211            3.531           0.000\n",
       "L3.iot_hum_d            0.012552         0.002683            4.678           0.000\n",
       "L3.src2_temp_d          0.370558         0.061534            6.022           0.000\n",
       "L3.src2_pres_d         -0.067954         0.114043           -0.596           0.551\n",
       "L3.src2_hum_d           0.004920         0.009264            0.531           0.595\n",
       "L4.iot_temp_d          -0.929643         0.018032          -51.556           0.000\n",
       "L4.iot_pres_d           0.000349         0.000216            1.620           0.105\n",
       "L4.iot_hum_d            0.009822         0.002659            3.694           0.000\n",
       "L4.src2_temp_d          0.034286         0.064345            0.533           0.594\n",
       "L4.src2_pres_d          0.090216         0.119493            0.755           0.450\n",
       "L4.src2_hum_d           0.000066         0.009399            0.007           0.994\n",
       "L5.iot_temp_d          -0.283481         0.021074          -13.452           0.000\n",
       "L5.iot_pres_d           0.001035         0.000247            4.193           0.000\n",
       "L5.iot_hum_d            0.011626         0.003091            3.761           0.000\n",
       "L5.src2_temp_d          0.329979         0.074440            4.433           0.000\n",
       "L5.src2_pres_d         -0.019942         0.137472           -0.145           0.885\n",
       "L5.src2_hum_d           0.004398         0.010880            0.404           0.686\n",
       "L6.iot_temp_d          -0.833339         0.021238          -39.237           0.000\n",
       "L6.iot_pres_d           0.000382         0.000254            1.508           0.132\n",
       "L6.iot_hum_d            0.015105         0.003093            4.883           0.000\n",
       "L6.src2_temp_d          0.059708         0.075599            0.790           0.430\n",
       "L6.src2_pres_d         -0.075733         0.140685           -0.538           0.590\n",
       "L6.src2_hum_d          -0.001436         0.010948           -0.131           0.896\n",
       "L7.iot_temp_d          -0.316267         0.023265          -13.594           0.000\n",
       "L7.iot_pres_d           0.001202         0.000269            4.469           0.000\n",
       "L7.iot_hum_d            0.010453         0.003394            3.080           0.002\n",
       "L7.src2_temp_d          0.290991         0.081764            3.559           0.000\n",
       "L7.src2_pres_d          0.138578         0.153372            0.904           0.366\n",
       "L7.src2_hum_d           0.001918         0.012012            0.160           0.873\n",
       "L8.iot_temp_d          -0.758651         0.023451          -32.351           0.000\n",
       "L8.iot_pres_d           0.000343         0.000274            1.250           0.211\n",
       "L8.iot_hum_d            0.017601         0.003398            5.180           0.000\n",
       "L8.src2_temp_d         -0.010267         0.082657           -0.124           0.901\n",
       "L8.src2_pres_d         -0.098746         0.155472           -0.635           0.525\n",
       "L8.src2_hum_d           0.001856         0.012062            0.154           0.878\n",
       "L9.iot_temp_d          -0.375461         0.024537          -15.302           0.000\n",
       "L9.iot_pres_d           0.001282         0.000285            4.498           0.000\n",
       "L9.iot_hum_d            0.006622         0.003572            1.854           0.064\n",
       "L9.src2_temp_d          0.325829         0.086628            3.761           0.000\n",
       "L9.src2_pres_d          0.185630         0.163563            1.135           0.256\n",
       "L9.src2_hum_d          -0.006030         0.012839           -0.470           0.639\n",
       "L10.iot_temp_d         -0.753384         0.024751          -30.438           0.000\n",
       "L10.iot_pres_d          0.000215         0.000291            0.738           0.461\n",
       "L10.iot_hum_d           0.013581         0.003573            3.801           0.000\n",
       "L10.src2_temp_d         0.025216         0.087229            0.289           0.773\n",
       "L10.src2_pres_d        -0.197653         0.164491           -1.202           0.230\n",
       "L10.src2_hum_d          0.007919         0.012828            0.617           0.537\n",
       "L11.iot_temp_d         -0.382672         0.025338          -15.103           0.000\n",
       "L11.iot_pres_d          0.001171         0.000295            3.964           0.000\n",
       "L11.iot_hum_d           0.006414         0.003654            1.755           0.079\n",
       "L11.src2_temp_d         0.246156         0.089044            2.764           0.006\n",
       "L11.src2_pres_d         0.085812         0.170384            0.504           0.615\n",
       "L11.src2_hum_d         -0.009158         0.013150           -0.696           0.486\n",
       "L12.iot_temp_d         -0.673038         0.025455          -26.441           0.000\n",
       "L12.iot_pres_d          0.000549         0.000296            1.855           0.064\n",
       "L12.iot_hum_d           0.014224         0.003656            3.891           0.000\n",
       "L12.src2_temp_d        -0.139711         0.089148           -1.567           0.117\n",
       "L12.src2_pres_d        -0.164675         0.171102           -0.962           0.336\n",
       "L12.src2_hum_d         -0.002009         0.013142           -0.153           0.878\n",
       "L13.iot_temp_d         -0.363022         0.025448          -14.265           0.000\n",
       "L13.iot_pres_d          0.001206         0.000295            4.084           0.000\n",
       "L13.iot_hum_d           0.007729         0.003661            2.111           0.035\n",
       "L13.src2_temp_d         0.023847         0.089218            0.267           0.789\n",
       "L13.src2_pres_d         0.133997         0.171041            0.783           0.433\n",
       "L13.src2_hum_d         -0.022103         0.013155           -1.680           0.093\n",
       "L14.iot_temp_d         -0.638113         0.025408          -25.115           0.000\n",
       "L14.iot_pres_d          0.000535         0.000295            1.811           0.070\n",
       "L14.iot_hum_d           0.012942         0.003666            3.530           0.000\n",
       "L14.src2_temp_d        -0.053310         0.089026           -0.599           0.549\n",
       "L14.src2_pres_d        -0.205359         0.170074           -1.207           0.227\n",
       "L14.src2_hum_d         -0.007121         0.013129           -0.542           0.588\n",
       "L15.iot_temp_d         -0.367915         0.024861          -14.799           0.000\n",
       "L15.iot_pres_d          0.001061         0.000290            3.665           0.000\n",
       "L15.iot_hum_d           0.008472         0.003595            2.356           0.018\n",
       "L15.src2_temp_d         0.020430         0.087136            0.234           0.815\n",
       "L15.src2_pres_d         0.173743         0.164494            1.056           0.291\n",
       "L15.src2_hum_d         -0.010806         0.012833           -0.842           0.400\n",
       "L16.iot_temp_d         -0.572034         0.024771          -23.093           0.000\n",
       "L16.iot_pres_d          0.000491         0.000284            1.726           0.084\n",
       "L16.iot_hum_d           0.013321         0.003597            3.704           0.000\n",
       "L16.src2_temp_d         0.062379         0.086230            0.723           0.469\n",
       "L16.src2_pres_d         0.007718         0.163321            0.047           0.962\n",
       "L16.src2_hum_d          0.006136         0.012821            0.479           0.632\n",
       "L17.iot_temp_d         -0.346665         0.023706          -14.624           0.000\n",
       "L17.iot_pres_d          0.000988         0.000273            3.622           0.000\n",
       "L17.iot_hum_d           0.006197         0.003428            1.808           0.071\n",
       "L17.src2_temp_d        -0.044186         0.082329           -0.537           0.591\n",
       "L17.src2_pres_d         0.055818         0.155190            0.360           0.719\n",
       "L17.src2_hum_d         -0.013682         0.012074           -1.133           0.257\n",
       "L18.iot_temp_d         -0.491035         0.023590          -20.815           0.000\n",
       "L18.iot_pres_d          0.000522         0.000268            1.946           0.052\n",
       "L18.iot_hum_d           0.012697         0.003420            3.712           0.000\n",
       "L18.src2_temp_d        -0.024137         0.081303           -0.297           0.767\n",
       "L18.src2_pres_d        -0.165900         0.152869           -1.085           0.278\n",
       "L18.src2_hum_d          0.006981         0.011994            0.582           0.561\n",
       "L19.iot_temp_d         -0.318879         0.021483          -14.844           0.000\n",
       "L19.iot_pres_d          0.000695         0.000253            2.750           0.006\n",
       "L19.iot_hum_d           0.004075         0.003118            1.307           0.191\n",
       "L19.src2_temp_d        -0.087979         0.075669           -1.163           0.245\n",
       "L19.src2_pres_d        -0.056626         0.140032           -0.404           0.686\n",
       "L19.src2_hum_d         -0.010408         0.010934           -0.952           0.341\n",
       "L20.iot_temp_d         -0.441206         0.021322          -20.693           0.000\n",
       "L20.iot_pres_d          0.000284         0.000247            1.149           0.251\n",
       "L20.iot_hum_d           0.012080         0.003113            3.881           0.000\n",
       "L20.src2_temp_d        -0.107179         0.074117           -1.446           0.148\n",
       "L20.src2_pres_d        -0.044455         0.136636           -0.325           0.745\n",
       "L20.src2_hum_d          0.005925         0.010865            0.545           0.586\n",
       "L21.iot_temp_d         -0.278749         0.018157          -15.352           0.000\n",
       "L21.iot_pres_d          0.000186         0.000216            0.861           0.389\n",
       "L21.iot_hum_d           0.008294         0.002678            3.097           0.002\n",
       "L21.src2_temp_d        -0.055612         0.064356           -0.864           0.388\n",
       "L21.src2_pres_d        -0.024760         0.118609           -0.209           0.835\n",
       "L21.src2_hum_d         -0.005474         0.009408           -0.582           0.561\n",
       "L22.iot_temp_d         -0.408563         0.018157          -22.501           0.000\n",
       "L22.iot_pres_d         -0.000298         0.000212           -1.405           0.160\n",
       "L22.iot_hum_d           0.008368         0.002699            3.100           0.002\n",
       "L22.src2_temp_d        -0.152578         0.061241           -2.491           0.013\n",
       "L22.src2_pres_d         0.022870         0.112924            0.203           0.840\n",
       "L22.src2_hum_d          0.006014         0.009264            0.649           0.516\n",
       "L23.iot_temp_d         -0.174000         0.013558          -12.834           0.000\n",
       "L23.iot_pres_d          0.000184         0.000164            1.122           0.262\n",
       "L23.iot_hum_d           0.001456         0.002049            0.711           0.477\n",
       "L23.src2_temp_d         0.090778         0.046148            1.967           0.049\n",
       "L23.src2_pres_d        -0.112577         0.083440           -1.349           0.177\n",
       "L23.src2_hum_d          0.006204         0.007088            0.875           0.381\n",
       "L24.iot_temp_d         -0.021936         0.013538           -1.620           0.105\n",
       "L24.iot_pres_d          0.000082         0.000160            0.512           0.609\n",
       "L24.iot_hum_d           0.004479         0.002050            2.185           0.029\n",
       "L24.src2_temp_d        -0.114103         0.041681           -2.738           0.006\n",
       "L24.src2_pres_d         0.001192         0.074883            0.016           0.987\n",
       "L24.src2_hum_d          0.005222         0.006944            0.752           0.452\n",
       "==================================================================================\n",
       "\n",
       "Results for equation iot_pres_d\n",
       "==================================================================================\n",
       "                     coefficient       std. error           t-stat            prob\n",
       "----------------------------------------------------------------------------------\n",
       "const                   0.029834         0.444286            0.067           0.946\n",
       "L1.iot_temp_d          -6.259107         0.927187           -6.751           0.000\n",
       "L1.iot_pres_d          -0.259030         0.010955          -23.645           0.000\n",
       "L1.iot_hum_d           -0.623502         0.141464           -4.407           0.000\n",
       "L1.src2_temp_d          4.531190         2.907170            1.559           0.119\n",
       "L1.src2_pres_d         25.250191         5.229143            4.829           0.000\n",
       "L1.src2_hum_d           0.256390         0.478503            0.536           0.592\n",
       "L2.iot_temp_d          -3.070893         0.934618           -3.286           0.001\n",
       "L2.iot_pres_d          -0.912749         0.011226          -81.309           0.000\n",
       "L2.iot_hum_d           -0.249672         0.141288           -1.767           0.077\n",
       "L2.src2_temp_d         -3.953992         3.185179           -1.241           0.214\n",
       "L2.src2_pres_d          5.196090         5.795086            0.897           0.370\n",
       "L2.src2_hum_d          -0.526931         0.489050           -1.077           0.281\n",
       "L3.iot_temp_d          -9.302389         1.239836           -7.503           0.000\n",
       "L3.iot_pres_d          -0.451834         0.014570          -31.011           0.000\n",
       "L3.iot_hum_d           -0.990478         0.185117           -5.351           0.000\n",
       "L3.src2_temp_d          7.200866         4.245483            1.696           0.090\n",
       "L3.src2_pres_d         38.478114         7.868274            4.890           0.000\n",
       "L3.src2_hum_d           0.756926         0.639166            1.184           0.236\n",
       "L4.iot_temp_d          -7.667028         1.244064           -6.163           0.000\n",
       "L4.iot_pres_d          -0.855288         0.014887          -57.453           0.000\n",
       "L4.iot_hum_d           -0.808526         0.183435           -4.408           0.000\n",
       "L4.src2_temp_d          1.052539         4.439420            0.237           0.813\n",
       "L4.src2_pres_d          8.004127         8.244228            0.971           0.332\n",
       "L4.src2_hum_d           0.263151         0.648485            0.406           0.685\n",
       "L5.iot_temp_d         -10.682442         1.453990           -7.347           0.000\n",
       "L5.iot_pres_d          -0.551745         0.017026          -32.406           0.000\n",
       "L5.iot_hum_d           -1.129417         0.213268           -5.296           0.000\n",
       "L5.src2_temp_d          5.691875         5.135881            1.108           0.268\n",
       "L5.src2_pres_d         29.573350         9.484684            3.118           0.002\n",
       "L5.src2_hum_d           0.661154         0.750616            0.881           0.378\n",
       "L6.iot_temp_d         -11.346839         1.465321           -7.744           0.000\n",
       "L6.iot_pres_d          -0.754210         0.017495          -43.110           0.000\n",
       "L6.iot_hum_d           -1.172359         0.213399           -5.494           0.000\n",
       "L6.src2_temp_d          0.803147         5.215869            0.154           0.878\n",
       "L6.src2_pres_d         13.793212         9.706339            1.421           0.155\n",
       "L6.src2_hum_d           0.061129         0.755338            0.081           0.935\n",
       "L7.iot_temp_d         -12.856918         1.605146           -8.010           0.000\n",
       "L7.iot_pres_d          -0.590966         0.018554          -31.852           0.000\n",
       "L7.iot_hum_d           -1.387550         0.234170           -5.925           0.000\n",
       "L7.src2_temp_d          5.946107         5.641190            1.054           0.292\n",
       "L7.src2_pres_d         32.362413        10.581660            3.058           0.002\n",
       "L7.src2_hum_d           0.640999         0.828767            0.773           0.439\n",
       "L8.iot_temp_d         -12.732574         1.617964           -7.870           0.000\n",
       "L8.iot_pres_d          -0.734006         0.018912          -38.811           0.000\n",
       "L8.iot_hum_d           -1.314278         0.234453           -5.606           0.000\n",
       "L8.src2_temp_d          2.990376         5.702790            0.524           0.600\n",
       "L8.src2_pres_d         28.578102        10.726584            2.664           0.008\n",
       "L8.src2_hum_d          -0.224435         0.832168           -0.270           0.787\n",
       "L9.iot_temp_d         -12.355120         1.692896           -7.298           0.000\n",
       "L9.iot_pres_d          -0.669308         0.019670          -34.026           0.000\n",
       "L9.iot_hum_d           -1.283091         0.246455           -5.206           0.000\n",
       "L9.src2_temp_d         -0.345872         5.976805           -0.058           0.954\n",
       "L9.src2_pres_d         24.387812        11.284799            2.161           0.031\n",
       "L9.src2_hum_d          -0.230181         0.885818           -0.260           0.795\n",
       "L10.iot_temp_d        -13.100250         1.707679           -7.671           0.000\n",
       "L10.iot_pres_d         -0.714278         0.020083          -35.566           0.000\n",
       "L10.iot_hum_d          -1.416297         0.246499           -5.746           0.000\n",
       "L10.src2_temp_d         5.834780         6.018237            0.970           0.332\n",
       "L10.src2_pres_d        35.484562        11.348796            3.127           0.002\n",
       "L10.src2_hum_d          0.176712         0.885033            0.200           0.842\n",
       "L11.iot_temp_d        -11.018114         1.748164           -6.303           0.000\n",
       "L11.iot_pres_d         -0.620776         0.020384          -30.455           0.000\n",
       "L11.iot_hum_d          -1.265925         0.252080           -5.022           0.000\n",
       "L11.src2_temp_d        -1.731870         6.143479           -0.282           0.778\n",
       "L11.src2_pres_d        27.314400        11.755378            2.324           0.020\n",
       "L11.src2_hum_d         -0.426431         0.907245           -0.470           0.638\n",
       "L12.iot_temp_d        -13.374554         1.756212           -7.616           0.000\n",
       "L12.iot_pres_d         -0.697963         0.020414          -34.191           0.000\n",
       "L12.iot_hum_d          -1.373828         0.252225           -5.447           0.000\n",
       "L12.src2_temp_d        14.743894         6.150645            2.397           0.017\n",
       "L12.src2_pres_d        42.712339        11.804952            3.618           0.000\n",
       "L12.src2_hum_d          0.531122         0.906742            0.586           0.558\n",
       "L13.iot_temp_d        -11.641204         1.755758           -6.630           0.000\n",
       "L13.iot_pres_d         -0.614567         0.020367          -30.175           0.000\n",
       "L13.iot_hum_d          -1.225860         0.252586           -4.853           0.000\n",
       "L13.src2_temp_d        -8.223850         6.155455           -1.336           0.182\n",
       "L13.src2_pres_d        24.927796        11.800715            2.112           0.035\n",
       "L13.src2_hum_d         -1.010698         0.907587           -1.114           0.265\n",
       "L14.iot_temp_d        -11.754991         1.752984           -6.706           0.000\n",
       "L14.iot_pres_d         -0.623029         0.020369          -30.587           0.000\n",
       "L14.iot_hum_d          -1.070696         0.252949           -4.233           0.000\n",
       "L14.src2_temp_d        12.145087         6.142219            1.977           0.048\n",
       "L14.src2_pres_d        45.994327        11.734009            3.920           0.000\n",
       "L14.src2_hum_d         -0.452070         0.905814           -0.499           0.618\n",
       "L15.iot_temp_d        -10.821424         1.715224           -6.309           0.000\n",
       "L15.iot_pres_d         -0.556508         0.019982          -27.850           0.000\n",
       "L15.iot_hum_d          -1.113493         0.248055           -4.489           0.000\n",
       "L15.src2_temp_d         0.935763         6.011794            0.156           0.876\n",
       "L15.src2_pres_d        22.909028        11.349051            2.019           0.044\n",
       "L15.src2_hum_d         -1.657638         0.885371           -1.872           0.061\n",
       "L16.iot_temp_d        -10.884055         1.709052           -6.368           0.000\n",
       "L16.iot_pres_d         -0.530812         0.019617          -27.059           0.000\n",
       "L16.iot_hum_d          -1.043134         0.248155           -4.204           0.000\n",
       "L16.src2_temp_d         4.941808         5.949352            0.831           0.406\n",
       "L16.src2_pres_d        30.904417        11.268120            2.743           0.006\n",
       "L16.src2_hum_d         -0.656789         0.884599           -0.742           0.458\n",
       "L17.iot_temp_d         -9.615760         1.635558           -5.879           0.000\n",
       "L17.iot_pres_d         -0.493646         0.018820          -26.229           0.000\n",
       "L17.iot_hum_d          -0.800495         0.236495           -3.385           0.001\n",
       "L17.src2_temp_d        -4.677253         5.680142           -0.823           0.410\n",
       "L17.src2_pres_d        11.582356        10.707125            1.082           0.279\n",
       "L17.src2_hum_d         -1.790253         0.833020           -2.149           0.032\n",
       "L18.iot_temp_d        -10.331776         1.627568           -6.348           0.000\n",
       "L18.iot_pres_d         -0.503539         0.018497          -27.223           0.000\n",
       "L18.iot_hum_d          -0.925523         0.235968           -3.922           0.000\n",
       "L18.src2_temp_d         5.072251         5.609359            0.904           0.366\n",
       "L18.src2_pres_d        12.598184        10.546985            1.194           0.232\n",
       "L18.src2_hum_d         -0.545628         0.827503           -0.659           0.510\n",
       "L19.iot_temp_d         -7.501457         1.482164           -5.061           0.000\n",
       "L19.iot_pres_d         -0.430720         0.017444          -24.691           0.000\n",
       "L19.iot_hum_d          -0.384290         0.215109           -1.786           0.074\n",
       "L19.src2_temp_d        -4.960762         5.220661           -0.950           0.342\n",
       "L19.src2_pres_d         8.449916         9.661300            0.875           0.382\n",
       "L19.src2_hum_d         -1.343175         0.754344           -1.781           0.075\n",
       "L20.iot_temp_d         -7.434062         1.471052           -5.054           0.000\n",
       "L20.iot_pres_d         -0.421086         0.017039          -24.713           0.000\n",
       "L20.iot_hum_d          -0.574465         0.214778           -2.675           0.007\n",
       "L20.src2_temp_d         4.996724         5.113579            0.977           0.328\n",
       "L20.src2_pres_d        15.368674         9.427038            1.630           0.103\n",
       "L20.src2_hum_d         -0.216088         0.749634           -0.288           0.773\n",
       "L21.iot_temp_d         -6.231979         1.252688           -4.975           0.000\n",
       "L21.iot_pres_d         -0.374079         0.014930          -25.055           0.000\n",
       "L21.iot_hum_d          -0.315927         0.184777           -1.710           0.087\n",
       "L21.src2_temp_d        -3.013745         4.440176           -0.679           0.497\n",
       "L21.src2_pres_d        -3.849194         8.183286           -0.470           0.638\n",
       "L21.src2_hum_d         -1.497868         0.649085           -2.308           0.021\n",
       "L22.iot_temp_d         -6.077269         1.252746           -4.851           0.000\n",
       "L22.iot_pres_d         -0.349755         0.014622          -23.919           0.000\n",
       "L22.iot_hum_d          -0.216687         0.186205           -1.164           0.245\n",
       "L22.src2_temp_d        -1.668280         4.225268           -0.395           0.693\n",
       "L22.src2_pres_d         9.251350         7.791068            1.187           0.235\n",
       "L22.src2_hum_d         -0.504565         0.639148           -0.789           0.430\n",
       "L23.iot_temp_d         -4.041929         0.935411           -4.321           0.000\n",
       "L23.iot_pres_d         -0.163836         0.011291          -14.510           0.000\n",
       "L23.iot_hum_d          -0.273444         0.141387           -1.934           0.053\n",
       "L23.src2_temp_d         4.152411         3.183907            1.304           0.192\n",
       "L23.src2_pres_d         0.033959         5.756852            0.006           0.995\n",
       "L23.src2_hum_d         -0.581553         0.489044           -1.189           0.234\n",
       "L24.iot_temp_d         -4.430416         0.934063           -4.743           0.000\n",
       "L24.iot_pres_d         -0.054484         0.011030           -4.940           0.000\n",
       "L24.iot_hum_d          -0.219847         0.141425           -1.555           0.120\n",
       "L24.src2_temp_d        -0.094719         2.875736           -0.033           0.974\n",
       "L24.src2_pres_d        15.216976         5.166445            2.945           0.003\n",
       "L24.src2_hum_d         -0.635725         0.479077           -1.327           0.185\n",
       "==================================================================================\n",
       "\n",
       "Results for equation iot_hum_d\n",
       "==================================================================================\n",
       "                     coefficient       std. error           t-stat            prob\n",
       "----------------------------------------------------------------------------------\n",
       "const                  -0.000973         0.041780           -0.023           0.981\n",
       "L1.iot_temp_d          -0.793543         0.087190           -9.101           0.000\n",
       "L1.iot_pres_d          -0.000138         0.001030           -0.134           0.894\n",
       "L1.iot_hum_d           -0.245009         0.013303          -18.418           0.000\n",
       "L1.src2_temp_d         -0.999691         0.273383           -3.657           0.000\n",
       "L1.src2_pres_d          0.323732         0.491735            0.658           0.510\n",
       "L1.src2_hum_d          -0.014528         0.044997           -0.323           0.747\n",
       "L2.iot_temp_d          -0.104790         0.087889           -1.192           0.233\n",
       "L2.iot_pres_d           0.000983         0.001056            0.931           0.352\n",
       "L2.iot_hum_d           -1.030561         0.013286          -77.565           0.000\n",
       "L2.src2_temp_d         -0.011643         0.299526           -0.039           0.969\n",
       "L2.src2_pres_d          0.284218         0.544955            0.522           0.602\n",
       "L2.src2_hum_d           0.051779         0.045989            1.126           0.260\n",
       "L3.iot_temp_d          -0.778821         0.116591           -6.680           0.000\n",
       "L3.iot_pres_d           0.000052         0.001370            0.038           0.970\n",
       "L3.iot_hum_d           -0.350588         0.017408          -20.140           0.000\n",
       "L3.src2_temp_d         -1.150840         0.399234           -2.883           0.004\n",
       "L3.src2_pres_d         -0.091244         0.739912           -0.123           0.902\n",
       "L3.src2_hum_d           0.054351         0.060106            0.904           0.366\n",
       "L4.iot_temp_d          -0.031213         0.116989           -0.267           0.790\n",
       "L4.iot_pres_d           0.002499         0.001400            1.785           0.074\n",
       "L4.iot_hum_d           -0.995016         0.017250          -57.683           0.000\n",
       "L4.src2_temp_d         -0.272111         0.417472           -0.652           0.515\n",
       "L4.src2_pres_d         -0.322547         0.775266           -0.416           0.677\n",
       "L4.src2_hum_d           0.050781         0.060982            0.833           0.405\n",
       "L5.iot_temp_d          -0.743244         0.136729           -5.436           0.000\n",
       "L5.iot_pres_d          -0.000209         0.001601           -0.131           0.896\n",
       "L5.iot_hum_d           -0.436947         0.020055          -21.787           0.000\n",
       "L5.src2_temp_d         -0.809739         0.482965           -1.677           0.094\n",
       "L5.src2_pres_d          0.081508         0.891916            0.091           0.927\n",
       "L5.src2_hum_d           0.043465         0.070586            0.616           0.538\n",
       "L6.iot_temp_d          -0.242468         0.137795           -1.760           0.078\n",
       "L6.iot_pres_d           0.002645         0.001645            1.608           0.108\n",
       "L6.iot_hum_d           -0.969695         0.020068          -48.322           0.000\n",
       "L6.src2_temp_d         -0.346668         0.490487           -0.707           0.480\n",
       "L6.src2_pres_d          0.257196         0.912759            0.282           0.778\n",
       "L6.src2_hum_d           0.050385         0.071030            0.709           0.478\n",
       "L7.iot_temp_d          -0.706811         0.150944           -4.683           0.000\n",
       "L7.iot_pres_d           0.000297         0.001745            0.170           0.865\n",
       "L7.iot_hum_d           -0.468408         0.022021          -21.271           0.000\n",
       "L7.src2_temp_d         -0.392875         0.530483           -0.741           0.459\n",
       "L7.src2_pres_d         -0.659322         0.995072           -0.663           0.508\n",
       "L7.src2_hum_d           0.039914         0.077935            0.512           0.609\n",
       "L8.iot_temp_d          -0.160452         0.152149           -1.055           0.292\n",
       "L8.iot_pres_d           0.002409         0.001778            1.354           0.176\n",
       "L8.iot_hum_d           -0.904805         0.022047          -41.039           0.000\n",
       "L8.src2_temp_d         -0.257224         0.536276           -0.480           0.631\n",
       "L8.src2_pres_d          1.359732         1.008701            1.348           0.178\n",
       "L8.src2_hum_d           0.037689         0.078255            0.482           0.630\n",
       "L9.iot_temp_d          -0.453364         0.159196           -2.848           0.004\n",
       "L9.iot_pres_d           0.000859         0.001850            0.464           0.642\n",
       "L9.iot_hum_d           -0.472329         0.023176          -20.380           0.000\n",
       "L9.src2_temp_d         -0.757783         0.562044           -1.348           0.178\n",
       "L9.src2_pres_d         -1.492782         1.061194           -1.407           0.160\n",
       "L9.src2_hum_d           0.033190         0.083300            0.398           0.690\n",
       "L10.iot_temp_d         -0.089852         0.160586           -0.560           0.576\n",
       "L10.iot_pres_d          0.002769         0.001889            1.466           0.143\n",
       "L10.iot_hum_d          -0.854307         0.023180          -36.855           0.000\n",
       "L10.src2_temp_d         0.225301         0.565940            0.398           0.691\n",
       "L10.src2_pres_d         1.588662         1.067212            1.489           0.137\n",
       "L10.src2_hum_d          0.071395         0.083226            0.858           0.391\n",
       "L11.iot_temp_d         -0.511832         0.164393           -3.113           0.002\n",
       "L11.iot_pres_d          0.000566         0.001917            0.295           0.768\n",
       "L11.iot_hum_d          -0.498556         0.023705          -21.032           0.000\n",
       "L11.src2_temp_d        -0.858305         0.577717           -1.486           0.137\n",
       "L11.src2_pres_d        -0.813539         1.105446           -0.736           0.462\n",
       "L11.src2_hum_d          0.012831         0.085315            0.150           0.880\n",
       "L12.iot_temp_d         -0.308354         0.165150           -1.867           0.062\n",
       "L12.iot_pres_d          0.002120         0.001920            1.104           0.269\n",
       "L12.iot_hum_d          -0.808581         0.023719          -34.091           0.000\n",
       "L12.src2_temp_d         0.831154         0.578391            1.437           0.151\n",
       "L12.src2_pres_d         1.583284         1.110108            1.426           0.154\n",
       "L12.src2_hum_d          0.071996         0.085268            0.844           0.398\n",
       "L13.iot_temp_d         -0.507306         0.165107           -3.073           0.002\n",
       "L13.iot_pres_d          0.000615         0.001915            0.321           0.748\n",
       "L13.iot_hum_d          -0.510263         0.023753          -21.482           0.000\n",
       "L13.src2_temp_d        -0.540937         0.578843           -0.935           0.350\n",
       "L13.src2_pres_d        -1.261111         1.109709           -1.136           0.256\n",
       "L13.src2_hum_d          0.053242         0.085347            0.624           0.533\n",
       "L14.iot_temp_d         -0.333975         0.164846           -2.026           0.043\n",
       "L14.iot_pres_d          0.002540         0.001915            1.326           0.185\n",
       "L14.iot_hum_d          -0.774496         0.023787          -32.560           0.000\n",
       "L14.src2_temp_d         0.545093         0.577599            0.944           0.345\n",
       "L14.src2_pres_d         2.008881         1.103436            1.821           0.069\n",
       "L14.src2_hum_d          0.077931         0.085180            0.915           0.360\n",
       "L15.iot_temp_d         -0.458845         0.161295           -2.845           0.004\n",
       "L15.iot_pres_d          0.001936         0.001879            1.030           0.303\n",
       "L15.iot_hum_d          -0.491515         0.023326          -21.071           0.000\n",
       "L15.src2_temp_d        -0.373696         0.565334           -0.661           0.509\n",
       "L15.src2_pres_d        -1.051935         1.067236           -0.986           0.324\n",
       "L15.src2_hum_d          0.016052         0.083258            0.193           0.847\n",
       "L16.iot_temp_d         -0.354547         0.160715           -2.206           0.027\n",
       "L16.iot_pres_d          0.003404         0.001845            1.845           0.065\n",
       "L16.iot_hum_d          -0.712899         0.023336          -30.549           0.000\n",
       "L16.src2_temp_d         0.019482         0.559462            0.035           0.972\n",
       "L16.src2_pres_d         1.040722         1.059625            0.982           0.326\n",
       "L16.src2_hum_d          0.019936         0.083185            0.240           0.811\n",
       "L17.iot_temp_d         -0.412029         0.153804           -2.679           0.007\n",
       "L17.iot_pres_d          0.002814         0.001770            1.590           0.112\n",
       "L17.iot_hum_d          -0.457671         0.022239          -20.579           0.000\n",
       "L17.src2_temp_d         0.106878         0.534146            0.200           0.841\n",
       "L17.src2_pres_d         0.073167         1.006871            0.073           0.942\n",
       "L17.src2_hum_d          0.016235         0.078335            0.207           0.836\n",
       "L18.iot_temp_d         -0.403183         0.153052           -2.634           0.008\n",
       "L18.iot_pres_d          0.003744         0.001739            2.152           0.031\n",
       "L18.iot_hum_d          -0.668430         0.022190          -30.123           0.000\n",
       "L18.src2_temp_d         0.371504         0.527490            0.704           0.481\n",
       "L18.src2_pres_d         0.509385         0.991812            0.514           0.608\n",
       "L18.src2_hum_d          0.053247         0.077816            0.684           0.494\n",
       "L19.iot_temp_d         -0.241618         0.139379           -1.734           0.083\n",
       "L19.iot_pres_d          0.004022         0.001640            2.452           0.014\n",
       "L19.iot_hum_d          -0.412058         0.020228          -20.370           0.000\n",
       "L19.src2_temp_d         0.226310         0.490938            0.461           0.645\n",
       "L19.src2_pres_d        -0.229919         0.908524           -0.253           0.800\n",
       "L19.src2_hum_d         -0.007213         0.070937           -0.102           0.919\n",
       "L20.iot_temp_d         -0.541956         0.138334           -3.918           0.000\n",
       "L20.iot_pres_d          0.004479         0.001602            2.795           0.005\n",
       "L20.iot_hum_d          -0.622973         0.020197          -30.845           0.000\n",
       "L20.src2_temp_d         0.818963         0.480868            1.703           0.089\n",
       "L20.src2_pres_d        -0.286808         0.886495           -0.324           0.746\n",
       "L20.src2_hum_d          0.096935         0.070494            1.375           0.169\n",
       "L21.iot_temp_d         -0.248818         0.117800           -2.112           0.035\n",
       "L21.iot_pres_d          0.004318         0.001404            3.075           0.002\n",
       "L21.iot_hum_d          -0.388220         0.017376          -22.342           0.000\n",
       "L21.src2_temp_d         0.331960         0.417543            0.795           0.427\n",
       "L21.src2_pres_d         0.554423         0.769535            0.720           0.471\n",
       "L21.src2_hum_d          0.003085         0.061038            0.051           0.960\n",
       "L22.iot_temp_d         -0.446369         0.117805           -3.789           0.000\n",
       "L22.iot_pres_d          0.003838         0.001375            2.791           0.005\n",
       "L22.iot_hum_d          -0.564758         0.017510          -32.253           0.000\n",
       "L22.src2_temp_d         1.301642         0.397333            3.276           0.001\n",
       "L22.src2_pres_d        -0.179503         0.732652           -0.245           0.806\n",
       "L22.src2_hum_d          0.090424         0.060104            1.504           0.132\n",
       "L23.iot_temp_d          0.027147         0.087964            0.309           0.758\n",
       "L23.iot_pres_d          0.002566         0.001062            2.416           0.016\n",
       "L23.iot_hum_d          -0.219032         0.013296          -16.474           0.000\n",
       "L23.src2_temp_d        -0.443757         0.299406           -1.482           0.138\n",
       "L23.src2_pres_d        -0.137334         0.541360           -0.254           0.800\n",
       "L23.src2_hum_d         -0.025927         0.045988           -0.564           0.573\n",
       "L24.iot_temp_d         -0.182111         0.087837           -2.073           0.038\n",
       "L24.iot_pres_d          0.001047         0.001037            1.009           0.313\n",
       "L24.iot_hum_d          -0.084000         0.013299           -6.316           0.000\n",
       "L24.src2_temp_d         0.786916         0.270427            2.910           0.004\n",
       "L24.src2_pres_d        -0.026868         0.485839           -0.055           0.956\n",
       "L24.src2_hum_d          0.041059         0.045051            0.911           0.362\n",
       "==================================================================================\n",
       "\n",
       "Results for equation src2_temp_d\n",
       "==================================================================================\n",
       "                     coefficient       std. error           t-stat            prob\n",
       "----------------------------------------------------------------------------------\n",
       "const                  -0.000187         0.001904           -0.098           0.922\n",
       "L1.iot_temp_d           0.031124         0.003973            7.834           0.000\n",
       "L1.iot_pres_d           0.000039         0.000047            0.840           0.401\n",
       "L1.iot_hum_d            0.000674         0.000606            1.112           0.266\n",
       "L1.src2_temp_d          0.552362         0.012457           44.340           0.000\n",
       "L1.src2_pres_d          0.056274         0.022407            2.511           0.012\n",
       "L1.src2_hum_d          -0.014083         0.002050           -6.868           0.000\n",
       "L2.iot_temp_d           0.020731         0.004005            5.177           0.000\n",
       "L2.iot_pres_d          -0.000049         0.000048           -1.021           0.307\n",
       "L2.iot_hum_d            0.000380         0.000605            0.627           0.530\n",
       "L2.src2_temp_d         -1.136293         0.013649          -83.254           0.000\n",
       "L2.src2_pres_d          0.026797         0.024832            1.079           0.281\n",
       "L2.src2_hum_d           0.005567         0.002096            2.656           0.008\n",
       "L3.iot_temp_d           0.038840         0.005313            7.311           0.000\n",
       "L3.iot_pres_d          -0.000035         0.000062           -0.555           0.579\n",
       "L3.iot_hum_d            0.000950         0.000793            1.197           0.231\n",
       "L3.src2_temp_d          0.560957         0.018192           30.835           0.000\n",
       "L3.src2_pres_d          0.058846         0.033716            1.745           0.081\n",
       "L3.src2_hum_d          -0.012324         0.002739           -4.500           0.000\n",
       "L4.iot_temp_d           0.023293         0.005331            4.369           0.000\n",
       "L4.iot_pres_d          -0.000100         0.000064           -1.562           0.118\n",
       "L4.iot_hum_d            0.000712         0.000786            0.906           0.365\n",
       "L4.src2_temp_d         -1.090720         0.019023          -57.337           0.000\n",
       "L4.src2_pres_d         -0.019985         0.035327           -0.566           0.572\n",
       "L4.src2_hum_d           0.007114         0.002779            2.560           0.010\n",
       "L5.iot_temp_d           0.041078         0.006230            6.593           0.000\n",
       "L5.iot_pres_d           0.000041         0.000073            0.562           0.574\n",
       "L5.iot_hum_d            0.001676         0.000914            1.834           0.067\n",
       "L5.src2_temp_d          0.459092         0.022007           20.861           0.000\n",
       "L5.src2_pres_d          0.144836         0.040642            3.564           0.000\n",
       "L5.src2_hum_d          -0.015358         0.003216           -4.775           0.000\n",
       "L6.iot_temp_d           0.036567         0.006279            5.824           0.000\n",
       "L6.iot_pres_d          -0.000054         0.000075           -0.715           0.475\n",
       "L6.iot_hum_d            0.000689         0.000914            0.754           0.451\n",
       "L6.src2_temp_d         -1.042091         0.022350          -46.626           0.000\n",
       "L6.src2_pres_d          0.005770         0.041592            0.139           0.890\n",
       "L6.src2_hum_d           0.007309         0.003237            2.258           0.024\n",
       "L7.iot_temp_d           0.053465         0.006878            7.773           0.000\n",
       "L7.iot_pres_d           0.000034         0.000080            0.423           0.672\n",
       "L7.iot_hum_d            0.002329         0.001003            2.321           0.020\n",
       "L7.src2_temp_d          0.447036         0.024173           18.493           0.000\n",
       "L7.src2_pres_d          0.103481         0.045343            2.282           0.022\n",
       "L7.src2_hum_d          -0.015664         0.003551           -4.411           0.000\n",
       "L8.iot_temp_d           0.047601         0.006933            6.866           0.000\n",
       "L8.iot_pres_d          -0.000022         0.000081           -0.266           0.790\n",
       "L8.iot_hum_d            0.001329         0.001005            1.323           0.186\n",
       "L8.src2_temp_d         -1.011382         0.024437          -41.388           0.000\n",
       "L8.src2_pres_d         -0.027904         0.045964           -0.607           0.544\n",
       "L8.src2_hum_d           0.013440         0.003566            3.769           0.000\n",
       "L9.iot_temp_d           0.061805         0.007254            8.520           0.000\n",
       "L9.iot_pres_d           0.000086         0.000084            1.018           0.309\n",
       "L9.iot_hum_d            0.001690         0.001056            1.601           0.109\n",
       "L9.src2_temp_d          0.427000         0.025611           16.673           0.000\n",
       "L9.src2_pres_d          0.097315         0.048356            2.012           0.044\n",
       "L9.src2_hum_d          -0.013106         0.003796           -3.453           0.001\n",
       "L10.iot_temp_d          0.040738         0.007317            5.567           0.000\n",
       "L10.iot_pres_d          0.000033         0.000086            0.378           0.706\n",
       "L10.iot_hum_d           0.000814         0.001056            0.770           0.441\n",
       "L10.src2_temp_d        -0.979524         0.025788          -37.983           0.000\n",
       "L10.src2_pres_d         0.053367         0.048630            1.097           0.272\n",
       "L10.src2_hum_d          0.005955         0.003792            1.570           0.116\n",
       "L11.iot_temp_d          0.040698         0.007491            5.433           0.000\n",
       "L11.iot_pres_d          0.000023         0.000087            0.258           0.797\n",
       "L11.iot_hum_d           0.001173         0.001080            1.086           0.278\n",
       "L11.src2_temp_d         0.379783         0.026325           14.427           0.000\n",
       "L11.src2_pres_d         0.094675         0.050372            1.880           0.060\n",
       "L11.src2_hum_d         -0.011650         0.003888           -2.997           0.003\n",
       "L12.iot_temp_d          0.025539         0.007525            3.394           0.001\n",
       "L12.iot_pres_d         -0.000048         0.000087           -0.547           0.585\n",
       "L12.iot_hum_d           0.000366         0.001081            0.338           0.735\n",
       "L12.src2_temp_d        -0.927868         0.026356          -35.206           0.000\n",
       "L12.src2_pres_d         0.026012         0.050585            0.514           0.607\n",
       "L12.src2_hum_d          0.008682         0.003885            2.234           0.025\n",
       "L13.iot_temp_d          0.038129         0.007523            5.068           0.000\n",
       "L13.iot_pres_d          0.000061         0.000087            0.700           0.484\n",
       "L13.iot_hum_d           0.002411         0.001082            2.228           0.026\n",
       "L13.src2_temp_d         0.346020         0.026376           13.119           0.000\n",
       "L13.src2_pres_d         0.126322         0.050566            2.498           0.012\n",
       "L13.src2_hum_d         -0.014692         0.003889           -3.778           0.000\n",
       "L14.iot_temp_d          0.033412         0.007512            4.448           0.000\n",
       "L14.iot_pres_d         -0.000061         0.000087           -0.700           0.484\n",
       "L14.iot_hum_d           0.001316         0.001084            1.215           0.225\n",
       "L14.src2_temp_d        -0.861604         0.026320          -32.736           0.000\n",
       "L14.src2_pres_d         0.022593         0.050281            0.449           0.653\n",
       "L14.src2_hum_d          0.008675         0.003881            2.235           0.025\n",
       "L15.iot_temp_d          0.025596         0.007350            3.483           0.000\n",
       "L15.iot_pres_d          0.000000         0.000086            0.003           0.998\n",
       "L15.iot_hum_d           0.001952         0.001063            1.836           0.066\n",
       "L15.src2_temp_d         0.310146         0.025761           12.040           0.000\n",
       "L15.src2_pres_d         0.123909         0.048631            2.548           0.011\n",
       "L15.src2_hum_d         -0.013899         0.003794           -3.663           0.000\n",
       "L16.iot_temp_d          0.014387         0.007323            1.965           0.049\n",
       "L16.iot_pres_d         -0.000064         0.000084           -0.758           0.448\n",
       "L16.iot_hum_d           0.002153         0.001063            2.024           0.043\n",
       "L16.src2_temp_d        -0.776474         0.025493          -30.458           0.000\n",
       "L16.src2_pres_d         0.026775         0.048284            0.555           0.579\n",
       "L16.src2_hum_d          0.009918         0.003791            2.616           0.009\n",
       "L17.iot_temp_d          0.014777         0.007008            2.108           0.035\n",
       "L17.iot_pres_d         -0.000013         0.000081           -0.162           0.871\n",
       "L17.iot_hum_d           0.003722         0.001013            3.673           0.000\n",
       "L17.src2_temp_d         0.293538         0.024340           12.060           0.000\n",
       "L17.src2_pres_d         0.092987         0.045880            2.027           0.043\n",
       "L17.src2_hum_d         -0.011704         0.003570           -3.279           0.001\n",
       "L18.iot_temp_d          0.008801         0.006974            1.262           0.207\n",
       "L18.iot_pres_d          0.000004         0.000079            0.050           0.961\n",
       "L18.iot_hum_d           0.002799         0.001011            2.768           0.006\n",
       "L18.src2_temp_d        -0.720010         0.024036          -29.955           0.000\n",
       "L18.src2_pres_d         0.086049         0.045194            1.904           0.057\n",
       "L18.src2_hum_d          0.011175         0.003546            3.152           0.002\n",
       "L19.iot_temp_d         -0.000750         0.006351           -0.118           0.906\n",
       "L19.iot_pres_d          0.000022         0.000075            0.295           0.768\n",
       "L19.iot_hum_d           0.003539         0.000922            3.840           0.000\n",
       "L19.src2_temp_d         0.233809         0.022371           10.452           0.000\n",
       "L19.src2_pres_d         0.026951         0.041399            0.651           0.515\n",
       "L19.src2_hum_d         -0.017510         0.003232           -5.417           0.000\n",
       "L20.iot_temp_d         -0.001682         0.006303           -0.267           0.790\n",
       "L20.iot_pres_d         -0.000031         0.000073           -0.421           0.674\n",
       "L20.iot_hum_d           0.002449         0.000920            2.661           0.008\n",
       "L20.src2_temp_d        -0.623151         0.021912          -28.439           0.000\n",
       "L20.src2_pres_d         0.047697         0.040395            1.181           0.238\n",
       "L20.src2_hum_d          0.008610         0.003212            2.680           0.007\n",
       "L21.iot_temp_d          0.000865         0.005368            0.161           0.872\n",
       "L21.iot_pres_d          0.000009         0.000064            0.145           0.885\n",
       "L21.iot_hum_d           0.002362         0.000792            2.983           0.003\n",
       "L21.src2_temp_d         0.209773         0.019026           11.025           0.000\n",
       "L21.src2_pres_d        -0.016002         0.035066           -0.456           0.648\n",
       "L21.src2_hum_d         -0.013153         0.002781           -4.729           0.000\n",
       "L22.iot_temp_d          0.003601         0.005368            0.671           0.502\n",
       "L22.iot_pres_d          0.000001         0.000063            0.013           0.989\n",
       "L22.iot_hum_d           0.001405         0.000798            1.760           0.078\n",
       "L22.src2_temp_d        -0.563293         0.018105          -31.112           0.000\n",
       "L22.src2_pres_d         0.035526         0.033385            1.064           0.287\n",
       "L22.src2_hum_d          0.004888         0.002739            1.785           0.074\n",
       "L23.iot_temp_d          0.001053         0.004008            0.263           0.793\n",
       "L23.iot_pres_d          0.000007         0.000048            0.138           0.890\n",
       "L23.iot_hum_d           0.001026         0.000606            1.694           0.090\n",
       "L23.src2_temp_d         0.231332         0.013643           16.956           0.000\n",
       "L23.src2_pres_d         0.014169         0.024668            0.574           0.566\n",
       "L23.src2_hum_d         -0.004657         0.002096           -2.222           0.026\n",
       "L24.iot_temp_d          0.008852         0.004002            2.212           0.027\n",
       "L24.iot_pres_d         -0.000016         0.000047           -0.335           0.738\n",
       "L24.iot_hum_d          -0.000232         0.000606           -0.383           0.702\n",
       "L24.src2_temp_d        -0.117241         0.012323           -9.514           0.000\n",
       "L24.src2_pres_d         0.024643         0.022138            1.113           0.266\n",
       "L24.src2_hum_d          0.003939         0.002053            1.919           0.055\n",
       "==================================================================================\n",
       "\n",
       "Results for equation src2_pres_d\n",
       "==================================================================================\n",
       "                     coefficient       std. error           t-stat            prob\n",
       "----------------------------------------------------------------------------------\n",
       "const                   0.000056         0.000945            0.059           0.953\n",
       "L1.iot_temp_d           0.000119         0.001973            0.060           0.952\n",
       "L1.iot_pres_d           0.000172         0.000023            7.362           0.000\n",
       "L1.iot_hum_d            0.000305         0.000301            1.013           0.311\n",
       "L1.src2_temp_d         -0.022439         0.006186           -3.627           0.000\n",
       "L1.src2_pres_d          0.492546         0.011128           44.264           0.000\n",
       "L1.src2_hum_d          -0.002061         0.001018           -2.024           0.043\n",
       "L2.iot_temp_d           0.001868         0.001989            0.939           0.348\n",
       "L2.iot_pres_d           0.000132         0.000024            5.540           0.000\n",
       "L2.iot_hum_d            0.000634         0.000301            2.108           0.035\n",
       "L2.src2_temp_d         -0.017938         0.006778           -2.647           0.008\n",
       "L2.src2_pres_d         -1.146763         0.012332          -92.992           0.000\n",
       "L2.src2_hum_d           0.000526         0.001041            0.505           0.613\n",
       "L3.iot_temp_d           0.001423         0.002638            0.539           0.590\n",
       "L3.iot_pres_d           0.000190         0.000031            6.130           0.000\n",
       "L3.iot_hum_d            0.000320         0.000394            0.813           0.416\n",
       "L3.src2_temp_d         -0.030600         0.009034           -3.387           0.001\n",
       "L3.src2_pres_d          0.481174         0.016744           28.738           0.000\n",
       "L3.src2_hum_d          -0.002152         0.001360           -1.582           0.114\n",
       "L4.iot_temp_d          -0.000475         0.002647           -0.179           0.858\n",
       "L4.iot_pres_d           0.000161         0.000032            5.074           0.000\n",
       "L4.iot_hum_d           -0.000355         0.000390           -0.908           0.364\n",
       "L4.src2_temp_d         -0.031196         0.009447           -3.302           0.001\n",
       "L4.src2_pres_d         -1.088439         0.017544          -62.042           0.000\n",
       "L4.src2_hum_d           0.001236         0.001380            0.895           0.371\n",
       "L5.iot_temp_d          -0.007163         0.003094           -2.315           0.021\n",
       "L5.iot_pres_d           0.000192         0.000036            5.307           0.000\n",
       "L5.iot_hum_d           -0.000851         0.000454           -1.875           0.061\n",
       "L5.src2_temp_d         -0.023724         0.010929           -2.171           0.030\n",
       "L5.src2_pres_d          0.409957         0.020183           20.312           0.000\n",
       "L5.src2_hum_d          -0.001406         0.001597           -0.880           0.379\n",
       "L6.iot_temp_d          -0.008218         0.003118           -2.636           0.008\n",
       "L6.iot_pres_d           0.000094         0.000037            2.537           0.011\n",
       "L6.iot_hum_d           -0.001372         0.000454           -3.021           0.003\n",
       "L6.src2_temp_d         -0.023365         0.011099           -2.105           0.035\n",
       "L6.src2_pres_d         -1.064102         0.020655          -51.518           0.000\n",
       "L6.src2_hum_d          -0.000219         0.001607           -0.136           0.892\n",
       "L7.iot_temp_d          -0.008152         0.003416           -2.387           0.017\n",
       "L7.iot_pres_d           0.000138         0.000039            3.493           0.000\n",
       "L7.iot_hum_d           -0.000709         0.000498           -1.423           0.155\n",
       "L7.src2_temp_d         -0.045712         0.012004           -3.808           0.000\n",
       "L7.src2_pres_d          0.392755         0.022518           17.442           0.000\n",
       "L7.src2_hum_d          -0.001118         0.001764           -0.634           0.526\n",
       "L8.iot_temp_d          -0.008282         0.003443           -2.405           0.016\n",
       "L8.iot_pres_d           0.000080         0.000040            1.978           0.048\n",
       "L8.iot_hum_d           -0.001347         0.000499           -2.701           0.007\n",
       "L8.src2_temp_d         -0.010361         0.012135           -0.854           0.393\n",
       "L8.src2_pres_d         -0.981688         0.022826          -43.007           0.000\n",
       "L8.src2_hum_d           0.001764         0.001771            0.996           0.319\n",
       "L9.iot_temp_d          -0.004570         0.003602           -1.269           0.205\n",
       "L9.iot_pres_d           0.000159         0.000042            3.804           0.000\n",
       "L9.iot_hum_d           -0.000238         0.000524           -0.453           0.650\n",
       "L9.src2_temp_d         -0.048151         0.012719           -3.786           0.000\n",
       "L9.src2_pres_d          0.356999         0.024014           14.866           0.000\n",
       "L9.src2_hum_d          -0.002226         0.001885           -1.181           0.238\n",
       "L10.iot_temp_d         -0.006201         0.003634           -1.706           0.088\n",
       "L10.iot_pres_d          0.000115         0.000043            2.687           0.007\n",
       "L10.iot_hum_d          -0.001186         0.000525           -2.261           0.024\n",
       "L10.src2_temp_d        -0.003483         0.012807           -0.272           0.786\n",
       "L10.src2_pres_d        -0.967290         0.024150          -40.053           0.000\n",
       "L10.src2_hum_d          0.002356         0.001883            1.251           0.211\n",
       "L11.iot_temp_d          0.001577         0.003720            0.424           0.672\n",
       "L11.iot_pres_d          0.000181         0.000043            4.173           0.000\n",
       "L11.iot_hum_d           0.000093         0.000536            0.173           0.863\n",
       "L11.src2_temp_d        -0.035497         0.013073           -2.715           0.007\n",
       "L11.src2_pres_d         0.351867         0.025015           14.066           0.000\n",
       "L11.src2_hum_d         -0.001898         0.001931           -0.983           0.325\n",
       "L12.iot_temp_d         -0.007927         0.003737           -2.121           0.034\n",
       "L12.iot_pres_d          0.000131         0.000043            3.022           0.003\n",
       "L12.iot_hum_d          -0.001547         0.000537           -2.882           0.004\n",
       "L12.src2_temp_d        -0.012133         0.013089           -0.927           0.354\n",
       "L12.src2_pres_d        -0.814904         0.025121          -32.439           0.000\n",
       "L12.src2_hum_d          0.000941         0.001930            0.488           0.626\n",
       "L13.iot_temp_d          0.000900         0.003736            0.241           0.810\n",
       "L13.iot_pres_d          0.000177         0.000043            4.081           0.000\n",
       "L13.iot_hum_d           0.000504         0.000538            0.938           0.348\n",
       "L13.src2_temp_d        -0.028813         0.013099           -2.200           0.028\n",
       "L13.src2_pres_d         0.273441         0.025112           10.889           0.000\n",
       "L13.src2_hum_d         -0.001221         0.001931           -0.632           0.527\n",
       "L14.iot_temp_d         -0.006783         0.003730           -1.818           0.069\n",
       "L14.iot_pres_d          0.000183         0.000043            4.231           0.000\n",
       "L14.iot_hum_d          -0.001461         0.000538           -2.713           0.007\n",
       "L14.src2_temp_d         0.007428         0.013071            0.568           0.570\n",
       "L14.src2_pres_d        -0.768305         0.024970          -30.769           0.000\n",
       "L14.src2_hum_d          0.001118         0.001928            0.580           0.562\n",
       "L15.iot_temp_d          0.001082         0.003650            0.297           0.767\n",
       "L15.iot_pres_d          0.000191         0.000043            4.486           0.000\n",
       "L15.iot_hum_d           0.000047         0.000528            0.089           0.929\n",
       "L15.src2_temp_d        -0.058357         0.012793           -4.562           0.000\n",
       "L15.src2_pres_d         0.258568         0.024151           10.706           0.000\n",
       "L15.src2_hum_d         -0.006128         0.001884           -3.253           0.001\n",
       "L16.iot_temp_d          0.001996         0.003637            0.549           0.583\n",
       "L16.iot_pres_d          0.000191         0.000042            4.572           0.000\n",
       "L16.iot_hum_d          -0.000566         0.000528           -1.071           0.284\n",
       "L16.src2_temp_d         0.005190         0.012660            0.410           0.682\n",
       "L16.src2_pres_d        -0.722274         0.023978          -30.122           0.000\n",
       "L16.src2_hum_d          0.000643         0.001882            0.342           0.733\n",
       "L17.iot_temp_d         -0.001319         0.003480           -0.379           0.705\n",
       "L17.iot_pres_d          0.000126         0.000040            3.142           0.002\n",
       "L17.iot_hum_d          -0.000393         0.000503           -0.780           0.435\n",
       "L17.src2_temp_d        -0.068582         0.012087           -5.674           0.000\n",
       "L17.src2_pres_d         0.196923         0.022785            8.643           0.000\n",
       "L17.src2_hum_d         -0.002982         0.001773           -1.682           0.093\n",
       "L18.iot_temp_d          0.002634         0.003463            0.760           0.447\n",
       "L18.iot_pres_d          0.000126         0.000039            3.191           0.001\n",
       "L18.iot_hum_d           0.000166         0.000502            0.331           0.741\n",
       "L18.src2_temp_d         0.024293         0.011937            2.035           0.042\n",
       "L18.src2_pres_d        -0.701767         0.022444          -31.268           0.000\n",
       "L18.src2_hum_d          0.002936         0.001761            1.667           0.095\n",
       "L19.iot_temp_d          0.004503         0.003154            1.428           0.153\n",
       "L19.iot_pres_d          0.000065         0.000037            1.757           0.079\n",
       "L19.iot_hum_d          -0.000237         0.000458           -0.517           0.605\n",
       "L19.src2_temp_d        -0.053408         0.011110           -4.807           0.000\n",
       "L19.src2_pres_d         0.162865         0.020559            7.922           0.000\n",
       "L19.src2_hum_d         -0.004176         0.001605           -2.601           0.009\n",
       "L20.iot_temp_d          0.004038         0.003130            1.290           0.197\n",
       "L20.iot_pres_d          0.000054         0.000036            1.492           0.136\n",
       "L20.iot_hum_d           0.000025         0.000457            0.055           0.956\n",
       "L20.src2_temp_d         0.012791         0.010882            1.175           0.240\n",
       "L20.src2_pres_d        -0.624328         0.020061          -31.122           0.000\n",
       "L20.src2_hum_d          0.002242         0.001595            1.405           0.160\n",
       "L21.iot_temp_d          0.003086         0.002666            1.158           0.247\n",
       "L21.iot_pres_d          0.000024         0.000032            0.756           0.450\n",
       "L21.iot_hum_d          -0.000271         0.000393           -0.690           0.490\n",
       "L21.src2_temp_d        -0.051088         0.009449           -5.407           0.000\n",
       "L21.src2_pres_d         0.128428         0.017414            7.375           0.000\n",
       "L21.src2_hum_d         -0.003680         0.001381           -2.664           0.008\n",
       "L22.iot_temp_d          0.002379         0.002666            0.892           0.372\n",
       "L22.iot_pres_d          0.000086         0.000031            2.759           0.006\n",
       "L22.iot_hum_d          -0.000185         0.000396           -0.468           0.640\n",
       "L22.src2_temp_d         0.018602         0.008991            2.069           0.039\n",
       "L22.src2_pres_d        -0.528651         0.016579          -31.886           0.000\n",
       "L22.src2_hum_d          0.002299         0.001360            1.691           0.091\n",
       "L23.iot_temp_d          0.003929         0.001991            1.974           0.048\n",
       "L23.iot_pres_d          0.000038         0.000024            1.569           0.117\n",
       "L23.iot_hum_d           0.000328         0.000301            1.090           0.275\n",
       "L23.src2_temp_d        -0.038033         0.006775           -5.614           0.000\n",
       "L23.src2_pres_d         0.144753         0.012251           11.816           0.000\n",
       "L23.src2_hum_d         -0.002724         0.001041           -2.618           0.009\n",
       "L24.iot_temp_d          0.001530         0.001988            0.770           0.441\n",
       "L24.iot_pres_d          0.000065         0.000023            2.789           0.005\n",
       "L24.iot_hum_d           0.000070         0.000301            0.234           0.815\n",
       "L24.src2_temp_d         0.007138         0.006120            1.166           0.243\n",
       "L24.src2_pres_d        -0.082873         0.010994           -7.538           0.000\n",
       "L24.src2_hum_d         -0.000726         0.001019           -0.712           0.476\n",
       "==================================================================================\n",
       "\n",
       "Results for equation src2_hum_d\n",
       "==================================================================================\n",
       "                     coefficient       std. error           t-stat            prob\n",
       "----------------------------------------------------------------------------------\n",
       "const                  -0.000341         0.011370           -0.030           0.976\n",
       "L1.iot_temp_d          -0.047698         0.023727           -2.010           0.044\n",
       "L1.iot_pres_d          -0.000445         0.000280           -1.588           0.112\n",
       "L1.iot_hum_d           -0.001789         0.003620           -0.494           0.621\n",
       "L1.src2_temp_d         -1.265507         0.074396          -17.010           0.000\n",
       "L1.src2_pres_d         -0.491894         0.133817           -3.676           0.000\n",
       "L1.src2_hum_d           0.234308         0.012245           19.135           0.000\n",
       "L2.iot_temp_d          -0.053972         0.023917           -2.257           0.024\n",
       "L2.iot_pres_d          -0.000081         0.000287           -0.283           0.777\n",
       "L2.iot_hum_d            0.003137         0.003616            0.868           0.386\n",
       "L2.src2_temp_d          0.764786         0.081511            9.383           0.000\n",
       "L2.src2_pres_d         -0.083818         0.148300           -0.565           0.572\n",
       "L2.src2_hum_d          -0.950454         0.012515          -75.945           0.000\n",
       "L3.iot_temp_d          -0.033637         0.031728           -1.060           0.289\n",
       "L3.iot_pres_d           0.000390         0.000373            1.046           0.296\n",
       "L3.iot_hum_d            0.000697         0.004737            0.147           0.883\n",
       "L3.src2_temp_d         -1.350206         0.108644          -12.428           0.000\n",
       "L3.src2_pres_d         -0.591037         0.201354           -2.935           0.003\n",
       "L3.src2_hum_d           0.261152         0.016357           15.966           0.000\n",
       "L4.iot_temp_d          -0.016725         0.031836           -0.525           0.599\n",
       "L4.iot_pres_d           0.000396         0.000381            1.039           0.299\n",
       "L4.iot_hum_d            0.004938         0.004694            1.052           0.293\n",
       "L4.src2_temp_d          0.659632         0.113607            5.806           0.000\n",
       "L4.src2_pres_d         -0.036226         0.210975           -0.172           0.864\n",
       "L4.src2_hum_d          -0.920368         0.016595          -55.460           0.000\n",
       "L5.iot_temp_d          -0.010460         0.037208           -0.281           0.779\n",
       "L5.iot_pres_d          -0.000152         0.000436           -0.349           0.727\n",
       "L5.iot_hum_d           -0.000717         0.005458           -0.131           0.896\n",
       "L5.src2_temp_d         -1.241874         0.131430           -9.449           0.000\n",
       "L5.src2_pres_d         -0.812185         0.242719           -3.346           0.001\n",
       "L5.src2_hum_d           0.239507         0.019209           12.469           0.000\n",
       "L6.iot_temp_d          -0.057128         0.037498           -1.523           0.128\n",
       "L6.iot_pres_d           0.000287         0.000448            0.642           0.521\n",
       "L6.iot_hum_d            0.002516         0.005461            0.461           0.645\n",
       "L6.src2_temp_d          0.637149         0.133477            4.773           0.000\n",
       "L6.src2_pres_d          0.110847         0.248391            0.446           0.655\n",
       "L6.src2_hum_d          -0.893331         0.019330          -46.216           0.000\n",
       "L7.iot_temp_d          -0.007989         0.041077           -0.194           0.846\n",
       "L7.iot_pres_d           0.000329         0.000475            0.694           0.488\n",
       "L7.iot_hum_d            0.001068         0.005993            0.178           0.859\n",
       "L7.src2_temp_d         -1.232945         0.144361           -8.541           0.000\n",
       "L7.src2_pres_d         -0.594798         0.270791           -2.197           0.028\n",
       "L7.src2_hum_d           0.217488         0.021209           10.255           0.000\n",
       "L8.iot_temp_d          -0.036987         0.041405           -0.893           0.372\n",
       "L8.iot_pres_d           0.000163         0.000484            0.336           0.737\n",
       "L8.iot_hum_d            0.004406         0.006000            0.734           0.463\n",
       "L8.src2_temp_d          0.551241         0.145938            3.777           0.000\n",
       "L8.src2_pres_d         -0.068362         0.274500           -0.249           0.803\n",
       "L8.src2_hum_d          -0.880673         0.021296          -41.355           0.000\n",
       "L9.iot_temp_d           0.003495         0.043322            0.081           0.936\n",
       "L9.iot_pres_d          -0.000090         0.000503           -0.179           0.858\n",
       "L9.iot_hum_d            0.007479         0.006307            1.186           0.236\n",
       "L9.src2_temp_d         -1.412345         0.152950           -9.234           0.000\n",
       "L9.src2_pres_d         -0.624564         0.288785           -2.163           0.031\n",
       "L9.src2_hum_d           0.086736         0.022669            3.826           0.000\n",
       "L10.iot_temp_d         -0.042206         0.043701           -0.966           0.334\n",
       "L10.iot_pres_d         -0.000566         0.000514           -1.101           0.271\n",
       "L10.iot_hum_d           0.006174         0.006308            0.979           0.328\n",
       "L10.src2_temp_d         0.807544         0.154010            5.243           0.000\n",
       "L10.src2_pres_d        -0.123849         0.290422           -0.426           0.670\n",
       "L10.src2_hum_d         -0.754336         0.022649          -33.306           0.000\n",
       "L11.iot_temp_d          0.035527         0.044737            0.794           0.427\n",
       "L11.iot_pres_d          0.000120         0.000522            0.231           0.818\n",
       "L11.iot_hum_d           0.010995         0.006451            1.704           0.088\n",
       "L11.src2_temp_d        -1.484260         0.157215           -9.441           0.000\n",
       "L11.src2_pres_d        -0.583400         0.300827           -1.939           0.052\n",
       "L11.src2_hum_d          0.012908         0.023217            0.556           0.578\n",
       "L12.iot_temp_d         -0.047009         0.044942           -1.046           0.296\n",
       "L12.iot_pres_d         -0.000402         0.000522           -0.769           0.442\n",
       "L12.iot_hum_d           0.004942         0.006455            0.766           0.444\n",
       "L12.src2_temp_d         0.770100         0.157399            4.893           0.000\n",
       "L12.src2_pres_d        -0.149471         0.302096           -0.495           0.621\n",
       "L12.src2_hum_d         -0.658852         0.023204          -28.394           0.000\n",
       "L13.iot_temp_d          0.019052         0.044931            0.424           0.672\n",
       "L13.iot_pres_d         -0.000304         0.000521           -0.583           0.560\n",
       "L13.iot_hum_d           0.009732         0.006464            1.506           0.132\n",
       "L13.src2_temp_d        -1.137520         0.157522           -7.221           0.000\n",
       "L13.src2_pres_d        -0.532880         0.301987           -1.765           0.078\n",
       "L13.src2_hum_d          0.028636         0.023226            1.233           0.218\n",
       "L14.iot_temp_d         -0.024554         0.044860           -0.547           0.584\n",
       "L14.iot_pres_d         -0.000360         0.000521           -0.690           0.490\n",
       "L14.iot_hum_d           0.011293         0.006473            1.745           0.081\n",
       "L14.src2_temp_d         0.610644         0.157183            3.885           0.000\n",
       "L14.src2_pres_d        -0.039649         0.300280           -0.132           0.895\n",
       "L14.src2_hum_d         -0.639523         0.023180          -27.589           0.000\n",
       "L15.iot_temp_d          0.068098         0.043894            1.551           0.121\n",
       "L15.iot_pres_d         -0.000245         0.000511           -0.479           0.632\n",
       "L15.iot_hum_d           0.013009         0.006348            2.049           0.040\n",
       "L15.src2_temp_d        -1.153690         0.153845           -7.499           0.000\n",
       "L15.src2_pres_d        -0.648122         0.290429           -2.232           0.026\n",
       "L15.src2_hum_d         -0.033780         0.022657           -1.491           0.136\n",
       "L16.iot_temp_d          0.036988         0.043736            0.846           0.398\n",
       "L16.iot_pres_d         -0.000052         0.000502           -0.104           0.917\n",
       "L16.iot_hum_d           0.007810         0.006350            1.230           0.219\n",
       "L16.src2_temp_d         0.400791         0.152247            2.632           0.008\n",
       "L16.src2_pres_d        -0.138220         0.288358           -0.479           0.632\n",
       "L16.src2_hum_d         -0.595247         0.022637          -26.295           0.000\n",
       "L17.iot_temp_d          0.085423         0.041855            2.041           0.041\n",
       "L17.iot_pres_d         -0.000343         0.000482           -0.711           0.477\n",
       "L17.iot_hum_d           0.002226         0.006052            0.368           0.713\n",
       "L17.src2_temp_d        -1.034581         0.145358           -7.117           0.000\n",
       "L17.src2_pres_d        -0.499892         0.274002           -1.824           0.068\n",
       "L17.src2_hum_d         -0.049978         0.021317           -2.344           0.019\n",
       "L18.iot_temp_d          0.025101         0.041650            0.603           0.547\n",
       "L18.iot_pres_d         -0.001185         0.000473           -2.503           0.012\n",
       "L18.iot_hum_d           0.001921         0.006039            0.318           0.750\n",
       "L18.src2_temp_d         0.409611         0.143547            2.854           0.004\n",
       "L18.src2_pres_d        -0.590949         0.269904           -2.189           0.029\n",
       "L18.src2_hum_d         -0.531389         0.021176          -25.094           0.000\n",
       "L19.iot_temp_d          0.085538         0.037929            2.255           0.024\n",
       "L19.iot_pres_d         -0.000447         0.000446           -1.002           0.316\n",
       "L19.iot_hum_d          -0.000902         0.005505           -0.164           0.870\n",
       "L19.src2_temp_d        -1.056561         0.133600           -7.908           0.000\n",
       "L19.src2_pres_d        -0.200208         0.247238           -0.810           0.418\n",
       "L19.src2_hum_d         -0.056781         0.019304           -2.941           0.003\n",
       "L20.iot_temp_d         -0.009792         0.037645           -0.260           0.795\n",
       "L20.iot_pres_d         -0.000780         0.000436           -1.788           0.074\n",
       "L20.iot_hum_d          -0.002172         0.005496           -0.395           0.693\n",
       "L20.src2_temp_d         0.504115         0.130859            3.852           0.000\n",
       "L20.src2_pres_d        -0.259898         0.241243           -1.077           0.281\n",
       "L20.src2_hum_d         -0.460477         0.019184          -24.004           0.000\n",
       "L21.iot_temp_d          0.026321         0.032057            0.821           0.412\n",
       "L21.iot_pres_d         -0.001163         0.000382           -3.045           0.002\n",
       "L21.iot_hum_d          -0.002339         0.004729           -0.495           0.621\n",
       "L21.src2_temp_d        -0.879580         0.113627           -7.741           0.000\n",
       "L21.src2_pres_d        -0.115239         0.209415           -0.550           0.582\n",
       "L21.src2_hum_d         -0.021266         0.016610           -1.280           0.200\n",
       "L22.iot_temp_d         -0.028600         0.032059           -0.892           0.372\n",
       "L22.iot_pres_d         -0.001282         0.000374           -3.426           0.001\n",
       "L22.iot_hum_d           0.000935         0.004765            0.196           0.844\n",
       "L22.src2_temp_d         0.546434         0.108127            5.054           0.000\n",
       "L22.src2_pres_d        -0.220595         0.199378           -1.106           0.269\n",
       "L22.src2_hum_d         -0.383579         0.016356          -23.452           0.000\n",
       "L23.iot_temp_d          0.013275         0.023938            0.555           0.579\n",
       "L23.iot_pres_d         -0.000584         0.000289           -2.022           0.043\n",
       "L23.iot_hum_d           0.001228         0.003618            0.339           0.734\n",
       "L23.src2_temp_d        -0.940563         0.081478          -11.544           0.000\n",
       "L23.src2_pres_d        -0.209161         0.147321           -1.420           0.156\n",
       "L23.src2_hum_d         -0.002550         0.012515           -0.204           0.839\n",
       "L24.iot_temp_d         -0.039204         0.023903           -1.640           0.101\n",
       "L24.iot_pres_d         -0.000415         0.000282           -1.470           0.141\n",
       "L24.iot_hum_d           0.002930         0.003619            0.810           0.418\n",
       "L24.src2_temp_d         0.466985         0.073592            6.346           0.000\n",
       "L24.src2_pres_d        -0.251344         0.132212           -1.901           0.057\n",
       "L24.src2_hum_d         -0.031710         0.012260           -2.586           0.010\n",
       "==================================================================================\n",
       "\n",
       "Correlation matrix of residuals\n",
       "               iot_temp_d  iot_pres_d  iot_hum_d  src2_temp_d  src2_pres_d  src2_hum_d\n",
       "iot_temp_d       1.000000   -0.093344  -0.578038     0.109824    -0.017795   -0.026423\n",
       "iot_pres_d      -0.093344    1.000000   0.008353     0.001096     0.077459    0.049846\n",
       "iot_hum_d       -0.578038    0.008353   1.000000    -0.064268     0.000333    0.024470\n",
       "src2_temp_d      0.109824    0.001096  -0.064268     1.000000    -0.216549   -0.458530\n",
       "src2_pres_d     -0.017795    0.077459   0.000333    -0.216549     1.000000    0.132285\n",
       "src2_hum_d      -0.026423    0.049846   0.024470    -0.458530     0.132285    1.000000\n",
       "\n"
      ]
     },
     "execution_count": 600,
     "metadata": {},
     "output_type": "execute_result"
    }
   ],
   "source": [
    "model_fitted = model.fit(24)\n",
    "model_fitted.summary()"
   ]
  },
  {
   "cell_type": "markdown",
   "metadata": {},
   "source": [
    " "
   ]
  },
  {
   "cell_type": "markdown",
   "metadata": {},
   "source": [
    "### CHECKING FOR CORRELATION IN RESIDUALS - NOTHING SIGNIFICANT (DURBIN WATSON STATISTIC CENTRED AROUND 2) - GOOD MODEL"
   ]
  },
  {
   "cell_type": "markdown",
   "metadata": {},
   "source": [
    "### This indicates that the model has captured the time series efficiently and the errors are white noise for most part"
   ]
  },
  {
   "cell_type": "code",
   "execution_count": 601,
   "metadata": {},
   "outputs": [
    {
     "name": "stdout",
     "output_type": "stream",
     "text": [
      "iot_temp_d : 2.0\n",
      "iot_pres_d : 2.0\n",
      "iot_hum_d : 2.01\n",
      "src2_temp_d : 2.01\n",
      "src2_pres_d : 2.0\n",
      "src2_hum_d : 2.0\n"
     ]
    }
   ],
   "source": [
    "out = durbin_watson(model_fitted.resid)\n",
    "\n",
    "for col, val in zip(df_train_2.columns, out):\n",
    "    print((col), ':', round(val, 2))"
   ]
  },
  {
   "cell_type": "markdown",
   "metadata": {},
   "source": [
    " "
   ]
  },
  {
   "cell_type": "markdown",
   "metadata": {},
   "source": [
    " "
   ]
  },
  {
   "cell_type": "code",
   "execution_count": 602,
   "metadata": {},
   "outputs": [],
   "source": [
    "forecast_input = df_train_2.values[-24:]"
   ]
  },
  {
   "cell_type": "code",
   "execution_count": null,
   "metadata": {},
   "outputs": [],
   "source": []
  },
  {
   "cell_type": "code",
   "execution_count": 603,
   "metadata": {},
   "outputs": [],
   "source": [
    "fc = model_fitted.forecast(y=forecast_input, steps=120)\n",
    "df_forecast = pd.DataFrame(fc, index = df_diff.index[-120:], columns=df_train_2.columns)"
   ]
  },
  {
   "cell_type": "markdown",
   "metadata": {},
   "source": [
    " "
   ]
  },
  {
   "cell_type": "markdown",
   "metadata": {},
   "source": [
    "Putting together the first record of the series (missing due to differencing), the records until test set, and the predictions, to <B> obtain a preliminary df which can be cumulatively added up to undo the differencing "
   ]
  },
  {
   "cell_type": "code",
   "execution_count": 604,
   "metadata": {},
   "outputs": [],
   "source": [
    "revert = req_dff.reset_index(drop = False).iloc[0:2]"
   ]
  },
  {
   "cell_type": "code",
   "execution_count": 605,
   "metadata": {},
   "outputs": [],
   "source": [
    "revert = revert[['datetime','iot_temp','iot_pres','iot_hum','src2_temp','src2_pres','src2_hum']]"
   ]
  },
  {
   "cell_type": "code",
   "execution_count": 606,
   "metadata": {},
   "outputs": [
    {
     "data": {
      "text/html": [
       "<div>\n",
       "<style scoped>\n",
       "    .dataframe tbody tr th:only-of-type {\n",
       "        vertical-align: middle;\n",
       "    }\n",
       "\n",
       "    .dataframe tbody tr th {\n",
       "        vertical-align: top;\n",
       "    }\n",
       "\n",
       "    .dataframe thead th {\n",
       "        text-align: right;\n",
       "    }\n",
       "</style>\n",
       "<table border=\"1\" class=\"dataframe\">\n",
       "  <thead>\n",
       "    <tr style=\"text-align: right;\">\n",
       "      <th></th>\n",
       "      <th>datetime</th>\n",
       "      <th>iot_temp_d</th>\n",
       "      <th>iot_pres_d</th>\n",
       "      <th>iot_hum_d</th>\n",
       "      <th>src2_temp_d</th>\n",
       "      <th>src2_pres_d</th>\n",
       "      <th>src2_hum_d</th>\n",
       "    </tr>\n",
       "  </thead>\n",
       "  <tbody>\n",
       "    <tr>\n",
       "      <th>0</th>\n",
       "      <td>2019-01-01 00:00:00</td>\n",
       "      <td>5.920</td>\n",
       "      <td>98650.550</td>\n",
       "      <td>100.0</td>\n",
       "      <td>10.067472</td>\n",
       "      <td>1020.71</td>\n",
       "      <td>59.0</td>\n",
       "    </tr>\n",
       "    <tr>\n",
       "      <th>1</th>\n",
       "      <td>2019-01-01 01:00:00</td>\n",
       "      <td>5.735</td>\n",
       "      <td>98693.365</td>\n",
       "      <td>100.0</td>\n",
       "      <td>10.720302</td>\n",
       "      <td>1020.95</td>\n",
       "      <td>58.0</td>\n",
       "    </tr>\n",
       "  </tbody>\n",
       "</table>\n",
       "</div>"
      ],
      "text/plain": [
       "             datetime  iot_temp_d  iot_pres_d  iot_hum_d  src2_temp_d  \\\n",
       "0 2019-01-01 00:00:00       5.920   98650.550      100.0    10.067472   \n",
       "1 2019-01-01 01:00:00       5.735   98693.365      100.0    10.720302   \n",
       "\n",
       "   src2_pres_d  src2_hum_d  \n",
       "0      1020.71        59.0  \n",
       "1      1020.95        58.0  "
      ]
     },
     "execution_count": 606,
     "metadata": {},
     "output_type": "execute_result"
    }
   ],
   "source": [
    "revert.columns = ['datetime','iot_temp_d','iot_pres_d','iot_hum_d','src2_temp_d','src2_pres_d','src2_hum_d']\n",
    "revert"
   ]
  },
  {
   "cell_type": "code",
   "execution_count": null,
   "metadata": {},
   "outputs": [],
   "source": [
    "revert = pd.DataFrame({'iot_temp_d':revert[1],'iot_pres_d':revert[2],'iot_hum_d':revert[3],'src2_temp_d':revert[-3],'src2_pres_d':revert[-2],'src2_hum_d':revert[-1]},index = [0])"
   ]
  },
  {
   "cell_type": "code",
   "execution_count": 607,
   "metadata": {},
   "outputs": [],
   "source": [
    "revert_i = revert.set_index('datetime').diff().dropna()\n",
    "missing_part = df_train_2[df_train_2.columns][:df_test_2.index[0]]"
   ]
  },
  {
   "cell_type": "code",
   "execution_count": 608,
   "metadata": {},
   "outputs": [],
   "source": [
    "rebuilt = revert_i.append(missing_part).append(df_forecast)\n",
    "rebuilt = rebuilt.cumsum()"
   ]
  },
  {
   "cell_type": "code",
   "execution_count": 609,
   "metadata": {},
   "outputs": [
    {
     "data": {
      "text/html": [
       "<div>\n",
       "<style scoped>\n",
       "    .dataframe tbody tr th:only-of-type {\n",
       "        vertical-align: middle;\n",
       "    }\n",
       "\n",
       "    .dataframe tbody tr th {\n",
       "        vertical-align: top;\n",
       "    }\n",
       "\n",
       "    .dataframe thead th {\n",
       "        text-align: right;\n",
       "    }\n",
       "</style>\n",
       "<table border=\"1\" class=\"dataframe\">\n",
       "  <thead>\n",
       "    <tr style=\"text-align: right;\">\n",
       "      <th></th>\n",
       "      <th>iot_temp_d</th>\n",
       "      <th>iot_pres_d</th>\n",
       "      <th>iot_hum_d</th>\n",
       "      <th>src2_temp_d</th>\n",
       "      <th>src2_pres_d</th>\n",
       "      <th>src2_hum_d</th>\n",
       "    </tr>\n",
       "    <tr>\n",
       "      <th>datetime</th>\n",
       "      <th></th>\n",
       "      <th></th>\n",
       "      <th></th>\n",
       "      <th></th>\n",
       "      <th></th>\n",
       "      <th></th>\n",
       "    </tr>\n",
       "  </thead>\n",
       "  <tbody>\n",
       "    <tr>\n",
       "      <th>2019-01-01 01:00:00</th>\n",
       "      <td>-0.185000</td>\n",
       "      <td>42.815000</td>\n",
       "      <td>0.000000</td>\n",
       "      <td>0.652830</td>\n",
       "      <td>0.240000</td>\n",
       "      <td>-1.000000</td>\n",
       "    </tr>\n",
       "    <tr>\n",
       "      <th>2019-01-01 02:00:00</th>\n",
       "      <td>3.505000</td>\n",
       "      <td>86.115000</td>\n",
       "      <td>0.000000</td>\n",
       "      <td>1.414002</td>\n",
       "      <td>0.475000</td>\n",
       "      <td>-2.000000</td>\n",
       "    </tr>\n",
       "    <tr>\n",
       "      <th>2019-01-01 03:00:00</th>\n",
       "      <td>6.740000</td>\n",
       "      <td>71.630000</td>\n",
       "      <td>-5.070000</td>\n",
       "      <td>1.836258</td>\n",
       "      <td>0.250000</td>\n",
       "      <td>-3.500000</td>\n",
       "    </tr>\n",
       "    <tr>\n",
       "      <th>2019-01-01 04:00:00</th>\n",
       "      <td>5.535000</td>\n",
       "      <td>23.165000</td>\n",
       "      <td>-31.770000</td>\n",
       "      <td>2.577984</td>\n",
       "      <td>-0.185000</td>\n",
       "      <td>-6.000000</td>\n",
       "    </tr>\n",
       "    <tr>\n",
       "      <th>2019-01-01 05:00:00</th>\n",
       "      <td>2.920000</td>\n",
       "      <td>-39.850000</td>\n",
       "      <td>-31.610000</td>\n",
       "      <td>3.030798</td>\n",
       "      <td>-0.460000</td>\n",
       "      <td>-6.500000</td>\n",
       "    </tr>\n",
       "    <tr>\n",
       "      <th>...</th>\n",
       "      <td>...</td>\n",
       "      <td>...</td>\n",
       "      <td>...</td>\n",
       "      <td>...</td>\n",
       "      <td>...</td>\n",
       "      <td>...</td>\n",
       "    </tr>\n",
       "    <tr>\n",
       "      <th>2019-12-31 19:00:00</th>\n",
       "      <td>-0.034638</td>\n",
       "      <td>-37.167478</td>\n",
       "      <td>-1.169240</td>\n",
       "      <td>-0.365032</td>\n",
       "      <td>-0.378287</td>\n",
       "      <td>-0.143042</td>\n",
       "    </tr>\n",
       "    <tr>\n",
       "      <th>2019-12-31 20:00:00</th>\n",
       "      <td>-0.515827</td>\n",
       "      <td>-37.100123</td>\n",
       "      <td>0.275033</td>\n",
       "      <td>-0.483487</td>\n",
       "      <td>-0.451323</td>\n",
       "      <td>0.157533</td>\n",
       "    </tr>\n",
       "    <tr>\n",
       "      <th>2019-12-31 21:00:00</th>\n",
       "      <td>-0.932090</td>\n",
       "      <td>-20.248015</td>\n",
       "      <td>1.841227</td>\n",
       "      <td>-0.638490</td>\n",
       "      <td>-0.345262</td>\n",
       "      <td>0.625450</td>\n",
       "    </tr>\n",
       "    <tr>\n",
       "      <th>2019-12-31 22:00:00</th>\n",
       "      <td>-1.031987</td>\n",
       "      <td>8.128129</td>\n",
       "      <td>2.935932</td>\n",
       "      <td>-0.759253</td>\n",
       "      <td>-0.095458</td>\n",
       "      <td>0.945728</td>\n",
       "    </tr>\n",
       "    <tr>\n",
       "      <th>2019-12-31 23:00:00</th>\n",
       "      <td>-0.883586</td>\n",
       "      <td>40.427323</td>\n",
       "      <td>3.116433</td>\n",
       "      <td>-0.688903</td>\n",
       "      <td>0.158857</td>\n",
       "      <td>0.846459</td>\n",
       "    </tr>\n",
       "  </tbody>\n",
       "</table>\n",
       "<p>8759 rows × 6 columns</p>\n",
       "</div>"
      ],
      "text/plain": [
       "                     iot_temp_d  iot_pres_d  iot_hum_d  src2_temp_d  \\\n",
       "datetime                                                              \n",
       "2019-01-01 01:00:00   -0.185000   42.815000   0.000000     0.652830   \n",
       "2019-01-01 02:00:00    3.505000   86.115000   0.000000     1.414002   \n",
       "2019-01-01 03:00:00    6.740000   71.630000  -5.070000     1.836258   \n",
       "2019-01-01 04:00:00    5.535000   23.165000 -31.770000     2.577984   \n",
       "2019-01-01 05:00:00    2.920000  -39.850000 -31.610000     3.030798   \n",
       "...                         ...         ...        ...          ...   \n",
       "2019-12-31 19:00:00   -0.034638  -37.167478  -1.169240    -0.365032   \n",
       "2019-12-31 20:00:00   -0.515827  -37.100123   0.275033    -0.483487   \n",
       "2019-12-31 21:00:00   -0.932090  -20.248015   1.841227    -0.638490   \n",
       "2019-12-31 22:00:00   -1.031987    8.128129   2.935932    -0.759253   \n",
       "2019-12-31 23:00:00   -0.883586   40.427323   3.116433    -0.688903   \n",
       "\n",
       "                     src2_pres_d  src2_hum_d  \n",
       "datetime                                      \n",
       "2019-01-01 01:00:00     0.240000   -1.000000  \n",
       "2019-01-01 02:00:00     0.475000   -2.000000  \n",
       "2019-01-01 03:00:00     0.250000   -3.500000  \n",
       "2019-01-01 04:00:00    -0.185000   -6.000000  \n",
       "2019-01-01 05:00:00    -0.460000   -6.500000  \n",
       "...                          ...         ...  \n",
       "2019-12-31 19:00:00    -0.378287   -0.143042  \n",
       "2019-12-31 20:00:00    -0.451323    0.157533  \n",
       "2019-12-31 21:00:00    -0.345262    0.625450  \n",
       "2019-12-31 22:00:00    -0.095458    0.945728  \n",
       "2019-12-31 23:00:00     0.158857    0.846459  \n",
       "\n",
       "[8759 rows x 6 columns]"
      ]
     },
     "execution_count": 609,
     "metadata": {},
     "output_type": "execute_result"
    }
   ],
   "source": [
    "rebuilt"
   ]
  },
  {
   "cell_type": "code",
   "execution_count": 610,
   "metadata": {},
   "outputs": [],
   "source": [
    "revert_ii = revert[0:1].set_index('datetime')"
   ]
  },
  {
   "cell_type": "code",
   "execution_count": 611,
   "metadata": {},
   "outputs": [],
   "source": [
    "rebuilt_ii = revert_ii.append(rebuilt)\n",
    "rebuilt_ii = rebuilt_ii.cumsum()"
   ]
  },
  {
   "cell_type": "markdown",
   "metadata": {},
   "source": [
    "<B><U> Predictions for Test"
   ]
  },
  {
   "cell_type": "code",
   "execution_count": 612,
   "metadata": {},
   "outputs": [],
   "source": [
    "predicted = rebuilt_ii.loc[df_test_2.index[0]:]"
   ]
  },
  {
   "cell_type": "code",
   "execution_count": 613,
   "metadata": {},
   "outputs": [
    {
     "data": {
      "text/html": [
       "<div>\n",
       "<style scoped>\n",
       "    .dataframe tbody tr th:only-of-type {\n",
       "        vertical-align: middle;\n",
       "    }\n",
       "\n",
       "    .dataframe tbody tr th {\n",
       "        vertical-align: top;\n",
       "    }\n",
       "\n",
       "    .dataframe thead th {\n",
       "        text-align: right;\n",
       "    }\n",
       "</style>\n",
       "<table border=\"1\" class=\"dataframe\">\n",
       "  <thead>\n",
       "    <tr style=\"text-align: right;\">\n",
       "      <th></th>\n",
       "      <th>iot_temp_d</th>\n",
       "      <th>iot_pres_d</th>\n",
       "      <th>iot_hum_d</th>\n",
       "      <th>src2_temp_d</th>\n",
       "      <th>src2_pres_d</th>\n",
       "      <th>src2_hum_d</th>\n",
       "    </tr>\n",
       "    <tr>\n",
       "      <th>datetime</th>\n",
       "      <th></th>\n",
       "      <th></th>\n",
       "      <th></th>\n",
       "      <th></th>\n",
       "      <th></th>\n",
       "      <th></th>\n",
       "    </tr>\n",
       "  </thead>\n",
       "  <tbody>\n",
       "    <tr>\n",
       "      <th>2019-12-27 00:00:00</th>\n",
       "      <td>15.453006</td>\n",
       "      <td>98359.289167</td>\n",
       "      <td>99.921572</td>\n",
       "      <td>15.396270</td>\n",
       "      <td>1014.251295</td>\n",
       "      <td>88.848612</td>\n",
       "    </tr>\n",
       "    <tr>\n",
       "      <th>2019-12-27 01:00:00</th>\n",
       "      <td>15.532022</td>\n",
       "      <td>98554.804991</td>\n",
       "      <td>99.099947</td>\n",
       "      <td>15.692331</td>\n",
       "      <td>1014.741961</td>\n",
       "      <td>88.926674</td>\n",
       "    </tr>\n",
       "    <tr>\n",
       "      <th>2019-12-27 02:00:00</th>\n",
       "      <td>16.433923</td>\n",
       "      <td>98716.337510</td>\n",
       "      <td>98.257961</td>\n",
       "      <td>15.870014</td>\n",
       "      <td>1015.497472</td>\n",
       "      <td>89.218264</td>\n",
       "    </tr>\n",
       "    <tr>\n",
       "      <th>2019-12-27 03:00:00</th>\n",
       "      <td>17.655608</td>\n",
       "      <td>98776.799175</td>\n",
       "      <td>96.798405</td>\n",
       "      <td>16.235127</td>\n",
       "      <td>1016.132999</td>\n",
       "      <td>87.789679</td>\n",
       "    </tr>\n",
       "    <tr>\n",
       "      <th>2019-12-27 04:00:00</th>\n",
       "      <td>18.592605</td>\n",
       "      <td>98794.154554</td>\n",
       "      <td>95.374173</td>\n",
       "      <td>16.967726</td>\n",
       "      <td>1016.339882</td>\n",
       "      <td>85.491328</td>\n",
       "    </tr>\n",
       "    <tr>\n",
       "      <th>...</th>\n",
       "      <td>...</td>\n",
       "      <td>...</td>\n",
       "      <td>...</td>\n",
       "      <td>...</td>\n",
       "      <td>...</td>\n",
       "      <td>...</td>\n",
       "    </tr>\n",
       "    <tr>\n",
       "      <th>2019-12-31 19:00:00</th>\n",
       "      <td>3.796771</td>\n",
       "      <td>100498.147515</td>\n",
       "      <td>62.664552</td>\n",
       "      <td>-8.034977</td>\n",
       "      <td>1017.797084</td>\n",
       "      <td>88.847012</td>\n",
       "    </tr>\n",
       "    <tr>\n",
       "      <th>2019-12-31 20:00:00</th>\n",
       "      <td>3.280944</td>\n",
       "      <td>100461.047392</td>\n",
       "      <td>62.939586</td>\n",
       "      <td>-8.518464</td>\n",
       "      <td>1017.345761</td>\n",
       "      <td>89.004545</td>\n",
       "    </tr>\n",
       "    <tr>\n",
       "      <th>2019-12-31 21:00:00</th>\n",
       "      <td>2.348854</td>\n",
       "      <td>100440.799377</td>\n",
       "      <td>64.780812</td>\n",
       "      <td>-9.156953</td>\n",
       "      <td>1017.000499</td>\n",
       "      <td>89.629996</td>\n",
       "    </tr>\n",
       "    <tr>\n",
       "      <th>2019-12-31 22:00:00</th>\n",
       "      <td>1.316866</td>\n",
       "      <td>100448.927506</td>\n",
       "      <td>67.716745</td>\n",
       "      <td>-9.916206</td>\n",
       "      <td>1016.905041</td>\n",
       "      <td>90.575723</td>\n",
       "    </tr>\n",
       "    <tr>\n",
       "      <th>2019-12-31 23:00:00</th>\n",
       "      <td>0.433281</td>\n",
       "      <td>100489.354829</td>\n",
       "      <td>70.833178</td>\n",
       "      <td>-10.605109</td>\n",
       "      <td>1017.063898</td>\n",
       "      <td>91.422182</td>\n",
       "    </tr>\n",
       "  </tbody>\n",
       "</table>\n",
       "<p>120 rows × 6 columns</p>\n",
       "</div>"
      ],
      "text/plain": [
       "                     iot_temp_d     iot_pres_d  iot_hum_d  src2_temp_d  \\\n",
       "datetime                                                                 \n",
       "2019-12-27 00:00:00   15.453006   98359.289167  99.921572    15.396270   \n",
       "2019-12-27 01:00:00   15.532022   98554.804991  99.099947    15.692331   \n",
       "2019-12-27 02:00:00   16.433923   98716.337510  98.257961    15.870014   \n",
       "2019-12-27 03:00:00   17.655608   98776.799175  96.798405    16.235127   \n",
       "2019-12-27 04:00:00   18.592605   98794.154554  95.374173    16.967726   \n",
       "...                         ...            ...        ...          ...   \n",
       "2019-12-31 19:00:00    3.796771  100498.147515  62.664552    -8.034977   \n",
       "2019-12-31 20:00:00    3.280944  100461.047392  62.939586    -8.518464   \n",
       "2019-12-31 21:00:00    2.348854  100440.799377  64.780812    -9.156953   \n",
       "2019-12-31 22:00:00    1.316866  100448.927506  67.716745    -9.916206   \n",
       "2019-12-31 23:00:00    0.433281  100489.354829  70.833178   -10.605109   \n",
       "\n",
       "                     src2_pres_d  src2_hum_d  \n",
       "datetime                                      \n",
       "2019-12-27 00:00:00  1014.251295   88.848612  \n",
       "2019-12-27 01:00:00  1014.741961   88.926674  \n",
       "2019-12-27 02:00:00  1015.497472   89.218264  \n",
       "2019-12-27 03:00:00  1016.132999   87.789679  \n",
       "2019-12-27 04:00:00  1016.339882   85.491328  \n",
       "...                          ...         ...  \n",
       "2019-12-31 19:00:00  1017.797084   88.847012  \n",
       "2019-12-31 20:00:00  1017.345761   89.004545  \n",
       "2019-12-31 21:00:00  1017.000499   89.629996  \n",
       "2019-12-31 22:00:00  1016.905041   90.575723  \n",
       "2019-12-31 23:00:00  1017.063898   91.422182  \n",
       "\n",
       "[120 rows x 6 columns]"
      ]
     },
     "execution_count": 613,
     "metadata": {},
     "output_type": "execute_result"
    }
   ],
   "source": [
    "predicted"
   ]
  },
  {
   "cell_type": "markdown",
   "metadata": {},
   "source": [
    "<B><U>Actual Test Values"
   ]
  },
  {
   "cell_type": "code",
   "execution_count": 484,
   "metadata": {},
   "outputs": [],
   "source": [
    "actual_i = revert_i.append(missing_part).append(df_test_2)\n",
    "actual_i = actual_i.cumsum()"
   ]
  },
  {
   "cell_type": "code",
   "execution_count": 485,
   "metadata": {},
   "outputs": [],
   "source": [
    "actual_ii = revert_ii.append(actual_i)\n",
    "actual_ii = actual_ii.cumsum()"
   ]
  },
  {
   "cell_type": "code",
   "execution_count": 486,
   "metadata": {},
   "outputs": [],
   "source": [
    "actual = actual_ii.loc[df_test_2.index[0]:]"
   ]
  },
  {
   "cell_type": "markdown",
   "metadata": {},
   "source": [
    "### FOR SOURCE-1 AND IOT DATA (DF_TRAIN_1 AND DF_TEST_1)"
   ]
  },
  {
   "cell_type": "code",
   "execution_count": 372,
   "metadata": {},
   "outputs": [
    {
     "name": "stderr",
     "output_type": "stream",
     "text": [
      "C:\\Users\\sidew\\anaconda3\\lib\\site-packages\\statsmodels\\tsa\\base\\tsa_model.py:159: ValueWarning: No frequency information was provided, so inferred frequency H will be used.\n",
      "  warnings.warn('No frequency information was'\n"
     ]
    }
   ],
   "source": [
    "model1 = VAR(df_train_1)"
   ]
  },
  {
   "cell_type": "code",
   "execution_count": 375,
   "metadata": {
    "collapsed": true
   },
   "outputs": [
    {
     "data": {
      "text/html": [
       "<table class=\"simpletable\">\n",
       "<caption>VAR Order Selection (* highlights the minimums)</caption>\n",
       "<tr>\n",
       "   <td></td>      <th>AIC</th>         <th>BIC</th>         <th>FPE</th>        <th>HQIC</th>    \n",
       "</tr>\n",
       "<tr>\n",
       "  <th>0</th>  <td>     12.18</td>  <td>     12.18</td>  <td> 1.939e+05</td>  <td>     12.18</td> \n",
       "</tr>\n",
       "<tr>\n",
       "  <th>1</th>  <td>     11.54</td>  <td>     11.57</td>  <td> 1.026e+05</td>  <td>     11.55</td> \n",
       "</tr>\n",
       "<tr>\n",
       "  <th>2</th>  <td>     10.63</td>  <td>     10.70</td>  <td> 4.149e+04</td>  <td>     10.65</td> \n",
       "</tr>\n",
       "<tr>\n",
       "  <th>3</th>  <td>     10.37</td>  <td>     10.46</td>  <td> 3.188e+04</td>  <td>     10.40</td> \n",
       "</tr>\n",
       "<tr>\n",
       "  <th>4</th>  <td>     9.910</td>  <td>     10.03</td>  <td> 2.012e+04</td>  <td>     9.952</td> \n",
       "</tr>\n",
       "<tr>\n",
       "  <th>5</th>  <td>     9.808</td>  <td>     9.961</td>  <td> 1.818e+04</td>  <td>     9.860</td> \n",
       "</tr>\n",
       "<tr>\n",
       "  <th>6</th>  <td>     9.498</td>  <td>     9.680</td>  <td> 1.333e+04</td>  <td>     9.560</td> \n",
       "</tr>\n",
       "<tr>\n",
       "  <th>7</th>  <td>     9.335</td>  <td>     9.546</td>  <td> 1.132e+04</td>  <td>     9.407</td> \n",
       "</tr>\n",
       "<tr>\n",
       "  <th>8</th>  <td>     9.150</td>  <td>     9.391</td>  <td>     9417.</td>  <td>     9.232</td> \n",
       "</tr>\n",
       "<tr>\n",
       "  <th>9</th>  <td>     9.027</td>  <td>     9.297</td>  <td>     8321.</td>  <td>     9.119</td> \n",
       "</tr>\n",
       "<tr>\n",
       "  <th>10</th> <td>     8.897</td>  <td>     9.197</td>  <td>     7312.</td>  <td>     9.000</td> \n",
       "</tr>\n",
       "<tr>\n",
       "  <th>11</th> <td>     8.766</td>  <td>     9.096</td>  <td>     6413.</td>  <td>     8.879</td> \n",
       "</tr>\n",
       "<tr>\n",
       "  <th>12</th> <td>     8.642</td>  <td>     9.001</td>  <td>     5665.</td>  <td>     8.765</td> \n",
       "</tr>\n",
       "<tr>\n",
       "  <th>13</th> <td>     8.545</td>  <td>     8.934</td>  <td>     5141.</td>  <td>     8.678</td> \n",
       "</tr>\n",
       "<tr>\n",
       "  <th>14</th> <td>     8.430</td>  <td>     8.848</td>  <td>     4583.</td>  <td>     8.573</td> \n",
       "</tr>\n",
       "<tr>\n",
       "  <th>15</th> <td>     8.329</td>  <td>     8.776</td>  <td>     4141.</td>  <td>     8.481</td> \n",
       "</tr>\n",
       "<tr>\n",
       "  <th>16</th> <td>     8.228</td>  <td>     8.705</td>  <td>     3743.</td>  <td>     8.390</td> \n",
       "</tr>\n",
       "<tr>\n",
       "  <th>17</th> <td>     8.141</td>  <td>     8.647</td>  <td>     3431.</td>  <td>     8.313</td> \n",
       "</tr>\n",
       "<tr>\n",
       "  <th>18</th> <td>     8.076</td>  <td>     8.612</td>  <td>     3217.</td>  <td>     8.259</td> \n",
       "</tr>\n",
       "<tr>\n",
       "  <th>19</th> <td>     8.027</td>  <td>     8.592</td>  <td>     3062.</td>  <td>     8.220</td> \n",
       "</tr>\n",
       "<tr>\n",
       "  <th>20</th> <td>     7.915</td>  <td>     8.510</td>  <td>     2737.</td>  <td>     8.118</td> \n",
       "</tr>\n",
       "<tr>\n",
       "  <th>21</th> <td>     7.770</td>  <td>     8.394</td>  <td>     2368.</td>  <td>     7.983</td> \n",
       "</tr>\n",
       "<tr>\n",
       "  <th>22</th> <td>     7.181</td>  <td>     7.835</td>  <td>     1315.</td>  <td>     7.404</td> \n",
       "</tr>\n",
       "<tr>\n",
       "  <th>23</th> <td>     6.934</td>  <td>     7.617</td>  <td>     1026.</td>  <td>     7.167</td> \n",
       "</tr>\n",
       "<tr>\n",
       "  <th>24</th> <td>     6.885*</td> <td>     7.598*</td> <td>     977.6*</td> <td>     7.128*</td>\n",
       "</tr>\n",
       "</table>"
      ],
      "text/plain": [
       "<class 'statsmodels.iolib.table.SimpleTable'>"
      ]
     },
     "execution_count": 375,
     "metadata": {},
     "output_type": "execute_result"
    }
   ],
   "source": [
    "x = model1.select_order(maxlags=24)\n",
    "x.summary()"
   ]
  },
  {
   "cell_type": "markdown",
   "metadata": {},
   "source": [
    "### ORDER SELECTED BASED ON DROP in AIC - 6. CORRELATION MATRIX OBTAINED"
   ]
  },
  {
   "cell_type": "code",
   "execution_count": 376,
   "metadata": {
    "collapsed": true
   },
   "outputs": [
    {
     "data": {
      "text/plain": [
       "  Summary of Regression Results   \n",
       "==================================\n",
       "Model:                         VAR\n",
       "Method:                        OLS\n",
       "Date:           Sun, 08, Nov, 2020\n",
       "Time:                     08:38:46\n",
       "--------------------------------------------------------------------\n",
       "No. of Equations:         6.00000    BIC:                    7.59827\n",
       "Nobs:                     8614.00    HQIC:                   7.12831\n",
       "Log likelihood:          -102121.    FPE:                    977.627\n",
       "AIC:                      6.88511    Det(Omega_mle):         884.454\n",
       "--------------------------------------------------------------------\n",
       "Results for equation iot_temp_d\n",
       "==================================================================================\n",
       "                     coefficient       std. error           t-stat            prob\n",
       "----------------------------------------------------------------------------------\n",
       "const                  -0.000081         0.006522           -0.012           0.990\n",
       "L1.iot_temp_d          -0.061637         0.013386           -4.605           0.000\n",
       "L1.iot_pres_d           0.000318         0.000160            1.982           0.048\n",
       "L1.iot_hum_d            0.011262         0.002076            5.423           0.000\n",
       "L1.src1_temp_d          0.051893         0.011941            4.346           0.000\n",
       "L1.src1_pres_d          0.001306         0.015504            0.084           0.933\n",
       "L1.src1_hum_d          -0.007375         0.004278           -1.724           0.085\n",
       "L2.iot_temp_d          -0.950989         0.013409          -70.923           0.000\n",
       "L2.iot_pres_d           0.000299         0.000164            1.819           0.069\n",
       "L2.iot_hum_d            0.006698         0.002069            3.236           0.001\n",
       "L2.src1_temp_d          0.055648         0.015280            3.642           0.000\n",
       "L2.src1_pres_d          0.020054         0.024163            0.830           0.407\n",
       "L2.src1_hum_d          -0.013344         0.004978           -2.681           0.007\n",
       "L3.iot_temp_d          -0.159808         0.017571           -9.095           0.000\n",
       "L3.iot_pres_d           0.000780         0.000214            3.649           0.000\n",
       "L3.iot_hum_d            0.010544         0.002708            3.894           0.000\n",
       "L3.src1_temp_d          0.050651         0.018365            2.758           0.006\n",
       "L3.src1_pres_d          0.021181         0.030571            0.693           0.488\n",
       "L3.src1_hum_d          -0.011207         0.005415           -2.070           0.038\n",
       "L4.iot_temp_d          -0.894770         0.017441          -51.303           0.000\n",
       "L4.iot_pres_d           0.000385         0.000219            1.757           0.079\n",
       "L4.iot_hum_d            0.009696         0.002677            3.622           0.000\n",
       "L4.src1_temp_d          0.053044         0.020756            2.556           0.011\n",
       "L4.src1_pres_d          0.038240         0.035416            1.080           0.280\n",
       "L4.src1_hum_d          -0.005281         0.005768           -0.916           0.360\n",
       "L5.iot_temp_d          -0.239783         0.020253          -11.840           0.000\n",
       "L5.iot_pres_d           0.001089         0.000251            4.345           0.000\n",
       "L5.iot_hum_d            0.010481         0.003108            3.372           0.001\n",
       "L5.src1_temp_d          0.070098         0.022817            3.072           0.002\n",
       "L5.src1_pres_d          0.044426         0.039294            1.131           0.258\n",
       "L5.src1_hum_d          -0.008852         0.006032           -1.468           0.142\n",
       "L6.iot_temp_d          -0.799697         0.020282          -39.429           0.000\n",
       "L6.iot_pres_d           0.000434         0.000258            1.685           0.092\n",
       "L6.iot_hum_d            0.015117         0.003104            4.869           0.000\n",
       "L6.src1_temp_d          0.065101         0.024551            2.652           0.008\n",
       "L6.src1_pres_d          0.051176         0.042652            1.200           0.230\n",
       "L6.src1_hum_d          -0.018244         0.006244           -2.922           0.003\n",
       "L7.iot_temp_d          -0.264926         0.022139          -11.967           0.000\n",
       "L7.iot_pres_d           0.001238         0.000273            4.534           0.000\n",
       "L7.iot_hum_d            0.010904         0.003409            3.198           0.001\n",
       "L7.src1_temp_d          0.046829         0.026084            1.795           0.073\n",
       "L7.src1_pres_d          0.047824         0.046100            1.037           0.300\n",
       "L7.src1_hum_d          -0.015652         0.006434           -2.433           0.015\n",
       "L8.iot_temp_d          -0.705999         0.022172          -31.842           0.000\n",
       "L8.iot_pres_d           0.000368         0.000278            1.323           0.186\n",
       "L8.iot_hum_d            0.020233         0.003410            5.934           0.000\n",
       "L8.src1_temp_d          0.015896         0.027389            0.580           0.562\n",
       "L8.src1_pres_d          0.075675         0.049492            1.529           0.126\n",
       "L8.src1_hum_d          -0.021003         0.006601           -3.182           0.001\n",
       "L9.iot_temp_d          -0.306557         0.022930          -13.369           0.000\n",
       "L9.iot_pres_d           0.001248         0.000288            4.332           0.000\n",
       "L9.iot_hum_d            0.009390         0.003585            2.619           0.009\n",
       "L9.src1_temp_d          0.003357         0.028491            0.118           0.906\n",
       "L9.src1_pres_d          0.071347         0.052323            1.364           0.173\n",
       "L9.src1_hum_d          -0.018848         0.006731           -2.800           0.005\n",
       "L10.iot_temp_d         -0.698883         0.022903          -30.515           0.000\n",
       "L10.iot_pres_d          0.000116         0.000293            0.396           0.692\n",
       "L10.iot_hum_d           0.016536         0.003582            4.617           0.000\n",
       "L10.src1_temp_d        -0.019041         0.029358           -0.649           0.517\n",
       "L10.src1_pres_d         0.046146         0.054544            0.846           0.398\n",
       "L10.src1_hum_d         -0.014480         0.006812           -2.126           0.034\n",
       "L11.iot_temp_d         -0.323562         0.023227          -13.930           0.000\n",
       "L11.iot_pres_d          0.001059         0.000297            3.561           0.000\n",
       "L11.iot_hum_d           0.009046         0.003660            2.472           0.013\n",
       "L11.src1_temp_d        -0.055497         0.029957           -1.853           0.064\n",
       "L11.src1_pres_d         0.044722         0.056088            0.797           0.425\n",
       "L11.src1_hum_d         -0.016663         0.006851           -2.432           0.015\n",
       "L12.iot_temp_d         -0.641814         0.023285          -27.563           0.000\n",
       "L12.iot_pres_d          0.000358         0.000298            1.201           0.230\n",
       "L12.iot_hum_d           0.016309         0.003660            4.456           0.000\n",
       "L12.src1_temp_d        -0.071049         0.030224           -2.351           0.019\n",
       "L12.src1_pres_d         0.075120         0.057024            1.317           0.188\n",
       "L12.src1_hum_d         -0.030264         0.006855           -4.415           0.000\n",
       "L13.iot_temp_d         -0.338375         0.023311          -14.516           0.000\n",
       "L13.iot_pres_d          0.000979         0.000298            3.291           0.001\n",
       "L13.iot_hum_d           0.009524         0.003663            2.600           0.009\n",
       "L13.src1_temp_d        -0.116117         0.030229           -3.841           0.000\n",
       "L13.src1_pres_d         0.093393         0.056941            1.640           0.101\n",
       "L13.src1_hum_d         -0.035306         0.006855           -5.150           0.000\n",
       "L14.iot_temp_d         -0.632171         0.023365          -27.056           0.000\n",
       "L14.iot_pres_d          0.000316         0.000298            1.058           0.290\n",
       "L14.iot_hum_d           0.015374         0.003667            4.192           0.000\n",
       "L14.src1_temp_d        -0.103127         0.029977           -3.440           0.001\n",
       "L14.src1_pres_d         0.073967         0.055809            1.325           0.185\n",
       "L14.src1_hum_d         -0.035487         0.006844           -5.185           0.000\n",
       "L15.iot_temp_d         -0.350496         0.023000          -15.239           0.000\n",
       "L15.iot_pres_d          0.000860         0.000294            2.930           0.003\n",
       "L15.iot_hum_d           0.010967         0.003597            3.049           0.002\n",
       "L15.src1_temp_d        -0.107693         0.029384           -3.665           0.000\n",
       "L15.src1_pres_d         0.071053         0.054073            1.314           0.189\n",
       "L15.src1_hum_d         -0.037977         0.006811           -5.576           0.000\n",
       "L16.iot_temp_d         -0.564844         0.023079          -24.475           0.000\n",
       "L16.iot_pres_d          0.000304         0.000289            1.051           0.293\n",
       "L16.iot_hum_d           0.016359         0.003599            4.545           0.000\n",
       "L16.src1_temp_d        -0.084204         0.028478           -2.957           0.003\n",
       "L16.src1_pres_d         0.082901         0.051755            1.602           0.109\n",
       "L16.src1_hum_d         -0.012133         0.006743           -1.799           0.072\n",
       "L17.iot_temp_d         -0.337382         0.022234          -15.174           0.000\n",
       "L17.iot_pres_d          0.000790         0.000278            2.839           0.005\n",
       "L17.iot_hum_d           0.008631         0.003427            2.518           0.012\n",
       "L17.src1_temp_d        -0.106173         0.027407           -3.874           0.000\n",
       "L17.src1_pres_d         0.047848         0.048858            0.979           0.327\n",
       "L17.src1_hum_d         -0.014152         0.006622           -2.137           0.033\n",
       "L18.iot_temp_d         -0.498997         0.022299          -22.378           0.000\n",
       "L18.iot_pres_d          0.000357         0.000274            1.305           0.192\n",
       "L18.iot_hum_d           0.016048         0.003418            4.695           0.000\n",
       "L18.src1_temp_d        -0.129122         0.026107           -4.946           0.000\n",
       "L18.src1_pres_d         0.013435         0.045477            0.295           0.768\n",
       "L18.src1_hum_d         -0.012853         0.006456           -1.991           0.047\n",
       "L19.iot_temp_d         -0.335470         0.020400          -16.444           0.000\n",
       "L19.iot_pres_d          0.000523         0.000258            2.026           0.043\n",
       "L19.iot_hum_d           0.007089         0.003116            2.275           0.023\n",
       "L19.src1_temp_d        -0.115186         0.024585           -4.685           0.000\n",
       "L19.src1_pres_d         0.009453         0.042076            0.225           0.822\n",
       "L19.src1_hum_d         -0.015545         0.006259           -2.484           0.013\n",
       "L20.iot_temp_d         -0.476532         0.020442          -23.311           0.000\n",
       "L20.iot_pres_d          0.000127         0.000252            0.507           0.613\n",
       "L20.iot_hum_d           0.016421         0.003113            5.275           0.000\n",
       "L20.src1_temp_d        -0.099049         0.022835           -4.338           0.000\n",
       "L20.src1_pres_d         0.038011         0.038777            0.980           0.327\n",
       "L20.src1_hum_d         -0.012695         0.006055           -2.097           0.036\n",
       "L21.iot_temp_d         -0.324200         0.017530          -18.494           0.000\n",
       "L21.iot_pres_d          0.000072         0.000220            0.326           0.744\n",
       "L21.iot_hum_d           0.010070         0.002681            3.757           0.000\n",
       "L21.src1_temp_d        -0.073482         0.020782           -3.536           0.000\n",
       "L21.src1_pres_d         0.024921         0.034924            0.714           0.475\n",
       "L21.src1_hum_d         -0.013138         0.005805           -2.263           0.024\n",
       "L22.iot_temp_d         -0.450759         0.017732          -25.421           0.000\n",
       "L22.iot_pres_d         -0.000412         0.000215           -1.917           0.055\n",
       "L22.iot_hum_d           0.011057         0.002705            4.088           0.000\n",
       "L22.src1_temp_d        -0.055968         0.018414           -3.039           0.002\n",
       "L22.src1_pres_d        -0.019766         0.030033           -0.658           0.510\n",
       "L22.src1_hum_d         -0.001596         0.005464           -0.292           0.770\n",
       "L23.iot_temp_d         -0.191994         0.013422          -14.305           0.000\n",
       "L23.iot_pres_d          0.000138         0.000165            0.834           0.404\n",
       "L23.iot_hum_d           0.002904         0.002066            1.405           0.160\n",
       "L23.src1_temp_d        -0.033011         0.015316           -2.155           0.031\n",
       "L23.src1_pres_d        -0.031360         0.023800           -1.318           0.188\n",
       "L23.src1_hum_d          0.009851         0.005012            1.965           0.049\n",
       "L24.iot_temp_d         -0.026510         0.013508           -1.963           0.050\n",
       "L24.iot_pres_d          0.000037         0.000161            0.227           0.820\n",
       "L24.iot_hum_d           0.006653         0.002071            3.213           0.001\n",
       "L24.src1_temp_d        -0.008389         0.011988           -0.700           0.484\n",
       "L24.src1_pres_d        -0.002335         0.015372           -0.152           0.879\n",
       "L24.src1_hum_d          0.009333         0.004291            2.175           0.030\n",
       "==================================================================================\n",
       "\n",
       "Results for equation iot_pres_d\n",
       "==================================================================================\n",
       "                     coefficient       std. error           t-stat            prob\n",
       "----------------------------------------------------------------------------------\n",
       "const                   0.030413         0.444547            0.068           0.945\n",
       "L1.iot_temp_d          -6.599892         0.912460           -7.233           0.000\n",
       "L1.iot_pres_d          -0.259829         0.010935          -23.761           0.000\n",
       "L1.iot_hum_d           -0.634733         0.141542           -4.484           0.000\n",
       "L1.src1_temp_d         -0.465766         0.813941           -0.572           0.567\n",
       "L1.src1_pres_d          2.945170         1.056860            2.787           0.005\n",
       "L1.src1_hum_d           0.358707         0.291609            1.230           0.219\n",
       "L2.iot_temp_d          -3.390854         0.914008           -3.710           0.000\n",
       "L2.iot_pres_d          -0.912512         0.011198          -81.486           0.000\n",
       "L2.iot_hum_d           -0.218355         0.141067           -1.548           0.122\n",
       "L2.src1_temp_d          0.138080         1.041585            0.133           0.895\n",
       "L2.src1_pres_d          4.059368         1.647053            2.465           0.014\n",
       "L2.src1_hum_d           0.290067         0.339305            0.855           0.393\n",
       "L3.iot_temp_d          -9.605576         1.197721           -8.020           0.000\n",
       "L3.iot_pres_d          -0.446748         0.014568          -30.666           0.000\n",
       "L3.iot_hum_d           -0.878593         0.184561           -4.760           0.000\n",
       "L3.src1_temp_d          1.254401         1.251875            1.002           0.316\n",
       "L3.src1_pres_d          4.575993         2.083909            2.196           0.028\n",
       "L3.src1_hum_d           0.646914         0.369086            1.753           0.080\n",
       "L4.iot_temp_d          -7.678249         1.188856           -6.459           0.000\n",
       "L4.iot_pres_d          -0.844294         0.014942          -56.503           0.000\n",
       "L4.iot_hum_d           -0.703640         0.182459           -3.856           0.000\n",
       "L4.src1_temp_d          1.640393         1.414825            1.159           0.246\n",
       "L4.src1_pres_d          5.608611         2.414149            2.323           0.020\n",
       "L4.src1_hum_d           0.847832         0.393205            2.156           0.031\n",
       "L5.iot_temp_d         -10.379137         1.380537           -7.518           0.000\n",
       "L5.iot_pres_d          -0.534903         0.017090          -31.299           0.000\n",
       "L5.iot_hum_d           -0.946541         0.211868           -4.468           0.000\n",
       "L5.src1_temp_d          2.244467         1.555319            1.443           0.149\n",
       "L5.src1_pres_d          5.009910         2.678505            1.870           0.061\n",
       "L5.src1_hum_d           0.831715         0.411156            2.023           0.043\n",
       "L6.iot_temp_d         -11.036985         1.382523           -7.983           0.000\n",
       "L6.iot_pres_d          -0.728586         0.017575          -41.456           0.000\n",
       "L6.iot_hum_d           -1.018642         0.211615           -4.814           0.000\n",
       "L6.src1_temp_d          1.973613         1.673546            1.179           0.238\n",
       "L6.src1_pres_d          4.965252         2.907411            1.708           0.088\n",
       "L6.src1_hum_d           0.899488         0.425622            2.113           0.035\n",
       "L7.iot_temp_d         -12.585856         1.509089           -8.340           0.000\n",
       "L7.iot_pres_d          -0.560320         0.018613          -30.104           0.000\n",
       "L7.iot_hum_d           -1.202752         0.232393           -5.176           0.000\n",
       "L7.src1_temp_d          2.343973         1.778041            1.318           0.187\n",
       "L7.src1_pres_d          5.325947         3.142395            1.695           0.090\n",
       "L7.src1_hum_d           0.921445         0.438567            2.101           0.036\n",
       "L8.iot_temp_d         -12.774760         1.511337           -8.453           0.000\n",
       "L8.iot_pres_d          -0.697359         0.018946          -36.809           0.000\n",
       "L8.iot_hum_d           -1.183144         0.232430           -5.090           0.000\n",
       "L8.src1_temp_d          1.628921         1.867014            0.872           0.383\n",
       "L8.src1_pres_d          5.320505         3.373611            1.577           0.115\n",
       "L8.src1_hum_d           0.895039         0.449985            1.989           0.047\n",
       "L9.iot_temp_d         -12.372446         1.563042           -7.916           0.000\n",
       "L9.iot_pres_d          -0.635904         0.019632          -32.391           0.000\n",
       "L9.iot_hum_d           -1.153297         0.244370           -4.719           0.000\n",
       "L9.src1_temp_d          2.105439         1.942100            1.084           0.278\n",
       "L9.src1_pres_d          7.222588         3.566602            2.025           0.043\n",
       "L9.src1_hum_d           1.123886         0.458796            2.450           0.014\n",
       "L10.iot_temp_d        -13.144188         1.561200           -8.419           0.000\n",
       "L10.iot_pres_d         -0.684795         0.019994          -34.250           0.000\n",
       "L10.iot_hum_d          -1.299893         0.244157           -5.324           0.000\n",
       "L10.src1_temp_d         2.882581         2.001171            1.440           0.150\n",
       "L10.src1_pres_d         8.790860         3.718048            2.364           0.018\n",
       "L10.src1_hum_d          1.086840         0.464347            2.341           0.019\n",
       "L11.iot_temp_d        -11.273202         1.583291           -7.120           0.000\n",
       "L11.iot_pres_d         -0.598498         0.020277          -29.517           0.000\n",
       "L11.iot_hum_d          -1.222643         0.249489           -4.901           0.000\n",
       "L11.src1_temp_d         2.747279         2.042021            1.345           0.179\n",
       "L11.src1_pres_d        12.206814         3.823240            3.193           0.001\n",
       "L11.src1_hum_d          0.180703         0.466987            0.387           0.699\n",
       "L12.iot_temp_d        -13.208465         1.587256           -8.322           0.000\n",
       "L12.iot_pres_d         -0.681045         0.020299          -33.550           0.000\n",
       "L12.iot_hum_d          -1.350956         0.249506           -5.415           0.000\n",
       "L12.src1_temp_d         2.291926         2.060230            1.112           0.266\n",
       "L12.src1_pres_d        15.960366         3.887071            4.106           0.000\n",
       "L12.src1_hum_d          0.233670         0.467252            0.500           0.617\n",
       "L13.iot_temp_d        -11.779591         1.588974           -7.413           0.000\n",
       "L13.iot_pres_d         -0.605253         0.020281          -29.844           0.000\n",
       "L13.iot_hum_d          -1.258832         0.249699           -5.041           0.000\n",
       "L13.src1_temp_d         1.747620         2.060591            0.848           0.396\n",
       "L13.src1_pres_d        16.215542         3.881439            4.178           0.000\n",
       "L13.src1_hum_d          0.162624         0.467270            0.348           0.728\n",
       "L14.iot_temp_d        -11.473038         1.592717           -7.203           0.000\n",
       "L14.iot_pres_d         -0.620665         0.020335          -30.522           0.000\n",
       "L14.iot_hum_d          -1.065040         0.249977           -4.261           0.000\n",
       "L14.src1_temp_d         2.118159         2.043382            1.037           0.300\n",
       "L14.src1_pres_d        13.809574         3.804232            3.630           0.000\n",
       "L14.src1_hum_d          0.369117         0.466531            0.791           0.429\n",
       "L15.iot_temp_d        -10.754552         1.567781           -6.860           0.000\n",
       "L15.iot_pres_d         -0.553610         0.020017          -27.658           0.000\n",
       "L15.iot_hum_d          -1.142776         0.245224           -4.660           0.000\n",
       "L15.src1_temp_d         1.281940         2.002949            0.640           0.522\n",
       "L15.src1_pres_d        11.746077         3.685885            3.187           0.001\n",
       "L15.src1_hum_d          0.133832         0.464250            0.288           0.773\n",
       "L16.iot_temp_d        -10.829678         1.573179           -6.884           0.000\n",
       "L16.iot_pres_d         -0.524680         0.019718          -26.609           0.000\n",
       "L16.iot_hum_d          -1.070143         0.245336           -4.362           0.000\n",
       "L16.src1_temp_d        -2.262475         1.941228           -1.165           0.244\n",
       "L16.src1_pres_d         7.072456         3.527919            2.005           0.045\n",
       "L16.src1_hum_d         -0.770793         0.459672           -1.677           0.094\n",
       "L17.iot_temp_d         -9.203317         1.515607           -6.072           0.000\n",
       "L17.iot_pres_d         -0.480773         0.018970          -25.344           0.000\n",
       "L17.iot_hum_d          -0.780684         0.233605           -3.342           0.001\n",
       "L17.src1_temp_d        -1.196780         1.868196           -0.641           0.522\n",
       "L17.src1_pres_d         2.105331         3.330437            0.632           0.527\n",
       "L17.src1_hum_d         -0.342786         0.451420           -0.759           0.448\n",
       "L18.iot_temp_d         -9.825232         1.520002           -6.464           0.000\n",
       "L18.iot_pres_d         -0.489847         0.018666          -26.242           0.000\n",
       "L18.iot_hum_d          -0.937398         0.232971           -4.024           0.000\n",
       "L18.src1_temp_d        -1.160745         1.779605           -0.652           0.514\n",
       "L18.src1_pres_d        -1.520347         3.099969           -0.490           0.624\n",
       "L18.src1_hum_d          0.142025         0.440082            0.323           0.747\n",
       "L19.iot_temp_d         -7.196304         1.390594           -5.175           0.000\n",
       "L19.iot_pres_d         -0.412406         0.017599          -23.433           0.000\n",
       "L19.iot_hum_d          -0.368483         0.212400           -1.735           0.083\n",
       "L19.src1_temp_d        -1.970962         1.675877           -1.176           0.240\n",
       "L19.src1_pres_d        -5.090725         2.868111           -1.775           0.076\n",
       "L19.src1_hum_d          0.296560         0.426623            0.695           0.487\n",
       "L20.iot_temp_d         -7.305909         1.393436           -5.243           0.000\n",
       "L20.iot_pres_d         -0.400825         0.017151          -23.371           0.000\n",
       "L20.iot_hum_d          -0.664142         0.212194           -3.130           0.002\n",
       "L20.src1_temp_d        -1.106707         1.556577           -0.711           0.477\n",
       "L20.src1_pres_d        -8.699935         2.643268           -3.291           0.001\n",
       "L20.src1_hum_d          0.495407         0.412746            1.200           0.230\n",
       "L21.iot_temp_d         -5.851568         1.194931           -4.897           0.000\n",
       "L21.iot_pres_d         -0.357214         0.015002          -23.811           0.000\n",
       "L21.iot_hum_d          -0.343075         0.182730           -1.877           0.060\n",
       "L21.src1_temp_d        -1.407738         1.416616           -0.994           0.320\n",
       "L21.src1_pres_d       -10.866188         2.380619           -4.564           0.000\n",
       "L21.src1_hum_d         -0.142776         0.395732           -0.361           0.718\n",
       "L22.iot_temp_d         -5.738175         1.208704           -4.747           0.000\n",
       "L22.iot_pres_d         -0.334666         0.014655          -22.836           0.000\n",
       "L22.iot_hum_d          -0.283932         0.184355           -1.540           0.124\n",
       "L22.src1_temp_d        -0.207905         1.255193           -0.166           0.868\n",
       "L22.src1_pres_d       -10.946736         2.047181           -5.347           0.000\n",
       "L22.src1_hum_d         -0.130025         0.372462           -0.349           0.727\n",
       "L23.iot_temp_d         -3.840780         0.914883           -4.198           0.000\n",
       "L23.iot_pres_d         -0.154528         0.011250          -13.736           0.000\n",
       "L23.iot_hum_d          -0.296344         0.140854           -2.104           0.035\n",
       "L23.src1_temp_d        -0.328424         1.043990           -0.315           0.753\n",
       "L23.src1_pres_d        -7.215235         1.622326           -4.447           0.000\n",
       "L23.src1_hum_d          0.021423         0.341650            0.063           0.950\n",
       "L24.iot_temp_d         -4.444594         0.920774           -4.827           0.000\n",
       "L24.iot_pres_d         -0.044796         0.010971           -4.083           0.000\n",
       "L24.iot_hum_d          -0.289344         0.141147           -2.050           0.040\n",
       "L24.src1_temp_d         0.322923         0.817198            0.395           0.693\n",
       "L24.src1_pres_d        -1.799848         1.047853           -1.718           0.086\n",
       "L24.src1_hum_d         -0.017318         0.292511           -0.059           0.953\n",
       "==================================================================================\n",
       "\n",
       "Results for equation iot_hum_d\n",
       "==================================================================================\n",
       "                     coefficient       std. error           t-stat            prob\n",
       "----------------------------------------------------------------------------------\n",
       "const                  -0.000808         0.041750           -0.019           0.985\n",
       "L1.iot_temp_d          -0.860396         0.085694          -10.040           0.000\n",
       "L1.iot_pres_d          -0.000028         0.001027           -0.027           0.979\n",
       "L1.iot_hum_d           -0.237521         0.013293          -17.868           0.000\n",
       "L1.src1_temp_d         -0.188046         0.076441           -2.460           0.014\n",
       "L1.src1_pres_d          0.041016         0.099255            0.413           0.679\n",
       "L1.src1_hum_d           0.044787         0.027387            1.635           0.102\n",
       "L2.iot_temp_d          -0.205941         0.085839           -2.399           0.016\n",
       "L2.iot_pres_d           0.000927         0.001052            0.881           0.378\n",
       "L2.iot_hum_d           -1.026816         0.013248          -77.505           0.000\n",
       "L2.src1_temp_d         -0.249319         0.097820           -2.549           0.011\n",
       "L2.src1_pres_d         -0.024412         0.154683           -0.158           0.875\n",
       "L2.src1_hum_d           0.059103         0.031866            1.855           0.064\n",
       "L3.iot_temp_d          -0.928912         0.112484           -8.258           0.000\n",
       "L3.iot_pres_d          -0.000242         0.001368           -0.177           0.860\n",
       "L3.iot_hum_d           -0.338847         0.017333          -19.549           0.000\n",
       "L3.src1_temp_d         -0.304854         0.117570           -2.593           0.010\n",
       "L3.src1_pres_d          0.063595         0.195710            0.325           0.745\n",
       "L3.src1_hum_d           0.015576         0.034663            0.449           0.653\n",
       "L4.iot_temp_d          -0.172109         0.111651           -1.541           0.123\n",
       "L4.iot_pres_d           0.002235         0.001403            1.593           0.111\n",
       "L4.iot_hum_d           -0.992471         0.017136          -57.919           0.000\n",
       "L4.src1_temp_d         -0.259334         0.132873           -1.952           0.051\n",
       "L4.src1_pres_d         -0.079948         0.226725           -0.353           0.724\n",
       "L4.src1_hum_d           0.016412         0.036928            0.444           0.657\n",
       "L5.iot_temp_d          -0.913489         0.129653           -7.046           0.000\n",
       "L5.iot_pres_d          -0.000593         0.001605           -0.369           0.712\n",
       "L5.iot_hum_d           -0.426898         0.019898          -21.455           0.000\n",
       "L5.src1_temp_d         -0.290333         0.146068           -1.988           0.047\n",
       "L5.src1_pres_d         -0.137899         0.251552           -0.548           0.584\n",
       "L5.src1_hum_d           0.052845         0.038614            1.369           0.171\n",
       "L6.iot_temp_d          -0.397794         0.129840           -3.064           0.002\n",
       "L6.iot_pres_d           0.002416         0.001651            1.464           0.143\n",
       "L6.iot_hum_d           -0.971166         0.019874          -48.866           0.000\n",
       "L6.src1_temp_d         -0.174169         0.157171           -1.108           0.268\n",
       "L6.src1_pres_d         -0.123830         0.273050           -0.454           0.650\n",
       "L6.src1_hum_d           0.087652         0.039972            2.193           0.028\n",
       "L7.iot_temp_d          -0.935892         0.141726           -6.604           0.000\n",
       "L7.iot_pres_d           0.000172         0.001748            0.099           0.922\n",
       "L7.iot_hum_d           -0.469474         0.021825          -21.511           0.000\n",
       "L7.src1_temp_d         -0.282295         0.166985           -1.691           0.091\n",
       "L7.src1_pres_d          0.050450         0.295118            0.171           0.864\n",
       "L7.src1_hum_d           0.026507         0.041188            0.644           0.520\n",
       "L8.iot_temp_d          -0.367869         0.141937           -2.592           0.010\n",
       "L8.iot_pres_d           0.002406         0.001779            1.352           0.176\n",
       "L8.iot_hum_d           -0.911868         0.021829          -41.774           0.000\n",
       "L8.src1_temp_d         -0.162296         0.175341           -0.926           0.355\n",
       "L8.src1_pres_d         -0.050118         0.316833           -0.158           0.874\n",
       "L8.src1_hum_d           0.052752         0.042260            1.248           0.212\n",
       "L9.iot_temp_d          -0.736709         0.146793           -5.019           0.000\n",
       "L9.iot_pres_d           0.001132         0.001844            0.614           0.539\n",
       "L9.iot_hum_d           -0.478732         0.022950          -20.860           0.000\n",
       "L9.src1_temp_d          0.050932         0.182392            0.279           0.780\n",
       "L9.src1_pres_d         -0.048699         0.334958           -0.145           0.884\n",
       "L9.src1_hum_d           0.029551         0.043088            0.686           0.493\n",
       "L10.iot_temp_d         -0.327010         0.146620           -2.230           0.026\n",
       "L10.iot_pres_d          0.003477         0.001878            1.852           0.064\n",
       "L10.iot_hum_d          -0.860415         0.022930          -37.524           0.000\n",
       "L10.src1_temp_d         0.091534         0.187940            0.487           0.626\n",
       "L10.src1_pres_d         0.083221         0.349181            0.238           0.812\n",
       "L10.src1_hum_d          0.025572         0.043609            0.586           0.558\n",
       "L11.iot_temp_d         -0.820692         0.148695           -5.519           0.000\n",
       "L11.iot_pres_d          0.000894         0.001904            0.469           0.639\n",
       "L11.iot_hum_d          -0.507272         0.023431          -21.650           0.000\n",
       "L11.src1_temp_d         0.312362         0.191777            1.629           0.103\n",
       "L11.src1_pres_d         0.100663         0.359060            0.280           0.779\n",
       "L11.src1_hum_d          0.041635         0.043857            0.949           0.342\n",
       "L12.iot_temp_d         -0.494560         0.149067           -3.318           0.001\n",
       "L12.iot_pres_d          0.002746         0.001906            1.440           0.150\n",
       "L12.iot_hum_d          -0.810903         0.023432          -34.606           0.000\n",
       "L12.src1_temp_d         0.290267         0.193487            1.500           0.134\n",
       "L12.src1_pres_d        -0.027430         0.365055           -0.075           0.940\n",
       "L12.src1_hum_d          0.118234         0.043882            2.694           0.007\n",
       "L13.iot_temp_d         -0.741546         0.149229           -4.969           0.000\n",
       "L13.iot_pres_d          0.001114         0.001905            0.585           0.559\n",
       "L13.iot_hum_d          -0.516116         0.023451          -22.009           0.000\n",
       "L13.src1_temp_d         0.640038         0.193521            3.307           0.001\n",
       "L13.src1_pres_d        -0.062286         0.364526           -0.171           0.864\n",
       "L13.src1_hum_d          0.066323         0.043884            1.511           0.131\n",
       "L14.iot_temp_d         -0.501404         0.149580           -3.352           0.001\n",
       "L14.iot_pres_d          0.002803         0.001910            1.468           0.142\n",
       "L14.iot_hum_d          -0.779875         0.023477          -33.219           0.000\n",
       "L14.src1_temp_d         0.353057         0.191904            1.840           0.066\n",
       "L14.src1_pres_d         0.065929         0.357275            0.185           0.854\n",
       "L14.src1_hum_d          0.035736         0.043814            0.816           0.415\n",
       "L15.iot_temp_d         -0.672515         0.147238           -4.568           0.000\n",
       "L15.iot_pres_d          0.001980         0.001880            1.053           0.292\n",
       "L15.iot_hum_d          -0.498954         0.023030          -21.665           0.000\n",
       "L15.src1_temp_d         0.316935         0.188107            1.685           0.092\n",
       "L15.src1_pres_d         0.174181         0.346160            0.503           0.615\n",
       "L15.src1_hum_d          0.123748         0.043600            2.838           0.005\n",
       "L16.iot_temp_d         -0.470663         0.147745           -3.186           0.001\n",
       "L16.iot_pres_d          0.003071         0.001852            1.658           0.097\n",
       "L16.iot_hum_d          -0.719506         0.023041          -31.228           0.000\n",
       "L16.src1_temp_d         0.155631         0.182311            0.854           0.393\n",
       "L16.src1_pres_d         0.062745         0.331325            0.189           0.850\n",
       "L16.src1_hum_d          0.019756         0.043170            0.458           0.647\n",
       "L17.iot_temp_d         -0.537061         0.142338           -3.773           0.000\n",
       "L17.iot_pres_d          0.002604         0.001782            1.461           0.144\n",
       "L17.iot_hum_d          -0.466256         0.021939          -21.252           0.000\n",
       "L17.src1_temp_d         0.333455         0.175452            1.901           0.057\n",
       "L17.src1_pres_d         0.174440         0.312778            0.558           0.577\n",
       "L17.src1_hum_d          0.068667         0.042395            1.620           0.105\n",
       "L18.iot_temp_d         -0.475627         0.142751           -3.332           0.001\n",
       "L18.iot_pres_d          0.003135         0.001753            1.788           0.074\n",
       "L18.iot_hum_d          -0.682641         0.021880          -31.200           0.000\n",
       "L18.src1_temp_d         0.574892         0.167132            3.440           0.001\n",
       "L18.src1_pres_d         0.167147         0.291134            0.574           0.566\n",
       "L18.src1_hum_d          0.057463         0.041330            1.390           0.164\n",
       "L19.iot_temp_d         -0.241053         0.130598           -1.846           0.065\n",
       "L19.iot_pres_d          0.003681         0.001653            2.227           0.026\n",
       "L19.iot_hum_d          -0.425165         0.019948          -21.314           0.000\n",
       "L19.src1_temp_d         0.494782         0.157390            3.144           0.002\n",
       "L19.src1_pres_d        -0.048296         0.269359           -0.179           0.858\n",
       "L19.src1_hum_d          0.084189         0.040066            2.101           0.036\n",
       "L20.iot_temp_d         -0.449621         0.130865           -3.436           0.001\n",
       "L20.iot_pres_d          0.003957         0.001611            2.456           0.014\n",
       "L20.iot_hum_d          -0.641073         0.019928          -32.169           0.000\n",
       "L20.src1_temp_d         0.457988         0.146186            3.133           0.002\n",
       "L20.src1_pres_d        -0.205730         0.248243           -0.829           0.407\n",
       "L20.src1_hum_d          0.029869         0.038763            0.771           0.441\n",
       "L21.iot_temp_d         -0.106448         0.112222           -0.949           0.343\n",
       "L21.iot_pres_d          0.004154         0.001409            2.948           0.003\n",
       "L21.iot_hum_d          -0.397820         0.017161          -23.182           0.000\n",
       "L21.src1_temp_d         0.323919         0.133042            2.435           0.015\n",
       "L21.src1_pres_d        -0.107533         0.223576           -0.481           0.631\n",
       "L21.src1_hum_d          0.057586         0.037165            1.549           0.121\n",
       "L22.iot_temp_d         -0.373871         0.113515           -3.294           0.001\n",
       "L22.iot_pres_d          0.003771         0.001376            2.740           0.006\n",
       "L22.iot_hum_d          -0.584029         0.017314          -33.732           0.000\n",
       "L22.src1_temp_d         0.307977         0.117882            2.613           0.009\n",
       "L22.src1_pres_d         0.057528         0.192261            0.299           0.765\n",
       "L22.src1_hum_d         -0.008082         0.034980           -0.231           0.817\n",
       "L23.iot_temp_d          0.063097         0.085921            0.734           0.463\n",
       "L23.iot_pres_d          0.002512         0.001057            2.377           0.017\n",
       "L23.iot_hum_d          -0.227367         0.013228          -17.188           0.000\n",
       "L23.src1_temp_d         0.144205         0.098046            1.471           0.141\n",
       "L23.src1_pres_d        -0.001032         0.152361           -0.007           0.995\n",
       "L23.src1_hum_d         -0.053493         0.032086           -1.667           0.095\n",
       "L24.iot_temp_d         -0.133004         0.086475           -1.538           0.124\n",
       "L24.iot_pres_d          0.000958         0.001030            0.930           0.352\n",
       "L24.iot_hum_d          -0.086943         0.013256           -6.559           0.000\n",
       "L24.src1_temp_d         0.015445         0.076747            0.201           0.841\n",
       "L24.src1_pres_d        -0.144799         0.098409           -1.471           0.141\n",
       "L24.src1_hum_d         -0.030462         0.027471           -1.109           0.267\n",
       "==================================================================================\n",
       "\n",
       "Results for equation src1_temp_d\n",
       "==================================================================================\n",
       "                     coefficient       std. error           t-stat            prob\n",
       "----------------------------------------------------------------------------------\n",
       "const                  -0.000674         0.006370           -0.106           0.916\n",
       "L1.iot_temp_d           0.068147         0.013075            5.212           0.000\n",
       "L1.iot_pres_d           0.000035         0.000157            0.225           0.822\n",
       "L1.iot_hum_d           -0.000123         0.002028           -0.060           0.952\n",
       "L1.src1_temp_d         -0.821069         0.011663          -70.397           0.000\n",
       "L1.src1_pres_d         -0.038148         0.015144           -2.519           0.012\n",
       "L1.src1_hum_d          -0.018045         0.004179           -4.318           0.000\n",
       "L2.iot_temp_d           0.062678         0.013097            4.786           0.000\n",
       "L2.iot_pres_d           0.000088         0.000160            0.546           0.585\n",
       "L2.iot_hum_d            0.000977         0.002021            0.484           0.629\n",
       "L2.src1_temp_d         -0.909657         0.014925          -60.947           0.000\n",
       "L2.src1_pres_d         -0.092384         0.023602           -3.914           0.000\n",
       "L2.src1_hum_d          -0.029195         0.004862           -6.005           0.000\n",
       "L3.iot_temp_d           0.105194         0.017163            6.129           0.000\n",
       "L3.iot_pres_d           0.000198         0.000209            0.950           0.342\n",
       "L3.iot_hum_d           -0.001341         0.002645           -0.507           0.612\n",
       "L3.src1_temp_d         -0.870357         0.017939          -48.518           0.000\n",
       "L3.src1_pres_d         -0.110312         0.029862           -3.694           0.000\n",
       "L3.src1_hum_d          -0.039499         0.005289           -7.468           0.000\n",
       "L4.iot_temp_d           0.109485         0.017036            6.427           0.000\n",
       "L4.iot_pres_d           0.000418         0.000214            1.954           0.051\n",
       "L4.iot_hum_d            0.002045         0.002615            0.782           0.434\n",
       "L4.src1_temp_d         -0.892689         0.020274          -44.032           0.000\n",
       "L4.src1_pres_d         -0.140942         0.034594           -4.074           0.000\n",
       "L4.src1_hum_d          -0.028308         0.005634           -5.024           0.000\n",
       "L5.iot_temp_d           0.143457         0.019783            7.252           0.000\n",
       "L5.iot_pres_d           0.000603         0.000245            2.464           0.014\n",
       "L5.iot_hum_d           -0.000282         0.003036           -0.093           0.926\n",
       "L5.src1_temp_d         -0.883483         0.022287          -39.641           0.000\n",
       "L5.src1_pres_d         -0.155992         0.038382           -4.064           0.000\n",
       "L5.src1_hum_d          -0.024525         0.005892           -4.163           0.000\n",
       "L6.iot_temp_d           0.125725         0.019811            6.346           0.000\n",
       "L6.iot_pres_d           0.000635         0.000252            2.523           0.012\n",
       "L6.iot_hum_d            0.003981         0.003032            1.313           0.189\n",
       "L6.src1_temp_d         -0.892627         0.023981          -37.222           0.000\n",
       "L6.src1_pres_d         -0.093040         0.041662           -2.233           0.026\n",
       "L6.src1_hum_d          -0.025806         0.006099           -4.231           0.000\n",
       "L7.iot_temp_d           0.150446         0.021625            6.957           0.000\n",
       "L7.iot_pres_d           0.000873         0.000267            3.273           0.001\n",
       "L7.iot_hum_d           -0.000877         0.003330           -0.263           0.792\n",
       "L7.src1_temp_d         -0.884353         0.025479          -34.710           0.000\n",
       "L7.src1_pres_d         -0.064929         0.045029           -1.442           0.149\n",
       "L7.src1_hum_d          -0.026320         0.006284           -4.188           0.000\n",
       "L8.iot_temp_d           0.095606         0.021657            4.415           0.000\n",
       "L8.iot_pres_d           0.000776         0.000271            2.858           0.004\n",
       "L8.iot_hum_d           -0.001646         0.003331           -0.494           0.621\n",
       "L8.src1_temp_d         -0.873541         0.026754          -32.651           0.000\n",
       "L8.src1_pres_d         -0.064551         0.048342           -1.335           0.182\n",
       "L8.src1_hum_d          -0.026221         0.006448           -4.066           0.000\n",
       "L9.iot_temp_d           0.151957         0.022398            6.784           0.000\n",
       "L9.iot_pres_d           0.001010         0.000281            3.590           0.000\n",
       "L9.iot_hum_d           -0.000690         0.003502           -0.197           0.844\n",
       "L9.src1_temp_d         -0.876314         0.027829          -31.489           0.000\n",
       "L9.src1_pres_d         -0.067880         0.051108           -1.328           0.184\n",
       "L9.src1_hum_d          -0.014812         0.006574           -2.253           0.024\n",
       "L10.iot_temp_d          0.122569         0.022371            5.479           0.000\n",
       "L10.iot_pres_d          0.000854         0.000287            2.979           0.003\n",
       "L10.iot_hum_d           0.000560         0.003499            0.160           0.873\n",
       "L10.src1_temp_d        -0.828679         0.028676          -28.898           0.000\n",
       "L10.src1_pres_d        -0.007439         0.053278           -0.140           0.889\n",
       "L10.src1_hum_d         -0.019031         0.006654           -2.860           0.004\n",
       "L11.iot_temp_d          0.162468         0.022688            7.161           0.000\n",
       "L11.iot_pres_d          0.001025         0.000291            3.528           0.000\n",
       "L11.iot_hum_d          -0.000422         0.003575           -0.118           0.906\n",
       "L11.src1_temp_d        -0.793783         0.029261          -27.127           0.000\n",
       "L11.src1_pres_d         0.049129         0.054785            0.897           0.370\n",
       "L11.src1_hum_d         -0.018623         0.006692           -2.783           0.005\n",
       "L12.iot_temp_d          0.111429         0.022745            4.899           0.000\n",
       "L12.iot_pres_d          0.000809         0.000291            2.782           0.005\n",
       "L12.iot_hum_d          -0.002818         0.003575           -0.788           0.431\n",
       "L12.src1_temp_d        -0.779867         0.029522          -26.416           0.000\n",
       "L12.src1_pres_d         0.109770         0.055700            1.971           0.049\n",
       "L12.src1_hum_d         -0.014272         0.006696           -2.132           0.033\n",
       "L13.iot_temp_d          0.121024         0.022769            5.315           0.000\n",
       "L13.iot_pres_d          0.000791         0.000291            2.723           0.006\n",
       "L13.iot_hum_d          -0.002358         0.003578           -0.659           0.510\n",
       "L13.src1_temp_d        -0.727751         0.029527          -24.647           0.000\n",
       "L13.src1_pres_d         0.133802         0.055619            2.406           0.016\n",
       "L13.src1_hum_d         -0.009123         0.006696           -1.363           0.173\n",
       "L14.iot_temp_d          0.095496         0.022823            4.184           0.000\n",
       "L14.iot_pres_d          0.000708         0.000291            2.430           0.015\n",
       "L14.iot_hum_d           0.001296         0.003582            0.362           0.718\n",
       "L14.src1_temp_d        -0.678486         0.029281          -23.172           0.000\n",
       "L14.src1_pres_d         0.187016         0.054513            3.431           0.001\n",
       "L14.src1_hum_d         -0.002933         0.006685           -0.439           0.661\n",
       "L15.iot_temp_d          0.088209         0.022466            3.926           0.000\n",
       "L15.iot_pres_d          0.000709         0.000287            2.471           0.013\n",
       "L15.iot_hum_d          -0.004406         0.003514           -1.254           0.210\n",
       "L15.src1_temp_d        -0.664820         0.028701          -23.163           0.000\n",
       "L15.src1_pres_d         0.249440         0.052817            4.723           0.000\n",
       "L15.src1_hum_d         -0.001517         0.006653           -0.228           0.820\n",
       "L16.iot_temp_d          0.053173         0.022543            2.359           0.018\n",
       "L16.iot_pres_d          0.000646         0.000283            2.287           0.022\n",
       "L16.iot_hum_d          -0.000318         0.003516           -0.090           0.928\n",
       "L16.src1_temp_d        -0.615865         0.027817          -22.140           0.000\n",
       "L16.src1_pres_d         0.253198         0.050554            5.009           0.000\n",
       "L16.src1_hum_d          0.000801         0.006587            0.122           0.903\n",
       "L17.iot_temp_d          0.087732         0.021718            4.040           0.000\n",
       "L17.iot_pres_d          0.000781         0.000272            2.875           0.004\n",
       "L17.iot_hum_d           0.005193         0.003347            1.551           0.121\n",
       "L17.src1_temp_d        -0.579255         0.026770          -21.638           0.000\n",
       "L17.src1_pres_d         0.257228         0.047724            5.390           0.000\n",
       "L17.src1_hum_d         -0.003654         0.006469           -0.565           0.572\n",
       "L18.iot_temp_d          0.036640         0.021781            1.682           0.093\n",
       "L18.iot_pres_d          0.000511         0.000267            1.909           0.056\n",
       "L18.iot_hum_d           0.003970         0.003338            1.189           0.234\n",
       "L18.src1_temp_d        -0.559739         0.025501          -21.950           0.000\n",
       "L18.src1_pres_d         0.233851         0.044421            5.264           0.000\n",
       "L18.src1_hum_d          0.002573         0.006306            0.408           0.683\n",
       "L19.iot_temp_d          0.069908         0.019927            3.508           0.000\n",
       "L19.iot_pres_d          0.000473         0.000252            1.875           0.061\n",
       "L19.iot_hum_d           0.004063         0.003044            1.335           0.182\n",
       "L19.src1_temp_d        -0.510184         0.024015          -21.245           0.000\n",
       "L19.src1_pres_d         0.229269         0.041099            5.578           0.000\n",
       "L19.src1_hum_d         -0.003425         0.006113           -0.560           0.575\n",
       "L20.iot_temp_d          0.006408         0.019967            0.321           0.748\n",
       "L20.iot_pres_d          0.000176         0.000246            0.715           0.474\n",
       "L20.iot_hum_d           0.004352         0.003041            1.431           0.152\n",
       "L20.src1_temp_d        -0.461594         0.022305          -20.695           0.000\n",
       "L20.src1_pres_d         0.219266         0.037877            5.789           0.000\n",
       "L20.src1_hum_d         -0.000663         0.005914           -0.112           0.911\n",
       "L21.iot_temp_d          0.014593         0.017123            0.852           0.394\n",
       "L21.iot_pres_d          0.000116         0.000215            0.540           0.589\n",
       "L21.iot_hum_d           0.004145         0.002618            1.583           0.113\n",
       "L21.src1_temp_d        -0.373541         0.020300          -18.401           0.000\n",
       "L21.src1_pres_d         0.106243         0.034113            3.114           0.002\n",
       "L21.src1_hum_d         -0.006903         0.005671           -1.217           0.224\n",
       "L22.iot_temp_d         -0.015093         0.017320           -0.871           0.384\n",
       "L22.iot_pres_d         -0.000084         0.000210           -0.401           0.688\n",
       "L22.iot_hum_d           0.003059         0.002642            1.158           0.247\n",
       "L22.src1_temp_d        -0.324119         0.017986          -18.020           0.000\n",
       "L22.src1_pres_d         0.085838         0.029335            2.926           0.003\n",
       "L22.src1_hum_d          0.002775         0.005337            0.520           0.603\n",
       "L23.iot_temp_d          0.021625         0.013110            1.650           0.099\n",
       "L23.iot_pres_d         -0.000013         0.000161           -0.082           0.934\n",
       "L23.iot_hum_d           0.003633         0.002018            1.800           0.072\n",
       "L23.src1_temp_d        -0.234368         0.014960          -15.666           0.000\n",
       "L23.src1_pres_d         0.075322         0.023247            3.240           0.001\n",
       "L23.src1_hum_d          0.003507         0.004896            0.716           0.474\n",
       "L24.iot_temp_d         -0.007890         0.013194           -0.598           0.550\n",
       "L24.iot_pres_d         -0.000184         0.000157           -1.168           0.243\n",
       "L24.iot_hum_d          -0.000702         0.002023           -0.347           0.729\n",
       "L24.src1_temp_d        -0.085004         0.011710           -7.259           0.000\n",
       "L24.src1_pres_d         0.002229         0.015015            0.148           0.882\n",
       "L24.src1_hum_d         -0.009540         0.004192           -2.276           0.023\n",
       "==================================================================================\n",
       "\n",
       "Results for equation src1_pres_d\n",
       "==================================================================================\n",
       "                     coefficient       std. error           t-stat            prob\n",
       "----------------------------------------------------------------------------------\n",
       "const                   0.000050         0.004535            0.011           0.991\n",
       "L1.iot_temp_d          -0.011022         0.009308           -1.184           0.236\n",
       "L1.iot_pres_d           0.000606         0.000112            5.430           0.000\n",
       "L1.iot_hum_d            0.001133         0.001444            0.785           0.433\n",
       "L1.src1_temp_d         -0.029465         0.008303           -3.549           0.000\n",
       "L1.src1_pres_d         -1.256705         0.010781         -116.569           0.000\n",
       "L1.src1_hum_d           0.007785         0.002975            2.617           0.009\n",
       "L2.iot_temp_d          -0.015387         0.009324           -1.650           0.099\n",
       "L2.iot_pres_d           0.000739         0.000114            6.467           0.000\n",
       "L2.iot_hum_d           -0.001033         0.001439           -0.718           0.473\n",
       "L2.src1_temp_d         -0.046276         0.010625           -4.355           0.000\n",
       "L2.src1_pres_d         -1.324603         0.016801          -78.840           0.000\n",
       "L2.src1_hum_d          -0.000937         0.003461           -0.271           0.787\n",
       "L3.iot_temp_d          -0.022122         0.012218           -1.811           0.070\n",
       "L3.iot_pres_d           0.001215         0.000149            8.179           0.000\n",
       "L3.iot_hum_d            0.000362         0.001883            0.192           0.848\n",
       "L3.src1_temp_d         -0.099574         0.012770           -7.797           0.000\n",
       "L3.src1_pres_d         -1.303579         0.021257          -61.323           0.000\n",
       "L3.src1_hum_d           0.022551         0.003765            5.990           0.000\n",
       "L4.iot_temp_d           0.002783         0.012127            0.230           0.818\n",
       "L4.iot_pres_d           0.001177         0.000152            7.720           0.000\n",
       "L4.iot_hum_d            0.000545         0.001861            0.293           0.769\n",
       "L4.src1_temp_d         -0.129333         0.014432           -8.961           0.000\n",
       "L4.src1_pres_d         -1.284168         0.024626          -52.147           0.000\n",
       "L4.src1_hum_d           0.019619         0.004011            4.891           0.000\n",
       "L5.iot_temp_d          -0.018594         0.014083           -1.320           0.187\n",
       "L5.iot_pres_d           0.001219         0.000174            6.990           0.000\n",
       "L5.iot_hum_d            0.001167         0.002161            0.540           0.589\n",
       "L5.src1_temp_d         -0.135612         0.015865           -8.548           0.000\n",
       "L5.src1_pres_d         -1.269948         0.027323          -46.479           0.000\n",
       "L5.src1_hum_d           0.016119         0.004194            3.843           0.000\n",
       "L6.iot_temp_d          -0.034219         0.014103           -2.426           0.015\n",
       "L6.iot_pres_d           0.001170         0.000179            6.526           0.000\n",
       "L6.iot_hum_d           -0.002523         0.002159           -1.169           0.242\n",
       "L6.src1_temp_d         -0.143883         0.017071           -8.428           0.000\n",
       "L6.src1_pres_d         -1.332563         0.029658          -44.931           0.000\n",
       "L6.src1_hum_d           0.010955         0.004342            2.523           0.012\n",
       "L7.iot_temp_d          -0.048421         0.015394           -3.145           0.002\n",
       "L7.iot_pres_d           0.000887         0.000190            4.671           0.000\n",
       "L7.iot_hum_d           -0.003150         0.002371           -1.329           0.184\n",
       "L7.src1_temp_d         -0.152107         0.018137           -8.386           0.000\n",
       "L7.src1_pres_d         -1.330133         0.032055          -41.496           0.000\n",
       "L7.src1_hum_d           0.009044         0.004474            2.022           0.043\n",
       "L8.iot_temp_d          -0.028433         0.015417           -1.844           0.065\n",
       "L8.iot_pres_d           0.000906         0.000193            4.689           0.000\n",
       "L8.iot_hum_d           -0.001669         0.002371           -0.704           0.481\n",
       "L8.src1_temp_d         -0.169409         0.019045           -8.895           0.000\n",
       "L8.src1_pres_d         -1.306353         0.034413          -37.961           0.000\n",
       "L8.src1_hum_d           0.010814         0.004590            2.356           0.018\n",
       "L9.iot_temp_d          -0.064184         0.015944           -4.026           0.000\n",
       "L9.iot_pres_d           0.000837         0.000200            4.178           0.000\n",
       "L9.iot_hum_d           -0.004448         0.002493           -1.784           0.074\n",
       "L9.src1_temp_d         -0.140091         0.019811           -7.071           0.000\n",
       "L9.src1_pres_d         -1.266932         0.036382          -34.823           0.000\n",
       "L9.src1_hum_d           0.008281         0.004680            1.769           0.077\n",
       "L10.iot_temp_d         -0.038293         0.015925           -2.405           0.016\n",
       "L10.iot_pres_d          0.000810         0.000204            3.971           0.000\n",
       "L10.iot_hum_d          -0.001623         0.002491           -0.651           0.515\n",
       "L10.src1_temp_d        -0.151632         0.020413           -7.428           0.000\n",
       "L10.src1_pres_d        -1.202600         0.037927          -31.708           0.000\n",
       "L10.src1_hum_d          0.008739         0.004737            1.845           0.065\n",
       "L11.iot_temp_d         -0.062936         0.016151           -3.897           0.000\n",
       "L11.iot_pres_d          0.000789         0.000207            3.813           0.000\n",
       "L11.iot_hum_d          -0.004651         0.002545           -1.828           0.068\n",
       "L11.src1_temp_d        -0.141269         0.020830           -6.782           0.000\n",
       "L11.src1_pres_d        -1.140411         0.039000          -29.241           0.000\n",
       "L11.src1_hum_d          0.009461         0.004764            1.986           0.047\n",
       "L12.iot_temp_d         -0.014628         0.016191           -0.903           0.366\n",
       "L12.iot_pres_d          0.000745         0.000207            3.598           0.000\n",
       "L12.iot_hum_d          -0.001882         0.002545           -0.739           0.460\n",
       "L12.src1_temp_d        -0.130290         0.021016           -6.200           0.000\n",
       "L12.src1_pres_d        -1.007838         0.039651          -25.418           0.000\n",
       "L12.src1_hum_d          0.005913         0.004766            1.241           0.215\n",
       "L13.iot_temp_d         -0.059769         0.016209           -3.687           0.000\n",
       "L13.iot_pres_d          0.000993         0.000207            4.798           0.000\n",
       "L13.iot_hum_d          -0.007299         0.002547           -2.866           0.004\n",
       "L13.src1_temp_d        -0.111269         0.021020           -5.294           0.000\n",
       "L13.src1_pres_d        -0.895462         0.039594          -22.616           0.000\n",
       "L13.src1_hum_d         -0.001222         0.004767           -0.256           0.798\n",
       "L14.iot_temp_d         -0.052985         0.016247           -3.261           0.001\n",
       "L14.iot_pres_d          0.000866         0.000207            4.175           0.000\n",
       "L14.iot_hum_d          -0.004624         0.002550           -1.813           0.070\n",
       "L14.src1_temp_d        -0.085986         0.020844           -4.125           0.000\n",
       "L14.src1_pres_d        -0.829165         0.038806          -21.367           0.000\n",
       "L14.src1_hum_d         -0.001163         0.004759           -0.244           0.807\n",
       "L15.iot_temp_d         -0.077175         0.015993           -4.826           0.000\n",
       "L15.iot_pres_d          0.000884         0.000204            4.331           0.000\n",
       "L15.iot_hum_d          -0.006752         0.002501           -2.699           0.007\n",
       "L15.src1_temp_d        -0.091860         0.020432           -4.496           0.000\n",
       "L15.src1_pres_d        -0.768865         0.037599          -20.449           0.000\n",
       "L15.src1_hum_d         -0.000949         0.004736           -0.200           0.841\n",
       "L16.iot_temp_d         -0.042044         0.016048           -2.620           0.009\n",
       "L16.iot_pres_d          0.000633         0.000201            3.148           0.002\n",
       "L16.iot_hum_d          -0.003765         0.002503           -1.504           0.132\n",
       "L16.src1_temp_d        -0.073168         0.019802           -3.695           0.000\n",
       "L16.src1_pres_d        -0.720600         0.035987          -20.024           0.000\n",
       "L16.src1_hum_d          0.002742         0.004689            0.585           0.559\n",
       "L17.iot_temp_d         -0.059634         0.015460           -3.857           0.000\n",
       "L17.iot_pres_d          0.000580         0.000194            2.999           0.003\n",
       "L17.iot_hum_d          -0.005482         0.002383           -2.301           0.021\n",
       "L17.src1_temp_d        -0.067834         0.019057           -3.560           0.000\n",
       "L17.src1_pres_d        -0.675826         0.033973          -19.893           0.000\n",
       "L17.src1_hum_d          0.003801         0.004605            0.826           0.409\n",
       "L18.iot_temp_d         -0.026645         0.015505           -1.718           0.086\n",
       "L18.iot_pres_d          0.000370         0.000190            1.945           0.052\n",
       "L18.iot_hum_d          -0.003585         0.002376           -1.509           0.131\n",
       "L18.src1_temp_d        -0.040676         0.018153           -2.241           0.025\n",
       "L18.src1_pres_d        -0.751852         0.031622          -23.776           0.000\n",
       "L18.src1_hum_d         -0.002523         0.004489           -0.562           0.574\n",
       "L19.iot_temp_d         -0.050447         0.014185           -3.556           0.000\n",
       "L19.iot_pres_d          0.000181         0.000180            1.007           0.314\n",
       "L19.iot_hum_d          -0.004987         0.002167           -2.302           0.021\n",
       "L19.src1_temp_d        -0.033917         0.017095           -1.984           0.047\n",
       "L19.src1_pres_d        -0.737180         0.029257          -25.197           0.000\n",
       "L19.src1_hum_d          0.007609         0.004352            1.748           0.080\n",
       "L20.iot_temp_d         -0.022005         0.014214           -1.548           0.122\n",
       "L20.iot_pres_d          0.000148         0.000175            0.843           0.399\n",
       "L20.iot_hum_d          -0.003853         0.002165           -1.780           0.075\n",
       "L20.src1_temp_d        -0.031584         0.015878           -1.989           0.047\n",
       "L20.src1_pres_d        -0.727215         0.026963          -26.971           0.000\n",
       "L20.src1_hum_d          0.011278         0.004210            2.679           0.007\n",
       "L21.iot_temp_d         -0.040737         0.012189           -3.342           0.001\n",
       "L21.iot_pres_d         -0.000158         0.000153           -1.035           0.301\n",
       "L21.iot_hum_d          -0.005576         0.001864           -2.991           0.003\n",
       "L21.src1_temp_d        -0.015657         0.014451           -1.083           0.279\n",
       "L21.src1_pres_d        -0.667176         0.024284          -27.474           0.000\n",
       "L21.src1_hum_d          0.003733         0.004037            0.925           0.355\n",
       "L22.iot_temp_d         -0.020627         0.012330           -1.673           0.094\n",
       "L22.iot_pres_d         -0.000037         0.000149           -0.249           0.804\n",
       "L22.iot_hum_d          -0.002629         0.001881           -1.398           0.162\n",
       "L22.src1_temp_d        -0.015754         0.012804           -1.230           0.219\n",
       "L22.src1_pres_d        -0.603411         0.020883          -28.895           0.000\n",
       "L22.src1_hum_d          0.001705         0.003799            0.449           0.654\n",
       "L23.iot_temp_d         -0.020637         0.009332           -2.211           0.027\n",
       "L23.iot_pres_d         -0.000117         0.000115           -1.018           0.309\n",
       "L23.iot_hum_d          -0.002169         0.001437           -1.510           0.131\n",
       "L23.src1_temp_d        -0.002980         0.010649           -0.280           0.780\n",
       "L23.src1_pres_d        -0.450721         0.016549          -27.236           0.000\n",
       "L23.src1_hum_d          0.003018         0.003485            0.866           0.386\n",
       "L24.iot_temp_d         -0.003947         0.009393           -0.420           0.674\n",
       "L24.iot_pres_d         -0.000040         0.000112           -0.360           0.719\n",
       "L24.iot_hum_d          -0.000521         0.001440           -0.362           0.717\n",
       "L24.src1_temp_d        -0.014843         0.008336           -1.781           0.075\n",
       "L24.src1_pres_d        -0.165493         0.010689          -15.483           0.000\n",
       "L24.src1_hum_d          0.007323         0.002984            2.454           0.014\n",
       "==================================================================================\n",
       "\n",
       "Results for equation src1_hum_d\n",
       "==================================================================================\n",
       "                     coefficient       std. error           t-stat            prob\n",
       "----------------------------------------------------------------------------------\n",
       "const                  -0.001382         0.017794           -0.078           0.938\n",
       "L1.iot_temp_d          -0.031259         0.036524           -0.856           0.392\n",
       "L1.iot_pres_d           0.000888         0.000438            2.028           0.043\n",
       "L1.iot_hum_d           -0.001492         0.005666           -0.263           0.792\n",
       "L1.src1_temp_d          0.012248         0.032580            0.376           0.707\n",
       "L1.src1_pres_d         -0.098409         0.042304           -2.326           0.020\n",
       "L1.src1_hum_d          -0.599579         0.011673          -51.367           0.000\n",
       "L2.iot_temp_d          -0.066201         0.036586           -1.809           0.070\n",
       "L2.iot_pres_d           0.000350         0.000448            0.780           0.435\n",
       "L2.iot_hum_d           -0.001622         0.005647           -0.287           0.774\n",
       "L2.src1_temp_d          0.091483         0.041693            2.194           0.028\n",
       "L2.src1_pres_d         -0.179274         0.065928           -2.719           0.007\n",
       "L2.src1_hum_d          -0.507095         0.013582          -37.337           0.000\n",
       "L3.iot_temp_d          -0.059993         0.047942           -1.251           0.211\n",
       "L3.iot_pres_d           0.000748         0.000583            1.282           0.200\n",
       "L3.iot_hum_d           -0.002049         0.007388           -0.277           0.782\n",
       "L3.src1_temp_d         -0.021057         0.050110           -0.420           0.674\n",
       "L3.src1_pres_d         -0.377127         0.083415           -4.521           0.000\n",
       "L3.src1_hum_d          -0.477744         0.014774          -32.337           0.000\n",
       "L4.iot_temp_d          -0.146960         0.047588           -3.088           0.002\n",
       "L4.iot_pres_d           0.000235         0.000598            0.393           0.695\n",
       "L4.iot_hum_d           -0.012513         0.007303           -1.713           0.087\n",
       "L4.src1_temp_d          0.023051         0.056633            0.407           0.684\n",
       "L4.src1_pres_d         -0.354851         0.096634           -3.672           0.000\n",
       "L4.src1_hum_d          -0.478909         0.015739          -30.428           0.000\n",
       "L5.iot_temp_d          -0.087282         0.055260           -1.579           0.114\n",
       "L5.iot_pres_d          -0.000031         0.000684           -0.046           0.964\n",
       "L5.iot_hum_d           -0.004840         0.008481           -0.571           0.568\n",
       "L5.src1_temp_d         -0.018109         0.062256           -0.291           0.771\n",
       "L5.src1_pres_d         -0.342638         0.107215           -3.196           0.001\n",
       "L5.src1_hum_d          -0.484575         0.016458          -29.443           0.000\n",
       "L6.iot_temp_d          -0.128453         0.055340           -2.321           0.020\n",
       "L6.iot_pres_d           0.000591         0.000703            0.840           0.401\n",
       "L6.iot_hum_d           -0.016630         0.008471           -1.963           0.050\n",
       "L6.src1_temp_d         -0.074098         0.066989           -1.106           0.269\n",
       "L6.src1_pres_d         -0.431945         0.116378           -3.712           0.000\n",
       "L6.src1_hum_d          -0.505349         0.017037          -29.662           0.000\n",
       "L7.iot_temp_d          -0.005469         0.060406           -0.091           0.928\n",
       "L7.iot_pres_d          -0.000300         0.000745           -0.403           0.687\n",
       "L7.iot_hum_d            0.002443         0.009302            0.263           0.793\n",
       "L7.src1_temp_d         -0.078105         0.071172           -1.097           0.272\n",
       "L7.src1_pres_d         -0.426321         0.125784           -3.389           0.001\n",
       "L7.src1_hum_d          -0.495339         0.017555          -28.216           0.000\n",
       "L8.iot_temp_d          -0.019283         0.060496           -0.319           0.750\n",
       "L8.iot_pres_d           0.000113         0.000758            0.150           0.881\n",
       "L8.iot_hum_d            0.002258         0.009304            0.243           0.808\n",
       "L8.src1_temp_d         -0.155536         0.074733           -2.081           0.037\n",
       "L8.src1_pres_d         -0.410558         0.135039           -3.040           0.002\n",
       "L8.src1_hum_d          -0.504494         0.018012          -28.009           0.000\n",
       "L9.iot_temp_d           0.003003         0.062566            0.048           0.962\n",
       "L9.iot_pres_d          -0.000220         0.000786           -0.280           0.780\n",
       "L9.iot_hum_d            0.003008         0.009782            0.307           0.758\n",
       "L9.src1_temp_d         -0.182829         0.077738           -2.352           0.019\n",
       "L9.src1_pres_d         -0.399446         0.142764           -2.798           0.005\n",
       "L9.src1_hum_d          -0.509354         0.018365          -27.736           0.000\n",
       "L10.iot_temp_d          0.029011         0.062492            0.464           0.642\n",
       "L10.iot_pres_d         -0.000022         0.000800           -0.028           0.978\n",
       "L10.iot_hum_d           0.010804         0.009773            1.106           0.269\n",
       "L10.src1_temp_d        -0.207673         0.080103           -2.593           0.010\n",
       "L10.src1_pres_d        -0.540588         0.148826           -3.632           0.000\n",
       "L10.src1_hum_d         -0.498428         0.018587          -26.816           0.000\n",
       "L11.iot_temp_d         -0.013140         0.063376           -0.207           0.836\n",
       "L11.iot_pres_d         -0.000588         0.000812           -0.724           0.469\n",
       "L11.iot_hum_d           0.007235         0.009987            0.724           0.469\n",
       "L11.src1_temp_d        -0.235606         0.081738           -2.882           0.004\n",
       "L11.src1_pres_d        -0.648687         0.153037           -4.239           0.000\n",
       "L11.src1_hum_d         -0.490909         0.018693          -26.262           0.000\n",
       "L12.iot_temp_d          0.068777         0.063535            1.083           0.279\n",
       "L12.iot_pres_d         -0.001043         0.000813           -1.283           0.199\n",
       "L12.iot_hum_d           0.013924         0.009987            1.394           0.163\n",
       "L12.src1_temp_d        -0.250752         0.082467           -3.041           0.002\n",
       "L12.src1_pres_d        -0.770038         0.155592           -4.949           0.000\n",
       "L12.src1_hum_d         -0.490199         0.018703          -26.209           0.000\n",
       "L13.iot_temp_d          0.025940         0.063604            0.408           0.683\n",
       "L13.iot_pres_d         -0.000581         0.000812           -0.715           0.474\n",
       "L13.iot_hum_d           0.005936         0.009995            0.594           0.553\n",
       "L13.src1_temp_d        -0.293383         0.082481           -3.557           0.000\n",
       "L13.src1_pres_d        -0.768134         0.155366           -4.944           0.000\n",
       "L13.src1_hum_d         -0.487711         0.018704          -26.075           0.000\n",
       "L14.iot_temp_d          0.118529         0.063753            1.859           0.063\n",
       "L14.iot_pres_d         -0.001242         0.000814           -1.525           0.127\n",
       "L14.iot_hum_d           0.004073         0.010006            0.407           0.684\n",
       "L14.src1_temp_d        -0.275164         0.081793           -3.364           0.001\n",
       "L14.src1_pres_d        -0.777062         0.152276           -5.103           0.000\n",
       "L14.src1_hum_d         -0.482466         0.018674          -25.836           0.000\n",
       "L15.iot_temp_d          0.033262         0.062755            0.530           0.596\n",
       "L15.iot_pres_d         -0.001074         0.000801           -1.340           0.180\n",
       "L15.iot_hum_d          -0.000326         0.009816           -0.033           0.973\n",
       "L15.src1_temp_d        -0.193993         0.080174           -2.420           0.016\n",
       "L15.src1_pres_d        -0.779801         0.147539           -5.285           0.000\n",
       "L15.src1_hum_d         -0.474046         0.018583          -25.510           0.000\n",
       "L16.iot_temp_d          0.096070         0.062971            1.526           0.127\n",
       "L16.iot_pres_d         -0.000873         0.000789           -1.106           0.269\n",
       "L16.iot_hum_d          -0.008000         0.009820           -0.815           0.415\n",
       "L16.src1_temp_d        -0.220010         0.077704           -2.831           0.005\n",
       "L16.src1_pres_d        -0.726724         0.141216           -5.146           0.000\n",
       "L16.src1_hum_d         -0.446024         0.018400          -24.241           0.000\n",
       "L17.iot_temp_d          0.031600         0.060667            0.521           0.602\n",
       "L17.iot_pres_d         -0.001071         0.000759           -1.410           0.159\n",
       "L17.iot_hum_d          -0.005837         0.009351           -0.624           0.533\n",
       "L17.src1_temp_d        -0.195264         0.074780           -2.611           0.009\n",
       "L17.src1_pres_d        -0.668667         0.133311           -5.016           0.000\n",
       "L17.src1_hum_d         -0.397997         0.018069          -22.026           0.000\n",
       "L18.iot_temp_d          0.053155         0.060843            0.874           0.382\n",
       "L18.iot_pres_d         -0.000970         0.000747           -1.299           0.194\n",
       "L18.iot_hum_d          -0.012760         0.009325           -1.368           0.171\n",
       "L18.src1_temp_d        -0.117046         0.071234           -1.643           0.100\n",
       "L18.src1_pres_d        -0.643926         0.124086           -5.189           0.000\n",
       "L18.src1_hum_d         -0.412608         0.017616          -23.423           0.000\n",
       "L19.iot_temp_d         -0.032830         0.055663           -0.590           0.555\n",
       "L19.iot_pres_d         -0.001014         0.000704           -1.439           0.150\n",
       "L19.iot_hum_d          -0.004461         0.008502           -0.525           0.600\n",
       "L19.src1_temp_d        -0.091738         0.067082           -1.368           0.171\n",
       "L19.src1_pres_d        -0.669827         0.114805           -5.834           0.000\n",
       "L19.src1_hum_d         -0.367010         0.017077          -21.492           0.000\n",
       "L20.iot_temp_d          0.066766         0.055777            1.197           0.231\n",
       "L20.iot_pres_d         -0.000533         0.000687           -0.777           0.437\n",
       "L20.iot_hum_d          -0.011149         0.008494           -1.313           0.189\n",
       "L20.src1_temp_d        -0.052223         0.062307           -0.838           0.402\n",
       "L20.src1_pres_d        -0.623963         0.105805           -5.897           0.000\n",
       "L20.src1_hum_d         -0.324932         0.016521          -19.667           0.000\n",
       "L21.iot_temp_d         -0.005299         0.047831           -0.111           0.912\n",
       "L21.iot_pres_d         -0.000518         0.000601           -0.863           0.388\n",
       "L21.iot_hum_d          -0.006673         0.007314           -0.912           0.362\n",
       "L21.src1_temp_d        -0.098225         0.056704           -1.732           0.083\n",
       "L21.src1_pres_d        -0.324776         0.095292           -3.408           0.001\n",
       "L21.src1_hum_d         -0.263078         0.015840          -16.608           0.000\n",
       "L22.iot_temp_d          0.017784         0.048382            0.368           0.713\n",
       "L22.iot_pres_d         -0.000081         0.000587           -0.139           0.890\n",
       "L22.iot_hum_d          -0.006075         0.007379           -0.823           0.410\n",
       "L22.src1_temp_d         0.020260         0.050243            0.403           0.687\n",
       "L22.src1_pres_d        -0.265344         0.081945           -3.238           0.001\n",
       "L22.src1_hum_d         -0.227744         0.014909          -15.276           0.000\n",
       "L23.iot_temp_d         -0.053023         0.036621           -1.448           0.148\n",
       "L23.iot_pres_d         -0.000225         0.000450           -0.499           0.618\n",
       "L23.iot_hum_d          -0.002945         0.005638           -0.522           0.601\n",
       "L23.src1_temp_d         0.062168         0.041789            1.488           0.137\n",
       "L23.src1_pres_d        -0.162088         0.064939           -2.496           0.013\n",
       "L23.src1_hum_d         -0.195045         0.013676          -14.262           0.000\n",
       "L24.iot_temp_d          0.027517         0.036857            0.747           0.455\n",
       "L24.iot_pres_d          0.000350         0.000439            0.796           0.426\n",
       "L24.iot_hum_d           0.001391         0.005650            0.246           0.805\n",
       "L24.src1_temp_d        -0.137220         0.032711           -4.195           0.000\n",
       "L24.src1_pres_d         0.043985         0.041944            1.049           0.294\n",
       "L24.src1_hum_d         -0.007702         0.011709           -0.658           0.511\n",
       "==================================================================================\n",
       "\n",
       "Correlation matrix of residuals\n",
       "               iot_temp_d  iot_pres_d  iot_hum_d  src1_temp_d  src1_pres_d  src1_hum_d\n",
       "iot_temp_d       1.000000   -0.094952  -0.577021     0.063031    -0.006920   -0.045234\n",
       "iot_pres_d      -0.094952    1.000000   0.011572    -0.006788     0.061449    0.006575\n",
       "iot_hum_d       -0.577021    0.011572   1.000000    -0.026726     0.001582    0.023183\n",
       "src1_temp_d      0.063031   -0.006788  -0.026726     1.000000    -0.080042   -0.369408\n",
       "src1_pres_d     -0.006920    0.061449   0.001582    -0.080042     1.000000    0.076567\n",
       "src1_hum_d      -0.045234    0.006575   0.023183    -0.369408     0.076567    1.000000\n",
       "\n"
      ]
     },
     "execution_count": 376,
     "metadata": {},
     "output_type": "execute_result"
    }
   ],
   "source": [
    "model1_fitted = model1.fit(24)\n",
    "model1_fitted.summary()"
   ]
  },
  {
   "cell_type": "markdown",
   "metadata": {},
   "source": [
    " "
   ]
  },
  {
   "cell_type": "markdown",
   "metadata": {},
   "source": [
    "### CHECKING FOR CORRELATION IN RESIDUALS - NOTHING SIGNIFICANT (CENTRED AROUND 2) - GOOD MODEL"
   ]
  },
  {
   "cell_type": "markdown",
   "metadata": {},
   "source": [
    "### This indicates that the model has captured the time series efficiently and the errors are white noise for most part"
   ]
  },
  {
   "cell_type": "code",
   "execution_count": 377,
   "metadata": {},
   "outputs": [
    {
     "name": "stdout",
     "output_type": "stream",
     "text": [
      "iot_temp_d : 2.0\n",
      "iot_pres_d : 2.0\n",
      "iot_hum_d : 2.01\n",
      "src1_temp_d : 2.01\n",
      "src1_pres_d : 2.0\n",
      "src1_hum_d : 2.0\n"
     ]
    }
   ],
   "source": [
    "out1 = durbin_watson(model1_fitted.resid)\n",
    "\n",
    "for col, val in zip(df_train_1.columns, out):\n",
    "    print((col), ':', round(val, 2))"
   ]
  },
  {
   "cell_type": "markdown",
   "metadata": {},
   "source": [
    " "
   ]
  },
  {
   "cell_type": "markdown",
   "metadata": {},
   "source": [
    "<B><U>Predicting for the test set"
   ]
  },
  {
   "cell_type": "code",
   "execution_count": 378,
   "metadata": {},
   "outputs": [],
   "source": [
    "forecast_input1 = df_train_1.values[-24:]"
   ]
  },
  {
   "cell_type": "code",
   "execution_count": 379,
   "metadata": {},
   "outputs": [],
   "source": [
    "fc1 = model1_fitted.forecast(y=forecast_input1, steps=120)\n",
    "df_forecast1 = pd.DataFrame(fc1, index = df_diff.index[-120:], columns=df_train_1.columns)"
   ]
  },
  {
   "cell_type": "markdown",
   "metadata": {},
   "source": [
    " "
   ]
  },
  {
   "cell_type": "markdown",
   "metadata": {},
   "source": [
    "Putting together the first record of the series (missing due to differencing), the records until test set, and the predictions, to <B> obtain a preliminary df which can be cumulatively added up to undo the differencing "
   ]
  },
  {
   "cell_type": "code",
   "execution_count": 361,
   "metadata": {},
   "outputs": [],
   "source": [
    "revert1 = req_dff.reset_index(drop = False).iloc[0]\n",
    "revert11 = pd.DataFrame({'iot_temp_d':revert[1],'iot_pres_d':revert[2],'iot_hum_d':revert[3],'src1_temp_d':revert[-3],'src1_pres_d':revert[-2],'src1_hum_d':revert[-1]},index = [0])"
   ]
  },
  {
   "cell_type": "code",
   "execution_count": 362,
   "metadata": {},
   "outputs": [],
   "source": [
    "revert11['datetime'] = '2019-01-01 00:00:00'\n",
    "revert11 = revert11.set_index('datetime')\n",
    "missing_part1 = df_train_1[df_train_1.columns][:df_test_1.index[0]]"
   ]
  },
  {
   "cell_type": "code",
   "execution_count": 363,
   "metadata": {},
   "outputs": [],
   "source": [
    "rebuilt1 = revert11.append(missing_part1).append(df_forecast1)\n",
    "rebuilt1 = rebuilt1.cumsum()"
   ]
  },
  {
   "cell_type": "markdown",
   "metadata": {},
   "source": [
    "<B><U> restored predicted values"
   ]
  },
  {
   "cell_type": "code",
   "execution_count": 364,
   "metadata": {},
   "outputs": [],
   "source": [
    "predicted1 = rebuilt1.loc[df_test_1.index[0]:]"
   ]
  },
  {
   "cell_type": "markdown",
   "metadata": {},
   "source": [
    "<B><U> Actual test values"
   ]
  },
  {
   "cell_type": "code",
   "execution_count": 365,
   "metadata": {},
   "outputs": [],
   "source": [
    "actual1 = revert11.append(missing_part1).append(df_test_1)\n",
    "actual1 = actual1.cumsum()"
   ]
  },
  {
   "cell_type": "code",
   "execution_count": 366,
   "metadata": {},
   "outputs": [],
   "source": [
    "actual1 = actual1.loc[df_test_1.index[0]:]"
   ]
  },
  {
   "cell_type": "code",
   "execution_count": null,
   "metadata": {},
   "outputs": [],
   "source": []
  },
  {
   "cell_type": "markdown",
   "metadata": {},
   "source": [
    "## EVALUATION FOR SOURCE2-IOT"
   ]
  },
  {
   "cell_type": "code",
   "execution_count": 487,
   "metadata": {},
   "outputs": [
    {
     "name": "stdout",
     "output_type": "stream",
     "text": [
      "Forecast Accuracy of: iot_temp\n",
      "mape :  0.6819\n",
      "me :  -4.1243\n",
      "mae :  7.7545\n",
      "mpe :  0.0556\n",
      "rmse :  9.322\n",
      "corr :  0.0568\n",
      "minmax :  0.4533\n"
     ]
    }
   ],
   "source": [
    "print('Forecast Accuracy of: iot_temp')\n",
    "accuracy_prod = forecast_accuracy(predicted['iot_temp_d'].values, actual['iot_temp_d'])\n",
    "for k, v in accuracy_prod.items():\n",
    "    print(k, ': ', round(v,4))"
   ]
  },
  {
   "cell_type": "code",
   "execution_count": 342,
   "metadata": {},
   "outputs": [
    {
     "name": "stdout",
     "output_type": "stream",
     "text": [
      "Forecast Accuracy of: iot_pres\n",
      "mape :  0.0025\n",
      "me :  186.9993\n",
      "mae :  241.5518\n",
      "mpe :  0.0019\n",
      "rmse :  275.792\n",
      "corr :  0.1139\n",
      "minmax :  0.0025\n"
     ]
    }
   ],
   "source": [
    "print('Forecast Accuracy of: iot_pres')\n",
    "accuracy_prod = forecast_accuracy(predicted['iot_pres_d'].values, actual['iot_pres_d'])\n",
    "for k, v in accuracy_prod.items():\n",
    "    print(k, ': ', round(v,4))"
   ]
  },
  {
   "cell_type": "code",
   "execution_count": 381,
   "metadata": {},
   "outputs": [
    {
     "name": "stdout",
     "output_type": "stream",
     "text": [
      "Forecast Accuracy of: iot_pres\n",
      "mape :  0.0133\n",
      "me :  1307.058\n",
      "mae :  1307.058\n",
      "mpe :  0.0133\n",
      "rmse :  1447.3544\n",
      "corr :  -0.1334\n",
      "minmax :  0.0131\n"
     ]
    }
   ],
   "source": [
    "print('Forecast Accuracy of: iot_pres')\n",
    "accuracy_prod = forecast_accuracy(predicted['iot_pres_d'].values, actual['iot_pres_d'])\n",
    "for k, v in accuracy_prod.items():\n",
    "    print(k, ': ', round(v,4))"
   ]
  },
  {
   "cell_type": "code",
   "execution_count": 343,
   "metadata": {},
   "outputs": [
    {
     "name": "stdout",
     "output_type": "stream",
     "text": [
      "Forecast Accuracy of: iot_hum\n",
      "mape :  0.6291\n",
      "me :  16.6006\n",
      "mae :  22.0158\n",
      "mpe :  0.575\n",
      "rmse :  33.2402\n",
      "corr :  0.2904\n",
      "minmax :  0.2321\n"
     ]
    }
   ],
   "source": [
    "print('Forecast Accuracy of: iot_hum')\n",
    "accuracy_prod = forecast_accuracy(predicted['iot_hum_d'].values, actual['iot_hum_d'])\n",
    "for k, v in accuracy_prod.items():\n",
    "    print(k, ': ', round(v,4))"
   ]
  },
  {
   "cell_type": "code",
   "execution_count": 382,
   "metadata": {},
   "outputs": [
    {
     "name": "stdout",
     "output_type": "stream",
     "text": [
      "Forecast Accuracy of: iot_hum\n",
      "mape :  0.5361\n",
      "me :  1.6611\n",
      "mae :  23.8833\n",
      "mpe :  0.3119\n",
      "rmse :  29.1256\n",
      "corr :  0.2214\n",
      "minmax :  0.2739\n"
     ]
    }
   ],
   "source": [
    "print('Forecast Accuracy of: iot_hum')\n",
    "accuracy_prod = forecast_accuracy(predicted['iot_hum_d'].values, actual['iot_hum_d'])\n",
    "for k, v in accuracy_prod.items():\n",
    "    print(k, ': ', round(v,4))"
   ]
  },
  {
   "cell_type": "code",
   "execution_count": null,
   "metadata": {},
   "outputs": [],
   "source": []
  },
  {
   "cell_type": "code",
   "execution_count": 392,
   "metadata": {},
   "outputs": [
    {
     "data": {
      "image/png": "[encoded data removed]",
      "text/plain": [
       "<Figure size 1368x1080 with 2 Axes>"
      ]
     },
     "metadata": {
      "needs_background": "light"
     },
     "output_type": "display_data"
    }
   ],
   "source": [
    "f = plt.figure(figsize=(19, 15))\n",
    "plt.matshow(df_req[['iot_temp_d','iot_pres_d','iot_hum_d']].corr(), fignum=f.number)\n",
    "plt.xticks(range(3), ['iot_temp_d','iot_pres_d','iot_hum_d'], fontsize=14)\n",
    "plt.yticks(range(3), ['iot_temp_d','iot_pres_d','iot_hum_d'], fontsize=14)\n",
    "cb = plt.colorbar()\n",
    "cb.ax.tick_params(labelsize=14)\n",
    "plt.title('Correlation Matrix', fontsize=16);"
   ]
  }
 ],
 "metadata": {
  "kernelspec": {
   "display_name": "Python 3",
   "language": "python",
   "name": "python3"
  },
  "language_info": {
   "codemirror_mode": {
    "name": "ipython",
    "version": 3
   },
   "file_extension": ".py",
   "mimetype": "text/x-python",
   "name": "python",
   "nbconvert_exporter": "python",
   "pygments_lexer": "ipython3",
   "version": "3.8.3"
  }
 },
 "nbformat": 4,
 "nbformat_minor": 2
}
